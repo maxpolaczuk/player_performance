{
 "cells": [
  {
   "cell_type": "markdown",
   "metadata": {},
   "source": [
    "## CS:GO Player Form Prediction"
   ]
  },
  {
   "cell_type": "markdown",
   "metadata": {},
   "source": [
    "To accompany our article/blog, this notebook is designed to show how we can use the simple variables such as the number of kills and deaths a player has in a given game in order to predict how they \"should\" perform on their next game. We first do a bunch of preprocessing and data manipulation. Then we use a recurrent neural network (specifically LSTM) to predict our measure of player form. Our real model of player form incorporates many more variables that we have extracted from the demo files of professional games, which give greater insight into player form than kills/deaths alone.\n",
    "\n",
    "But anyway here is an open and fun way to look at using data to predict the outcome of professional CSGO matches"
   ]
  },
  {
   "cell_type": "code",
   "execution_count": 1,
   "metadata": {
    "collapsed": false
   },
   "outputs": [
    {
     "name": "stderr",
     "output_type": "stream",
     "text": [
      "WARNING (theano.configdefaults): g++ not detected ! Theano will be unable to execute optimized C-implementations (for both CPU and GPU) and will default to Python implementations. Performance will be severely degraded. To remove this warning, set Theano flags cxx to an empty string.\n"
     ]
    }
   ],
   "source": [
    "# Python imports\n",
    "import pandas as pd\n",
    "import numpy as np\n",
    "import csv\n",
    "import theano as th\n",
    "from theano import tensor as T\n"
   ]
  },
  {
   "cell_type": "markdown",
   "metadata": {},
   "source": [
    "*Le data imports* \n",
    "\n",
    "Clearly you need to have the correct \"matchdata\" csv file in the same directory as this notebook..."
   ]
  },
  {
   "cell_type": "code",
   "execution_count": 2,
   "metadata": {
    "collapsed": false
   },
   "outputs": [
    {
     "name": "stderr",
     "output_type": "stream",
     "text": [
      "C:\\Users\\Maximilian\\Anaconda3\\lib\\site-packages\\IPython\\core\\interactiveshell.py:2723: DtypeWarning: Columns (82,83,87) have mixed types. Specify dtype option on import or set low_memory=False.\n",
      "  interactivity=interactivity, compiler=compiler, result=result)\n"
     ]
    }
   ],
   "source": [
    "dat = pd.read_csv('matchdata.csv',encoding = \"ISO-8859-1\")"
   ]
  },
  {
   "cell_type": "markdown",
   "metadata": {},
   "source": [
    "### Variable Names...\n",
    "\n",
    "Here we can see a nice list of all the variables that our data gives us"
   ]
  },
  {
   "cell_type": "code",
   "execution_count": 3,
   "metadata": {
    "collapsed": false
   },
   "outputs": [
    {
     "data": {
      "text/plain": [
       "['Day',\n",
       " 'Match ID',\n",
       " 'Map',\n",
       " 'Team 1',\n",
       " 'Team 2',\n",
       " 'Winning Team',\n",
       " 'Score Team 1 as T',\n",
       " 'Score Team 2 as CT',\n",
       " 'Score Team 1 as CT',\n",
       " 'Score Team 2 as T',\n",
       " 'Player 1 Name',\n",
       " 'Player 1 UserName',\n",
       " 'Player 1 Kills',\n",
       " 'Player 1 Deaths',\n",
       " 'Player 1 KDA',\n",
       " 'Player 1 ADR',\n",
       " 'Player 2 Name',\n",
       " 'Player 2 UserName',\n",
       " 'Player 2 Kills',\n",
       " 'Player 2 Deaths',\n",
       " 'Player 2 KDA',\n",
       " 'Player 2 ADR',\n",
       " 'Player 3 Name',\n",
       " 'Player 3 UserName',\n",
       " 'Player 3 Kills',\n",
       " 'Player 3 Deaths',\n",
       " 'Player 3 KDA',\n",
       " 'Player 3 ADR',\n",
       " 'Player 4 Name',\n",
       " 'Player 4 UserName',\n",
       " 'Player 4 Kills',\n",
       " 'Player 4 Deaths',\n",
       " 'Player 4 KDA',\n",
       " 'Player 4 ADR',\n",
       " 'Player 5 Name',\n",
       " 'Player 5 UserName',\n",
       " 'Player 5 Kills',\n",
       " 'Player 5 Deaths',\n",
       " 'Player 5 KDA',\n",
       " 'Player 5 ADR',\n",
       " 'Player 6 Name',\n",
       " 'Player 6 UserName',\n",
       " 'Player 6 Kills',\n",
       " 'Player 6 Deaths',\n",
       " 'Player 6 KDA',\n",
       " 'Player 6 ADR',\n",
       " 'Player 7 Name',\n",
       " 'Player 7 UserName',\n",
       " 'Player 7 Kills',\n",
       " 'Player 7 Deaths',\n",
       " 'Player 7 KDA',\n",
       " 'Player 7 ADR',\n",
       " 'Player 8 Name',\n",
       " 'Player 8 UserName',\n",
       " 'Player 8 Kills',\n",
       " 'Player 8 Deaths',\n",
       " 'Player 8 KDA',\n",
       " 'Player 8 ADR',\n",
       " 'Player 9 Name',\n",
       " 'Player 9 UserName',\n",
       " 'Player 9 Kills',\n",
       " 'Player 9 Deaths',\n",
       " 'Player 9 KDA',\n",
       " 'Player 9 ADR',\n",
       " 'Player 10 Name',\n",
       " 'Player 10 UserName',\n",
       " 'Player 10 Kills',\n",
       " 'Player 10 Deaths',\n",
       " 'Player 10 KDA',\n",
       " 'Player 10 ADR',\n",
       " 'Player 11 Name',\n",
       " 'Player 11 UserName',\n",
       " 'Player 11 Kills',\n",
       " 'Player 11 Deaths',\n",
       " 'Player 11 KDA',\n",
       " 'Player 11 ADR',\n",
       " 'Player 12 Name',\n",
       " 'Player 12 UserName',\n",
       " 'Player 12 Kills',\n",
       " 'Player 12 Deaths',\n",
       " 'Player 12 KDA',\n",
       " 'Player 12 ADR',\n",
       " 'Unnamed: 82',\n",
       " 'Unnamed: 83',\n",
       " 'Unnamed: 84',\n",
       " 'Unnamed: 85',\n",
       " 'Unnamed: 86',\n",
       " 'Unnamed: 87']"
      ]
     },
     "execution_count": 3,
     "metadata": {},
     "output_type": "execute_result"
    }
   ],
   "source": [
    "list(dat.columns.values)"
   ]
  },
  {
   "cell_type": "code",
   "execution_count": 4,
   "metadata": {
    "collapsed": false
   },
   "outputs": [],
   "source": [
    "# Need a function that pulls out only a certain teams data:\n",
    "\n",
    "def team_data(team): # probably by index...\n",
    "    df = dat.loc[(dat.ix[:,3] == team) |  (dat.ix[:,4] == team) ]\n",
    "    return(df)\n",
    "\n",
    "# make a player data one...\n",
    "\n",
    "def player_data(player): # can define by indx later as well...\n",
    "    df = dat.loc[(dat.ix[:,11] == player) |  (dat.ix[:,17] == player)|  (dat.ix[:,23] == player)|  (dat.ix[:,29] == player)|  (dat.ix[:,35] == player)|  (dat.ix[:,41] == player) |  (dat.ix[:,47] == player) |  (dat.ix[:,53] == player) |  (dat.ix[:,59] == player) |  (dat.ix[:,65] == player)]\n",
    "    return(df)\n",
    "\n",
    "# make function that says which team a player is on (1 or 2)...\n",
    "def player_side(player, match): # match is the match # as integer\n",
    "\n",
    "    dato = player_data(player).reset_index(drop=True) \n",
    "    N = len(dato)\n",
    "    i = match\n",
    "    \n",
    "    side = []\n",
    "    # loop over each row...\n",
    "    if( (dato.ix[i,11] == player) |  (dato.ix[i,17] == player)|  (dato.ix[i,23] == player)|  (dato.ix[i,29] == player)|  (dato.ix[i,35] == player) ):\n",
    "        side = 1\n",
    "    elif( (dato.ix[i,41] == player) |  (dato.ix[i,47] == player) |  (dato.ix[i,53] == player) |  (dato.ix[i,59] == player) |  (dato.ix[i,65] == player) ):\n",
    "        side = 2\n",
    "    else:\n",
    "        side = 0\n",
    "    return(side)\n",
    "\n",
    "\n",
    "def team_score(player, match):\n",
    "    '''\n",
    "    Returns team scores, enemy scores and team deaths (TD)...\n",
    "    '''\n",
    "    \n",
    "    side = player_side(player, match)\n",
    "    dato = player_data(player).reset_index(drop=True) \n",
    "    i = match\n",
    "    if(side == 1):\n",
    "        teamscore = dato.ix[match,6] +dato.ix[match,8]\n",
    "        enemyscore = dato.ix[match,7] + dato.ix[match,9]\n",
    "        TK = (dato.ix[i,12]) + (dato.ix[i,18])+  (dato.ix[i,24])+(dato.ix[i,30])+ (dato.ix[i,36])\n",
    "        TD = (dato.ix[i,13] == player) + (dato.ix[i,19])+  (dato.ix[i,25])+(dato.ix[i,31])+ (dato.ix[i,37])\n",
    "        \n",
    "    elif(side ==2 ):\n",
    "        teamscore = dato.ix[match,7] +dato.ix[match,9]\n",
    "        enemyscore = dato.ix[match,6] +dato.ix[match,8]\n",
    "        TK = dato.ix[i,42] + (dato.ix[i,48])+  (dato.ix[i,54])+(dato.ix[i,60] )+ (dato.ix[i,66])\n",
    "        TD = dato.ix[i,43]+ (dato.ix[i,19])+  (dato.ix[i,55])+(dato.ix[i,61] )+ (dato.ix[i,67])\n",
    "        \n",
    "    else:\n",
    "        teamscore = \"ERROR\"\n",
    "        enemyscore = \"UNLUGGY UCE\"\n",
    "        \n",
    "        \n",
    "    return( teamscore, enemyscore, TK, TD)\n",
    "\n"
   ]
  },
  {
   "cell_type": "code",
   "execution_count": 6,
   "metadata": {
    "collapsed": false
   },
   "outputs": [
    {
     "name": "stdout",
     "output_type": "stream",
     "text": [
      "team score is: 16\n",
      "enemy score is: 7\n",
      "team kills are: 89.0\n",
      "team deaths are: 76.0\n"
     ]
    }
   ],
   "source": [
    "TS, ES, tk, td = team_score('GeT_RiGhT', 10)\n",
    "\n",
    "print('team score is:', TS )\n",
    "print('enemy score is:', ES )\n",
    "print('team kills are:', tk )\n",
    "print('team deaths are:', td)\n"
   ]
  },
  {
   "cell_type": "code",
   "execution_count": 18,
   "metadata": {
    "collapsed": false
   },
   "outputs": [],
   "source": [
    "'''\n",
    "get_metrics returns the players kills, KDR, teamscore, enemyscore, team kills and enemy kills at specified time...\n",
    "'''\n",
    "def get_metrics(player, match):\n",
    "    TS, ES, tk, td = team_score(player, match)\n",
    "    # get the new player \n",
    "    dato = player_data(player).reset_index(drop=True) \n",
    "    i = match\n",
    "    if( dato.ix[i,11] == player ):\n",
    "        kills = dato.ix[i,12]\n",
    "        deaths = dato.ix[i,13]\n",
    "        kd = dato.ix[i,12]/dato.ix[i,13]    \n",
    "    elif( dato.ix[i,17] == player ):\n",
    "        kills = dato.ix[i,18]\n",
    "        deaths = dato.ix[i,19]\n",
    "        kd = dato.ix[i,18]/dato.ix[i,19]\n",
    "    elif( dato.ix[i,23] == player ):\n",
    "        kills = dato.ix[i,24]    \n",
    "        deaths = dato.ix[i,25]\n",
    "        kd = dato.ix[i,24]/dato.ix[i,25]\n",
    "    elif( dato.ix[i,29] == player ):\n",
    "        kills = dato.ix[i,30]  \n",
    "        deaths = dato.ix[i,31]\n",
    "        kd = dato.ix[i,30]/dato.ix[i,31]\n",
    "    elif( dato.ix[i,35] == player ):\n",
    "        kills = dato.ix[i,36]\n",
    "        deaths = dato.ix[i,37]\n",
    "        kd = dato.ix[i,36]/dato.ix[i,37]\n",
    "    elif( dato.ix[i,41] == player ):\n",
    "        kills = dato.ix[i,42]    \n",
    "        deaths = dato.ix[i,43]\n",
    "        kd = dato.ix[i,42]/dato.ix[i,43]\n",
    "    elif( dato.ix[i,47] == player ):\n",
    "        kills = dato.ix[i,48]       \n",
    "        deaths = dato.ix[i,49]\n",
    "        kd = dato.ix[i,48]/dato.ix[i,49]\n",
    "    elif( dato.ix[i,53] == player ):\n",
    "        kills = dato.ix[i,54]      \n",
    "        deaths = dato.ix[i,55]\n",
    "        kd = dato.ix[i,54]/dato.ix[i,55]\n",
    "    elif( dato.ix[i,59] == player ):\n",
    "        kills = dato.ix[i,60] \n",
    "        deaths = dato.ix[i,61]\n",
    "        kd = dato.ix[i,60]/dato.ix[i,61]\n",
    "    elif( dato.ix[i,65] == player ):\n",
    "        kills = dato.ix[i,66] \n",
    "        deaths = dato.ix[i,67]\n",
    "        kd = dato.ix[i,66]/dato.ix[i,67]        \n",
    "     \n",
    "    k_TK = kills / tk\n",
    "    kDR_A = kd / (np.log(1+TS)*(TS - ES+1))\n",
    "    p_p = np.log(((kills*kills)/(deaths)+1))+np.log(((k_TK)*(kDR_A))/(deaths/td)+1)\n",
    "    \n",
    "    return(kills, deaths, kd, TS, ES, tk ,td, k_TK, kDR_A, p_p)            \n",
    "                \n",
    "'''\n",
    "Now make function that makes CSV/df for the player and their past performance...\n",
    "'''   \n",
    "\n",
    "def make_inputs(player): # uses the player and gets all inputs from this...\n",
    "    datta = player_data(player).reset_index(drop=True) \n",
    "    N = np.shape(datta)[0] # length of the data frame...\n",
    "    \n",
    "    # initialize the vectors...\n",
    "    kill = []\n",
    "    kdr = []\n",
    "    scorediff = []\n",
    "    kill_cont = [] # contribution of kills\n",
    "    death_cont = [] # contriubution of deaths\n",
    "    kdr_adjust = []\n",
    "    player_perf = []\n",
    "    \n",
    "    print(N)\n",
    "    \n",
    "    # loop over each row to get data:\n",
    "    for row in range(N):\n",
    "        k,d,KDR, TS,ES,tk,td,k_TK,kDR_A, p_p = get_metrics('GeT_RiGhT', row)\n",
    "        kill.append(k)\n",
    "        kdr.append(KDR)\n",
    "        scorediff.append(TS-ES)\n",
    "        kill_cont.append(k_TK)\n",
    "        death_cont.append(d/td)\n",
    "        kdr_adjust.append(kDR_A)\n",
    "        player_perf.append(p_p)\n",
    "        \n",
    "    # add all as columns to the dataframe...    \n",
    "    newdat = pd.DataFrame([kill,kdr,scorediff,kill_cont, death_cont, kdr_adjust, player_perf])\n",
    "    \n",
    "    # but data is a tensor - so turn into tensor\n",
    "    \n",
    "    return(newdat)"
   ]
  },
  {
   "cell_type": "code",
   "execution_count": 20,
   "metadata": {
    "collapsed": false
   },
   "outputs": [
    {
     "name": "stdout",
     "output_type": "stream",
     "text": [
      "40\n"
     ]
    },
    {
     "data": {
      "text/html": [
       "<div>\n",
       "<table border=\"1\" class=\"dataframe\">\n",
       "  <thead>\n",
       "    <tr style=\"text-align: right;\">\n",
       "      <th></th>\n",
       "      <th>0</th>\n",
       "      <th>1</th>\n",
       "      <th>2</th>\n",
       "      <th>3</th>\n",
       "      <th>4</th>\n",
       "      <th>5</th>\n",
       "      <th>6</th>\n",
       "      <th>7</th>\n",
       "      <th>8</th>\n",
       "      <th>9</th>\n",
       "      <th>...</th>\n",
       "      <th>30</th>\n",
       "      <th>31</th>\n",
       "      <th>32</th>\n",
       "      <th>33</th>\n",
       "      <th>34</th>\n",
       "      <th>35</th>\n",
       "      <th>36</th>\n",
       "      <th>37</th>\n",
       "      <th>38</th>\n",
       "      <th>39</th>\n",
       "    </tr>\n",
       "  </thead>\n",
       "  <tbody>\n",
       "    <tr>\n",
       "      <th>0</th>\n",
       "      <td>21.000000</td>\n",
       "      <td>15.000000</td>\n",
       "      <td>20.000000</td>\n",
       "      <td>19.000000</td>\n",
       "      <td>23.000000</td>\n",
       "      <td>23.000000</td>\n",
       "      <td>25.000000</td>\n",
       "      <td>30.000000</td>\n",
       "      <td>17.000000</td>\n",
       "      <td>14.000000</td>\n",
       "      <td>...</td>\n",
       "      <td>19.000000</td>\n",
       "      <td>21.000000</td>\n",
       "      <td>16.000000</td>\n",
       "      <td>27.000000</td>\n",
       "      <td>24.000000</td>\n",
       "      <td>27.000000</td>\n",
       "      <td>20.000000</td>\n",
       "      <td>25.000000</td>\n",
       "      <td>22.000000</td>\n",
       "      <td>15.000000</td>\n",
       "    </tr>\n",
       "    <tr>\n",
       "      <th>1</th>\n",
       "      <td>1.166667</td>\n",
       "      <td>0.833333</td>\n",
       "      <td>1.111111</td>\n",
       "      <td>1.187500</td>\n",
       "      <td>1.352941</td>\n",
       "      <td>0.958333</td>\n",
       "      <td>3.571429</td>\n",
       "      <td>3.333333</td>\n",
       "      <td>0.850000</td>\n",
       "      <td>0.823529</td>\n",
       "      <td>...</td>\n",
       "      <td>0.950000</td>\n",
       "      <td>1.312500</td>\n",
       "      <td>1.333333</td>\n",
       "      <td>1.500000</td>\n",
       "      <td>1.600000</td>\n",
       "      <td>1.421053</td>\n",
       "      <td>2.222222</td>\n",
       "      <td>1.923077</td>\n",
       "      <td>0.956522</td>\n",
       "      <td>0.833333</td>\n",
       "    </tr>\n",
       "    <tr>\n",
       "      <th>2</th>\n",
       "      <td>-4.000000</td>\n",
       "      <td>4.000000</td>\n",
       "      <td>-7.000000</td>\n",
       "      <td>5.000000</td>\n",
       "      <td>5.000000</td>\n",
       "      <td>0.000000</td>\n",
       "      <td>11.000000</td>\n",
       "      <td>9.000000</td>\n",
       "      <td>-5.000000</td>\n",
       "      <td>-9.000000</td>\n",
       "      <td>...</td>\n",
       "      <td>6.000000</td>\n",
       "      <td>5.000000</td>\n",
       "      <td>11.000000</td>\n",
       "      <td>3.000000</td>\n",
       "      <td>8.000000</td>\n",
       "      <td>4.000000</td>\n",
       "      <td>13.000000</td>\n",
       "      <td>10.000000</td>\n",
       "      <td>0.000000</td>\n",
       "      <td>-6.000000</td>\n",
       "    </tr>\n",
       "    <tr>\n",
       "      <th>3</th>\n",
       "      <td>0.238636</td>\n",
       "      <td>0.159574</td>\n",
       "      <td>0.303030</td>\n",
       "      <td>0.182692</td>\n",
       "      <td>0.232323</td>\n",
       "      <td>0.186992</td>\n",
       "      <td>0.280899</td>\n",
       "      <td>0.312500</td>\n",
       "      <td>0.202381</td>\n",
       "      <td>0.202899</td>\n",
       "      <td>...</td>\n",
       "      <td>0.215909</td>\n",
       "      <td>0.203883</td>\n",
       "      <td>0.179775</td>\n",
       "      <td>0.270000</td>\n",
       "      <td>0.250000</td>\n",
       "      <td>0.245455</td>\n",
       "      <td>0.229885</td>\n",
       "      <td>0.277778</td>\n",
       "      <td>0.191304</td>\n",
       "      <td>0.185185</td>\n",
       "    </tr>\n",
       "    <tr>\n",
       "      <th>4</th>\n",
       "      <td>0.193548</td>\n",
       "      <td>0.246575</td>\n",
       "      <td>0.225000</td>\n",
       "      <td>0.186047</td>\n",
       "      <td>0.195402</td>\n",
       "      <td>0.258065</td>\n",
       "      <td>0.159091</td>\n",
       "      <td>0.121622</td>\n",
       "      <td>0.246914</td>\n",
       "      <td>0.193182</td>\n",
       "      <td>...</td>\n",
       "      <td>0.259740</td>\n",
       "      <td>0.242424</td>\n",
       "      <td>0.260870</td>\n",
       "      <td>0.191489</td>\n",
       "      <td>0.283019</td>\n",
       "      <td>0.215909</td>\n",
       "      <td>0.272727</td>\n",
       "      <td>0.185714</td>\n",
       "      <td>0.237113</td>\n",
       "      <td>0.191489</td>\n",
       "    </tr>\n",
       "    <tr>\n",
       "      <th>5</th>\n",
       "      <td>-0.151617</td>\n",
       "      <td>0.058826</td>\n",
       "      <td>-0.080425</td>\n",
       "      <td>0.069856</td>\n",
       "      <td>0.079588</td>\n",
       "      <td>0.345646</td>\n",
       "      <td>0.105046</td>\n",
       "      <td>0.117652</td>\n",
       "      <td>-0.085516</td>\n",
       "      <td>-0.049504</td>\n",
       "      <td>...</td>\n",
       "      <td>0.047901</td>\n",
       "      <td>0.077209</td>\n",
       "      <td>0.039217</td>\n",
       "      <td>0.132359</td>\n",
       "      <td>0.062748</td>\n",
       "      <td>0.100314</td>\n",
       "      <td>0.056025</td>\n",
       "      <td>0.061706</td>\n",
       "      <td>0.344992</td>\n",
       "      <td>-0.069505</td>\n",
       "    </tr>\n",
       "    <tr>\n",
       "      <th>6</th>\n",
       "      <td>3.031733</td>\n",
       "      <td>2.640053</td>\n",
       "      <td>3.030466</td>\n",
       "      <td>3.226003</td>\n",
       "      <td>3.559819</td>\n",
       "      <td>3.360810</td>\n",
       "      <td>4.673123</td>\n",
       "      <td>4.879253</td>\n",
       "      <td>2.664939</td>\n",
       "      <td>2.474684</td>\n",
       "      <td>...</td>\n",
       "      <td>2.986113</td>\n",
       "      <td>3.415008</td>\n",
       "      <td>3.132748</td>\n",
       "      <td>3.896807</td>\n",
       "      <td>3.727711</td>\n",
       "      <td>3.780958</td>\n",
       "      <td>3.862633</td>\n",
       "      <td>3.981670</td>\n",
       "      <td>3.338580</td>\n",
       "      <td>2.533107</td>\n",
       "    </tr>\n",
       "  </tbody>\n",
       "</table>\n",
       "<p>7 rows × 40 columns</p>\n",
       "</div>"
      ],
      "text/plain": [
       "          0          1          2          3          4          5   \\\n",
       "0  21.000000  15.000000  20.000000  19.000000  23.000000  23.000000   \n",
       "1   1.166667   0.833333   1.111111   1.187500   1.352941   0.958333   \n",
       "2  -4.000000   4.000000  -7.000000   5.000000   5.000000   0.000000   \n",
       "3   0.238636   0.159574   0.303030   0.182692   0.232323   0.186992   \n",
       "4   0.193548   0.246575   0.225000   0.186047   0.195402   0.258065   \n",
       "5  -0.151617   0.058826  -0.080425   0.069856   0.079588   0.345646   \n",
       "6   3.031733   2.640053   3.030466   3.226003   3.559819   3.360810   \n",
       "\n",
       "          6          7          8          9     ...             30  \\\n",
       "0  25.000000  30.000000  17.000000  14.000000    ...      19.000000   \n",
       "1   3.571429   3.333333   0.850000   0.823529    ...       0.950000   \n",
       "2  11.000000   9.000000  -5.000000  -9.000000    ...       6.000000   \n",
       "3   0.280899   0.312500   0.202381   0.202899    ...       0.215909   \n",
       "4   0.159091   0.121622   0.246914   0.193182    ...       0.259740   \n",
       "5   0.105046   0.117652  -0.085516  -0.049504    ...       0.047901   \n",
       "6   4.673123   4.879253   2.664939   2.474684    ...       2.986113   \n",
       "\n",
       "          31         32         33         34         35         36  \\\n",
       "0  21.000000  16.000000  27.000000  24.000000  27.000000  20.000000   \n",
       "1   1.312500   1.333333   1.500000   1.600000   1.421053   2.222222   \n",
       "2   5.000000  11.000000   3.000000   8.000000   4.000000  13.000000   \n",
       "3   0.203883   0.179775   0.270000   0.250000   0.245455   0.229885   \n",
       "4   0.242424   0.260870   0.191489   0.283019   0.215909   0.272727   \n",
       "5   0.077209   0.039217   0.132359   0.062748   0.100314   0.056025   \n",
       "6   3.415008   3.132748   3.896807   3.727711   3.780958   3.862633   \n",
       "\n",
       "          37         38         39  \n",
       "0  25.000000  22.000000  15.000000  \n",
       "1   1.923077   0.956522   0.833333  \n",
       "2  10.000000   0.000000  -6.000000  \n",
       "3   0.277778   0.191304   0.185185  \n",
       "4   0.185714   0.237113   0.191489  \n",
       "5   0.061706   0.344992  -0.069505  \n",
       "6   3.981670   3.338580   2.533107  \n",
       "\n",
       "[7 rows x 40 columns]"
      ]
     },
     "execution_count": 20,
     "metadata": {},
     "output_type": "execute_result"
    }
   ],
   "source": [
    "#frame = make_inputs('fnx') # save as \"frame\" to use in function later - although will really call this from inside the function for \n",
    "# get_tensor\n",
    "#get_metrics('GeT_RiGhT',3)\n",
    "make_inputs('Sico')"
   ]
  },
  {
   "cell_type": "markdown",
   "metadata": {},
   "source": [
    "## TENSORRRRRRRRRRZZZZZZZZZZZZZ\n",
    "\n",
    "*Le Tensor* construction. Imagine a matrix, now imagine a stack of matrices for each input sample - we also make sure to zero-pad the input matrices, this way we have conformable arrays when implementing the recurrent net\n"
   ]
  },
  {
   "cell_type": "code",
   "execution_count": 52,
   "metadata": {
    "collapsed": false
   },
   "outputs": [],
   "source": [
    "def get_tensor(dataframe, K = 7, T = \"default\"):  # standardize the T window size, and K variables...\n",
    "    '''\n",
    "    T is window size\n",
    "    K is number of input variables...\n",
    "    N is number of input samples...\n",
    "    '''\n",
    "    N = np.shape(dataframe)[1]\n",
    "    if(T == \"default\"):\n",
    "        T = N # standardize T window\n",
    "    # otherwise we have already defined T by function...\n",
    "        \n",
    "    tens = np.zeros((N,T,K)) # iniitalizes tensor shape... (From a given 'N', and known 'T' and 'K')\n",
    "\n",
    "    '''\n",
    "    basically need to generate a new dataframe for each 'N'...\n",
    "    N is given by the number of time steps as well - as T\n",
    "    ...\n",
    "    each dataframe is a TxK array of zeros (using np.zeros)   \n",
    "    '''\n",
    "\n",
    "    # loop over each N:\n",
    "\n",
    "    for i in range(N):\n",
    "\n",
    "        # generate dataframe of zeros\n",
    "        df = np.zeros((T,K)) # this is of size T by K...\n",
    "    \n",
    "        # add for the first one...\n",
    "        df[0] = dataframe.ix[:K-1,N-1] # since frame is a pandas dataframe... (from make_inputs command...)\n",
    "    \n",
    "        for j in range(1,N-i):\n",
    "            df[j] = dataframe.ix[:K-1,N-i-j] # since frame is a pandas dataframe... (from make_inputs command...)\n",
    "        \n",
    "        tens[i] = df # adds to the tensor...\n",
    "    '''\n",
    "    The result of this will be fed into get_targs... (Just FYI)\n",
    "    '''\n",
    "    #return(np.shape(tens)) # return the shape of the tensor - change to the actual tensor if working correct..\n",
    "    return(tens)  # add this instead of above line if want actual tensor output...\n",
    "    # it works!! (well the shape says so) so we will return the actual object instead ^^\n",
    "               \n",
    "        \n",
    "def form_calc(kill,kdr,scorediff,kill_cont, death_cont, kdr_adjust):\n",
    "    '''\n",
    "    This calculates the form of a player given the input variables...\n",
    "    '''\n",
    "    # score = np.log((K**2)/D) + np.log( ( (K/TK)*(K/D)/ np.log(1+TS)*(TS-ES) )/(D/TD) ) # - old version...\n",
    "    # Need to extrapolate team score: - since the winner *usually* gets 16 this gives us\n",
    "    if(scorediff < 0):\n",
    "        TS = 16 + scorediff\n",
    "    else:\n",
    "        TS = scorediff\n",
    "        \n",
    "    score = np.log(kill*kdr) + np.log( ((kill_cont*kdr)/(np.log(1+TS)*scorediff))/death_cont)  # new version\n",
    "    # except we are currently \n",
    "    \n",
    "    return(score)\n",
    "    \n",
    "    # Don't need this anymore...\n",
    "    \n",
    "    \n",
    "def get_targs(tensor): \n",
    "    '''\n",
    "    This function takes the tensor, removes the final entry,\n",
    "    uses that to calculate the \"target\" then returns a tensor of\n",
    "    one less \"N\" size than orignally. It also returns a vector of\n",
    "    targets.\n",
    "    '''\n",
    "    # get N, T and K dimensions:\n",
    "    N = np.shape(tensor)[0]\n",
    "    T = np.shape(tensor)[1]\n",
    "    K = np.shape(tensor)[2]-1  # target is given as the final dimension - so remove...\n",
    "    \n",
    "    # remove last record... ()\n",
    "    newtens = np.delete(tensor,N - 1,0)\n",
    "    \n",
    "    # for each record, split tensor into input and target components... - so \"T\" will drop one dimension...\n",
    "    #targz = np.zeros((N-1,1)) ## this is a vector\n",
    "    targz = []\n",
    "    inputs = np.zeros((N-1,T-1,K)) # this is still a 3D tensor, but dimensions have changed slightly\n",
    "    \n",
    "    for n in range(N-1): # looping over each sample...\n",
    "        '''\n",
    "        inputs are: kill,kdr,scorediff,kill_cont, death_cont, kdr_adjust , output is performance\n",
    "        '''\n",
    "        \n",
    "        targz.append(tensor[n,1,6]/np.mean(tensor[n,1:T-n,6]))\n",
    "        \n",
    "        inputs[n-1] = tensor[n-1,1:T,:K]\n",
    "        \n",
    "        # can comment out the below if required\n",
    "        print('inputs at',n,'are:',tensor[n,1,0],tensor[n,1,1],tensor[n,1,2],tensor[n,1,3],tensor[n,1,4],tensor[n,1,5])\n",
    "        # that should do the trick\n",
    "        \n",
    "    return(targz, inputs)"
   ]
  },
  {
   "cell_type": "code",
   "execution_count": 46,
   "metadata": {
    "collapsed": false
   },
   "outputs": [
    {
     "name": "stdout",
     "output_type": "stream",
     "text": [
      "40\n"
     ]
    }
   ],
   "source": [
    "TENZ = get_tensor(make_inputs('Sico')) # using the data for \"sico\""
   ]
  },
  {
   "cell_type": "code",
   "execution_count": 35,
   "metadata": {
    "collapsed": false
   },
   "outputs": [
    {
     "data": {
      "text/plain": [
       "(40, 40, 7)"
      ]
     },
     "execution_count": 35,
     "metadata": {},
     "output_type": "execute_result"
    }
   ],
   "source": [
    "np.shape(TENZ)"
   ]
  },
  {
   "cell_type": "code",
   "execution_count": 53,
   "metadata": {
    "collapsed": false
   },
   "outputs": [
    {
     "name": "stdout",
     "output_type": "stream",
     "text": [
      "inputs at 0 are: 15.0 0.833333333333 -6.0 0.185185185185 0.191489361702 -0.0695053985707\n",
      "inputs at 1 are: 22.0 0.95652173913 0.0 0.191304347826 0.237113402062 0.344992292386\n",
      "inputs at 2 are: 25.0 1.92307692308 10.0 0.277777777778 0.185714285714 0.0617056160603\n",
      "inputs at 3 are: 20.0 2.22222222222 13.0 0.229885057471 0.272727272727 0.0560247815658\n",
      "inputs at 4 are: 27.0 1.42105263158 4.0 0.245454545455 0.215909090909 0.10031384573\n",
      "inputs at 5 are: 24.0 1.6 8.0 0.25 0.283018867925 0.0627477553537\n",
      "inputs at 6 are: 27.0 1.5 3.0 0.27 0.191489361702 0.132358546449\n",
      "inputs at 7 are: 16.0 1.33333333333 11.0 0.179775280899 0.260869565217 0.0392173470961\n",
      "inputs at 8 are: 21.0 1.3125 5.0 0.203883495146 0.242424242424 0.0772091520954\n",
      "inputs at 9 are: 19.0 0.95 6.0 0.215909090909 0.25974025974 0.0479011882388\n",
      "inputs at 10 are: 22.0 1.69230769231 11.0 0.247191011236 0.309523809524 0.049775863622\n",
      "inputs at 11 are: 20.0 1.66666666667 4.0 0.21978021978 0.24 0.117652041288\n",
      "inputs at 12 are: 24.0 1.2 -10.0 0.230769230769 0.285714285714 -0.0685197789826\n",
      "inputs at 13 are: 7.0 0.368421052632 -10.0 0.120689655172 0.256756756757 -0.0210367742491\n",
      "inputs at 14 are: 24.0 1.6 7.0 0.263736263736 0.220588235294 0.070591224773\n",
      "inputs at 15 are: 25.0 2.08333333333 7.0 0.265957446809 0.151898734177 0.0919156572564\n",
      "inputs at 16 are: 31.0 1.06896551724 9.0 0.210884353741 0.27619047619 0.0377297925511\n",
      "inputs at 17 are: 13.0 1.0 9.0 0.14606741573 0.236363636364 0.0352956123865\n",
      "inputs at 18 are: 23.0 1.04545454545 2.0 0.225490196078 0.268292682927 0.122999861347\n",
      "inputs at 19 are: 9.0 0.428571428571 -9.0 0.130434782609 0.230769230769 -0.0257624114444\n",
      "inputs at 20 are: 19.0 2.11111111111 0.0 0.228915662651 0.225 0.761422382691\n",
      "inputs at 21 are: 23.0 0.884615384615 0.0 0.175572519084 0.288888888889 0.31905755712\n",
      "inputs at 22 are: 18.0 0.947368421053 -8.0 0.25 0.263888888889 -0.0615951356364\n",
      "inputs at 23 are: 18.0 1.0 5.0 0.174757281553 0.189473684211 0.0588260206441\n",
      "inputs at 24 are: 15.0 0.75 6.0 0.15306122449 0.215053763441 0.0378167275569\n",
      "inputs at 25 are: 24.0 1.71428571429 11.0 0.279069767442 0.264150943396 0.0504223034093\n",
      "inputs at 26 are: 18.0 0.782608695652 -2.0 0.178217821782 0.283950617284 -0.288993422402\n",
      "inputs at 27 are: 9.0 0.428571428571 -7.0 0.121621621622 0.225806451613 -0.0310210344217\n",
      "inputs at 28 are: 14.0 1.75 15.0 0.170731707317 0.285714285714 0.0386045760477\n",
      "inputs at 29 are: 11.0 0.785714285714 9.0 0.123595505618 0.184210526316 0.0277322668751\n",
      "inputs at 30 are: 14.0 0.823529411765 -9.0 0.202898550725 0.193181818182 -0.0495042415991\n",
      "inputs at 31 are: 17.0 0.85 -5.0 0.202380952381 0.246913580247 -0.0855162909311\n",
      "inputs at 32 are: 30.0 3.33333333333 9.0 0.3125 0.121621621622 0.117652041288\n",
      "inputs at 33 are: 25.0 3.57142857143 11.0 0.280898876404 0.159090909091 0.105046465436\n",
      "inputs at 34 are: 23.0 0.958333333333 0.0 0.186991869919 0.258064516129 0.34564568688\n",
      "inputs at 35 are: 23.0 1.35294117647 5.0 0.232323232323 0.195402298851 0.0795881455773\n",
      "inputs at 36 are: 19.0 1.1875 5.0 0.182692307692 0.186046511628 0.0698558995149\n",
      "inputs at 37 are: 20.0 1.11111111111 -7.0 0.30303030303 0.225 -0.0804249040562\n",
      "inputs at 38 are: 15.0 0.833333333333 4.0 0.159574468085 0.246575342466 0.0588260206441\n"
     ]
    }
   ],
   "source": [
    "tz , iz =  get_targs(TENZ)"
   ]
  },
  {
   "cell_type": "code",
   "execution_count": 54,
   "metadata": {
    "collapsed": false
   },
   "outputs": [
    {
     "data": {
      "text/plain": [
       "[0.78796325962839253,\n",
       " 1.0327559654859835,\n",
       " 1.2327804758568104,\n",
       " 1.2037085139067123,\n",
       " 1.1851539636466146,\n",
       " 1.1748616088560364,\n",
       " 1.2346978832777604,\n",
       " 0.99994063937359312,\n",
       " 1.0900330547343995,\n",
       " 0.95600347526260399,\n",
       " 1.1772051007059785,\n",
       " 1.1704887046264756,\n",
       " 1.080523537163715,\n",
       " 0.4108524021878886,\n",
       " 1.1912978731377126,\n",
       " 1.3180196276737399,\n",
       " 1.1541486101477423,\n",
       " 0.86895211574679021,\n",
       " 1.0772709826001614,\n",
       " 0.51017749647967259,\n",
       " 1.3626438979964635,\n",
       " 1.0497005731972477,\n",
       " 0.92112458902049665,\n",
       " 0.96969965027008542,\n",
       " 0.81754673748760176,\n",
       " 1.2088981409262278,\n",
       " 0.81425101010171563,\n",
       " 0.49877104501287339,\n",
       " 0.99503674678224718,\n",
       " 0.69667231213716696,\n",
       " 0.73001570640075386,\n",
       " 0.76047496819278027,\n",
       " 1.3462912180288045,\n",
       " 1.3683926385876741,\n",
       " 1.0623942487454898,\n",
       " 1.1431346946494005,\n",
       " 1.0878417922198504,\n",
       " 1.0688495841404315,\n",
       " 1.0]"
      ]
     },
     "execution_count": 54,
     "metadata": {},
     "output_type": "execute_result"
    }
   ],
   "source": [
    "tz"
   ]
  },
  {
   "cell_type": "code",
   "execution_count": 55,
   "metadata": {
    "collapsed": false
   },
   "outputs": [
    {
     "data": {
      "text/plain": [
       "array([[[ 15.        ,   0.83333333,  -6.        ,   0.18518519,\n",
       "           0.19148936,  -0.0695054 ],\n",
       "        [ 22.        ,   0.95652174,   0.        ,   0.19130435,\n",
       "           0.2371134 ,   0.34499229],\n",
       "        [ 25.        ,   1.92307692,  10.        ,   0.27777778,\n",
       "           0.18571429,   0.06170562],\n",
       "        ..., \n",
       "        [ 19.        ,   1.1875    ,   5.        ,   0.18269231,\n",
       "           0.18604651,   0.0698559 ],\n",
       "        [ 20.        ,   1.11111111,  -7.        ,   0.3030303 ,\n",
       "           0.225     ,  -0.0804249 ],\n",
       "        [ 15.        ,   0.83333333,   4.        ,   0.15957447,\n",
       "           0.24657534,   0.05882602]],\n",
       "\n",
       "       [[ 22.        ,   0.95652174,   0.        ,   0.19130435,\n",
       "           0.2371134 ,   0.34499229],\n",
       "        [ 25.        ,   1.92307692,  10.        ,   0.27777778,\n",
       "           0.18571429,   0.06170562],\n",
       "        [ 20.        ,   2.22222222,  13.        ,   0.22988506,\n",
       "           0.27272727,   0.05602478],\n",
       "        ..., \n",
       "        [ 20.        ,   1.11111111,  -7.        ,   0.3030303 ,\n",
       "           0.225     ,  -0.0804249 ],\n",
       "        [ 15.        ,   0.83333333,   4.        ,   0.15957447,\n",
       "           0.24657534,   0.05882602],\n",
       "        [  0.        ,   0.        ,   0.        ,   0.        ,\n",
       "           0.        ,   0.        ]],\n",
       "\n",
       "       [[ 25.        ,   1.92307692,  10.        ,   0.27777778,\n",
       "           0.18571429,   0.06170562],\n",
       "        [ 20.        ,   2.22222222,  13.        ,   0.22988506,\n",
       "           0.27272727,   0.05602478],\n",
       "        [ 27.        ,   1.42105263,   4.        ,   0.24545455,\n",
       "           0.21590909,   0.10031385],\n",
       "        ..., \n",
       "        [ 15.        ,   0.83333333,   4.        ,   0.15957447,\n",
       "           0.24657534,   0.05882602],\n",
       "        [  0.        ,   0.        ,   0.        ,   0.        ,\n",
       "           0.        ,   0.        ],\n",
       "        [  0.        ,   0.        ,   0.        ,   0.        ,\n",
       "           0.        ,   0.        ]],\n",
       "\n",
       "       ..., \n",
       "       [[ 19.        ,   1.1875    ,   5.        ,   0.18269231,\n",
       "           0.18604651,   0.0698559 ],\n",
       "        [ 20.        ,   1.11111111,  -7.        ,   0.3030303 ,\n",
       "           0.225     ,  -0.0804249 ],\n",
       "        [ 15.        ,   0.83333333,   4.        ,   0.15957447,\n",
       "           0.24657534,   0.05882602],\n",
       "        ..., \n",
       "        [  0.        ,   0.        ,   0.        ,   0.        ,\n",
       "           0.        ,   0.        ],\n",
       "        [  0.        ,   0.        ,   0.        ,   0.        ,\n",
       "           0.        ,   0.        ],\n",
       "        [  0.        ,   0.        ,   0.        ,   0.        ,\n",
       "           0.        ,   0.        ]],\n",
       "\n",
       "       [[ 20.        ,   1.11111111,  -7.        ,   0.3030303 ,\n",
       "           0.225     ,  -0.0804249 ],\n",
       "        [ 15.        ,   0.83333333,   4.        ,   0.15957447,\n",
       "           0.24657534,   0.05882602],\n",
       "        [  0.        ,   0.        ,   0.        ,   0.        ,\n",
       "           0.        ,   0.        ],\n",
       "        ..., \n",
       "        [  0.        ,   0.        ,   0.        ,   0.        ,\n",
       "           0.        ,   0.        ],\n",
       "        [  0.        ,   0.        ,   0.        ,   0.        ,\n",
       "           0.        ,   0.        ],\n",
       "        [  0.        ,   0.        ,   0.        ,   0.        ,\n",
       "           0.        ,   0.        ]],\n",
       "\n",
       "       [[  0.        ,   0.        ,   0.        ,   0.        ,\n",
       "           0.        ,   0.        ],\n",
       "        [  0.        ,   0.        ,   0.        ,   0.        ,\n",
       "           0.        ,   0.        ],\n",
       "        [  0.        ,   0.        ,   0.        ,   0.        ,\n",
       "           0.        ,   0.        ],\n",
       "        ..., \n",
       "        [  0.        ,   0.        ,   0.        ,   0.        ,\n",
       "           0.        ,   0.        ],\n",
       "        [  0.        ,   0.        ,   0.        ,   0.        ,\n",
       "           0.        ,   0.        ],\n",
       "        [  0.        ,   0.        ,   0.        ,   0.        ,\n",
       "           0.        ,   0.        ]]])"
      ]
     },
     "execution_count": 55,
     "metadata": {},
     "output_type": "execute_result"
    }
   ],
   "source": [
    "iz"
   ]
  },
  {
   "cell_type": "markdown",
   "metadata": {},
   "source": [
    "#### But this is a problem as in practice we are getting division by 0! - needs to be fixed..."
   ]
  },
  {
   "cell_type": "markdown",
   "metadata": {},
   "source": [
    "## LSTM Time!\n",
    "\n",
    "Now that we have our input data and targets we can use these to split into test and training data set, then run them through an LSTM neural network"
   ]
  },
  {
   "cell_type": "code",
   "execution_count": 57,
   "metadata": {
    "collapsed": true
   },
   "outputs": [],
   "source": [
    "def test_train(inputs, targs, percent = 30):\n",
    "    '''\n",
    "    Take input and target data then split them by the given percentage ratio\n",
    "    \"percent\" must be between 1 and 50 - signalling no more training data splitting than testing \n",
    "    '''\n",
    "    N = np.shape(inputs[0])\n",
    "    N_train = ((100-percent)/100)*N\n",
    "    # train set...\n",
    "    train_i = inputs[:N_train,:,:]\n",
    "    train_t = targs[:N_train]\n",
    "    # test set...\n",
    "    test_i =  inputs[N_train+1:,:,:]\n",
    "    test_t = targs[N_train+1:]\n",
    "    \n",
    "    return(train_i,train_t,test_i,test_t)\n",
    "    "
   ]
  },
  {
   "cell_type": "markdown",
   "metadata": {},
   "source": [
    "### Define the LSTM Architecture"
   ]
  },
  {
   "cell_type": "code",
   "execution_count": null,
   "metadata": {
    "collapsed": true
   },
   "outputs": [],
   "source": [
    "in_neurons = np.shape(X_train)[2]   \n",
    "out_neurons = 1 # since regression output  \n",
    "hidden_neurons = 6\n",
    "\n",
    "model = Sequential()  \n",
    "model.add(LSTM(output_dim=hidden_neurons, input_dim=in_neurons, return_sequences=False)) \n",
    "model.add(Dense(output_dim=out_neurons, input_dim=hidden_neurons))\n",
    "model.add(Activation(\"linear\"))  \n",
    "model.compile(loss=\"mean_squared_error\", optimizer= 'rmsprop' )  \n"
   ]
  },
  {
   "cell_type": "markdown",
   "metadata": {},
   "source": [
    "### Train the Model"
   ]
  },
  {
   "cell_type": "code",
   "execution_count": null,
   "metadata": {
    "collapsed": true
   },
   "outputs": [],
   "source": [
    "#(X_train, y_train), (X_test, y_test) = train_test_split(data)  # retrieve data\n",
    "model.fit(X_train, y_train, batch_size=1, nb_epoch=1, validation_split=0.05)  \n",
    "\n",
    "predicted = model.predict(X_test)  \n",
    "rmse = np.sqrt(((predicted - y_test) ** 2).mean(axis=0))\n"
   ]
  },
  {
   "cell_type": "markdown",
   "metadata": {},
   "source": [
    "### Plotting stuff"
   ]
  },
  {
   "cell_type": "code",
   "execution_count": null,
   "metadata": {
    "collapsed": true
   },
   "outputs": [],
   "source": [
    "fig, ax = plt.subplots()\n",
    "\n",
    "ax.plot(pd.DataFrame(y_test))\n",
    "ax.plot(pd.DataFrame(predicted))\n"
   ]
  },
  {
   "cell_type": "markdown",
   "metadata": {},
   "source": [
    "## API Demonstration\n",
    "\n",
    "Below shows some examples of uses from this API"
   ]
  },
  {
   "cell_type": "code",
   "execution_count": 17,
   "metadata": {
    "collapsed": false
   },
   "outputs": [
    {
     "name": "stdout",
     "output_type": "stream",
     "text": [
      "9.23727443252\n",
      "4.04407206672\n",
      "5.49569404148\n"
     ]
    }
   ],
   "source": [
    "# test form calculation with different scenarios...\n",
    "# this demonstrates the use of form_calc...\n",
    "'''\n",
    "good - easy win\n",
    "'''\n",
    "p1 = form_calc( K=22,D=4,TK = 23+22+13+12+13, TD = 12+10+7+11+4,TS=16,ES = 1 )\n",
    "'''\n",
    "average... (slight win) Coldzera (SK) vs fnatic...\n",
    "'''\n",
    "p2 = form_calc( K=16,D=13,TK = 23+19+20+16+15, TD = 17+13+18+11+13,TS=16,ES = 9 )\n",
    "'''\n",
    "good... (slight) win) fnx (SK) vs fnatic...\n",
    "'''\n",
    "p3 = form_calc( K=23,D=13,TK = 23+19+20+16+15, TD = 17+13+18+11+13,TS=16,ES = 9 )\n",
    "\n",
    "print(p1)\n",
    "print(p2)\n",
    "print(p3)"
   ]
  },
  {
   "cell_type": "markdown",
   "metadata": {},
   "source": [
    "#### Below it might be useful to use a lookup table of players...\n",
    "\n",
    "This can be done by the **show_players()** command...\n",
    "Which returns a frame of each player.\n",
    "\n",
    "I haven't actually made this command yet - but is on its way!"
   ]
  },
  {
   "cell_type": "code",
   "execution_count": null,
   "metadata": {
    "collapsed": true
   },
   "outputs": [],
   "source": [
    "# see the fellas we can use...\n",
    "show_players()"
   ]
  },
  {
   "cell_type": "markdown",
   "metadata": {},
   "source": [
    "### Team_score API call\n",
    "\n",
    "This is used as player name followed by their last nth match. i.e. team_score(\"Get_RiGhT\",0) shows the team information from get_right's last game... "
   ]
  },
  {
   "cell_type": "code",
   "execution_count": 34,
   "metadata": {
    "collapsed": false
   },
   "outputs": [
    {
     "name": "stdout",
     "output_type": "stream",
     "text": [
      "team score is: 16\n",
      "enemy score is: 11\n",
      "team kills are: 104.0\n",
      "team deaths are: 86.0\n"
     ]
    }
   ],
   "source": [
    "TS, ES, tk, td = team_score('GeT_RiGhT', 3)\n",
    "\n",
    "# then we can print these variables out:\n",
    "\n",
    "print('team score is:', TS )\n",
    "print('enemy score is:', ES )\n",
    "print('team kills are:', tk )\n",
    "print('team deaths are:', td)\n"
   ]
  },
  {
   "cell_type": "markdown",
   "metadata": {},
   "source": [
    "**Below needs to be turned into a function - currently just testing that the data goes into the 3 dimensional array correctly...**"
   ]
  },
  {
   "cell_type": "code",
   "execution_count": 59,
   "metadata": {
    "collapsed": false
   },
   "outputs": [],
   "source": [
    "# manually defining N T and K although they will be decided by the data we are using from \"make_inputs\"\n",
    "N = np.shape(frame)[1]\n",
    "T = N # full sized time window...\n",
    "K = 6\n",
    "#\n",
    "tens = np.zeros((N,T,K)) # iniitalizes tensor shape... (From a given 'N', and known 'T' and 'K')\n",
    "#tens[0] = np.random.randn(T,K) # this is the dataframe at first sample...\n",
    "\n",
    "'''\n",
    "basically need to generate a new dataframe for each 'N'...\n",
    "N is given by the number of time steps as well - as T\n",
    "...\n",
    "each dataframe is a TxK array of zeros (using np.zeros)\n",
    "\n",
    "'''\n",
    "\n",
    "# loop over each N:\n",
    "#i =  # for the 5th one...\n",
    "for i in range(N):\n",
    "#if True == True: # comment this out for testing...\n",
    "    # generate dataframe of zeros\n",
    "    df = np.zeros((T,K)) # this is of size T by K...\n",
    "    \n",
    "    # add for the first one...\n",
    "    df[0] = frame.ix[:,N-1] # since frame is a pandas dataframe... (from make_inputs command...)\n",
    "    \n",
    "    for j in range(1,N-i):\n",
    "        df[j] = frame.ix[:,N-i-j] # since frame is a pandas dataframe... (from make_inputs command...)\n",
    "        \n",
    "    tens[i] = df # adds to the tensor...\n"
   ]
  },
  {
   "cell_type": "markdown",
   "metadata": {},
   "source": [
    "The following cells visualise how the new tensor appears and how the the original data frame looks - there are still a few patches that need fixing..."
   ]
  },
  {
   "cell_type": "code",
   "execution_count": 8,
   "metadata": {
    "collapsed": false
   },
   "outputs": [
    {
     "ename": "NameError",
     "evalue": "name 'tens' is not defined",
     "output_type": "error",
     "traceback": [
      "\u001b[1;31m---------------------------------------------------------------------------\u001b[0m",
      "\u001b[1;31mNameError\u001b[0m                                 Traceback (most recent call last)",
      "\u001b[1;32m<ipython-input-8-d4a1f4e10216>\u001b[0m in \u001b[0;36m<module>\u001b[1;34m()\u001b[0m\n\u001b[1;32m----> 1\u001b[1;33m \u001b[0mprint\u001b[0m\u001b[1;33m(\u001b[0m\u001b[0mtens\u001b[0m\u001b[1;33m[\u001b[0m\u001b[1;36m1\u001b[0m\u001b[1;33m]\u001b[0m\u001b[1;33m)\u001b[0m\u001b[1;33m\u001b[0m\u001b[0m\n\u001b[0m",
      "\u001b[1;31mNameError\u001b[0m: name 'tens' is not defined"
     ]
    }
   ],
   "source": [
    "print(tens[1])"
   ]
  },
  {
   "cell_type": "code",
   "execution_count": 57,
   "metadata": {
    "collapsed": false
   },
   "outputs": [
    {
     "name": "stdout",
     "output_type": "stream",
     "text": [
      "         0          1          2          3          4          5    \\\n",
      "0  21.000000  15.000000  20.000000  19.000000  23.000000  23.000000   \n",
      "1   1.166667   0.833333   1.111111   1.187500   1.352941   0.958333   \n",
      "2  -4.000000   4.000000  -7.000000   5.000000   5.000000   0.000000   \n",
      "3   0.238636   0.159574   0.303030   0.182692   0.232323   0.186992   \n",
      "4   0.193548   0.246575   0.225000   0.186047   0.195402   0.258065   \n",
      "5  -0.151617   0.058826  -0.080425   0.069856   0.079588   0.345646   \n",
      "\n",
      "         6          7          8          9      ...            267       268  \\\n",
      "0  25.000000  30.000000  17.000000  14.000000    ...      10.000000  6.000000   \n",
      "1   3.571429   3.333333   0.850000   0.823529    ...       0.526316  0.272727   \n",
      "2  11.000000   9.000000  -5.000000  -9.000000    ...     -11.000000 -9.000000   \n",
      "3   0.280899   0.312500   0.202381   0.202899    ...       0.172414  0.093750   \n",
      "4   0.159091   0.121622   0.246914   0.193182    ...       0.256757  0.229167   \n",
      "5   0.105046   0.117652  -0.085516  -0.049504    ...      -0.029374 -0.016394   \n",
      "\n",
      "         269        270        271        272        273        274  \\\n",
      "0  19.000000  17.000000  15.000000  17.000000  14.000000  15.000000   \n",
      "1   0.904762   1.062500   0.750000   0.894737   2.333333   1.666667   \n",
      "2  -6.000000  -6.000000 -12.000000   3.000000   3.000000  12.000000   \n",
      "3   0.253333   0.346939   0.192308   0.158879   0.168675   0.176471   \n",
      "4   0.265823   0.216216   0.266667   0.220930   0.206897   0.169811   \n",
      "5  -0.075463  -0.088619  -0.042364   0.078951   0.205891   0.045251   \n",
      "\n",
      "         275        276  \n",
      "0  15.000000  20.000000  \n",
      "1   0.789474   1.428571  \n",
      "2  12.000000  -7.000000  \n",
      "3   0.211268   0.210526  \n",
      "4   0.215909   0.184211  \n",
      "5   0.021435  -0.103403  \n",
      "\n",
      "[6 rows x 277 columns]\n"
     ]
    }
   ],
   "source": [
    "print(frame)"
   ]
  },
  {
   "cell_type": "code",
   "execution_count": 203,
   "metadata": {
    "collapsed": false
   },
   "outputs": [
    {
     "name": "stdout",
     "output_type": "stream",
     "text": [
      "(2, 1)\n",
      "[[[1, 2], [1, 2]]]\n"
     ]
    }
   ],
   "source": [
    "#n = 1 # number of samples...\n",
    "#df = np.array(df)\n",
    "#KK = np.reshape(df,(n,np.shape(df)[1],np.shape(df)[0]) )\n",
    "#np.shape(KK)\n",
    "J = [[[[1,2],[1,2]]],[[[1,2]]]]\n",
    "J[0]\n",
    "print(np.shape(J))\n",
    "#get_tensor(df,2)\n",
    "print(J[0])\n",
    "#print(KK[0][0])"
   ]
  },
  {
   "cell_type": "code",
   "execution_count": 138,
   "metadata": {
    "collapsed": false
   },
   "outputs": [
    {
     "name": "stdout",
     "output_type": "stream",
     "text": [
      "537\n"
     ]
    }
   ],
   "source": [
    "#np.shape((player_data('GeT_RiGhT').reset_index(drop=True) ))[0]\n",
    "df = make_inputs('GeT_RiGhT')\n",
    "df.to_csv('getright data.csv') # save this to csv"
   ]
  },
  {
   "cell_type": "code",
   "execution_count": 139,
   "metadata": {
    "collapsed": false
   },
   "outputs": [],
   "source": [
    "\n",
    "\n"
   ]
  },
  {
   "cell_type": "code",
   "execution_count": 74,
   "metadata": {
    "collapsed": false
   },
   "outputs": [],
   "source": [
    "# win ratio metric:\n",
    "\n",
    "def win_ratio(team):\n",
    "    # get team data...\n",
    "    dato = team_data(team).reset_index(drop=True)\n",
    "    #print('The subset data length is:', len(dato))\n",
    "    # then iterate over every row:\n",
    "    WL = []\n",
    "    #print(np.shape(data)[0])\n",
    "    for row in range(len(dato)):\n",
    "        # print(dat.ix[row,5])    # this here jsut for testing...\n",
    "        if (dato.ix[row,5]) == team : # this is if they are the winning team - name is in the winning team col...\n",
    "            WL.append(1)\n",
    "            \n",
    "        else:\n",
    "            WL.append(0)\n",
    "            \n",
    "    #return(WL)\n",
    "    return(np.sum(WL)/len(WL), np.std(WL)) # this is the Win ratio metric... and variance (STD)\n",
    "    "
   ]
  },
  {
   "cell_type": "code",
   "execution_count": 77,
   "metadata": {
    "collapsed": false
   },
   "outputs": [
    {
     "data": {
      "text/plain": [
       "(0.60546875, 0.48874977521574114)"
      ]
     },
     "execution_count": 77,
     "metadata": {},
     "output_type": "execute_result"
    }
   ],
   "source": [
    "win_ratio('EnVyUs') # returns mean and stdev"
   ]
  },
  {
   "cell_type": "code",
   "execution_count": 96,
   "metadata": {
    "collapsed": true
   },
   "outputs": [],
   "source": [
    "# compile a lookup table of each team - unique team ID and team name...\n",
    "\n",
    "def table():\n",
    "    '''\n",
    "    This defines the total unique teams and their idx numbers...\n",
    "    '''\n",
    "    # total teams\n",
    "    teams = pd.concat([dat.ix[:,3],dat.ix[:,4]])\n",
    "    teams= teams.reset_index(drop=True)\n",
    "    teams = pd.DataFrame(pd.unique(teams))\n",
    "    print(teams)"
   ]
  },
  {
   "cell_type": "code",
   "execution_count": 97,
   "metadata": {
    "collapsed": false
   },
   "outputs": [
    {
     "name": "stdout",
     "output_type": "stream",
     "text": [
      "                      0\n",
      "0                sylloM\n",
      "1          Epsilon Hype\n",
      "2             Fragsport\n",
      "3       ALTERNATE aTTaX\n",
      "4                  LDLC\n",
      "5              NiceShot\n",
      "6                  ENCE\n",
      "7               Epsilon\n",
      "8                fnatic\n",
      "9                    SK\n",
      "10          Preparation\n",
      "11                   G2\n",
      "12         dream[S]cape\n",
      "13        Natus Vincere\n",
      "14              B.O.O.T\n",
      "15             dignitas\n",
      "16          AVANT GARDE\n",
      "17                  NiP\n",
      "18            Athletico\n",
      "19                 New4\n",
      "20          HellRaisers\n",
      "21          VG.CyberZen\n",
      "22              onestop\n",
      "23               Exile5\n",
      "24           Virtus.pro\n",
      "25                TyLoo\n",
      "26            iGame.com\n",
      "27             FlipSid3\n",
      "28                 k1ck\n",
      "29            Immortals\n",
      "...                 ...\n",
      "1331     kRoGhs KanonEr\n",
      "1332           MIXERINO\n",
      "1333            madjicK\n",
      "1334   Eternal Conflict\n",
      "1335       The Flying V\n",
      "1336          Deponeret\n",
      "1337            Vikings\n",
      "1338            DEMGUNZ\n",
      "1339   kassad's Legends\n",
      "1340               WiLD\n",
      "1341           ZajebaNi\n",
      "1342       Clutchit.org\n",
      "1343    Hitbox.tv Staff\n",
      "1344  Russian eSF Staff\n",
      "1345       ProGaming.TD\n",
      "1346            Katrina\n",
      "1347            UNNAMED\n",
      "1348              Faith\n",
      "1349       fAlsu's team\n",
      "1350          GL SHAKER\n",
      "1351           GGWP.pro\n",
      "1352     Cyborg Factory\n",
      "1353           Outbreak\n",
      "1354              ZYLEX\n",
      "1355              fusd0\n",
      "1356            EZpeezy\n",
      "1357             Armata\n",
      "1358              Cytik\n",
      "1359          Imaginary\n",
      "1360      Faroe Islands\n",
      "\n",
      "[1361 rows x 1 columns]\n"
     ]
    }
   ],
   "source": [
    "table()"
   ]
  },
  {
   "cell_type": "code",
   "execution_count": null,
   "metadata": {
    "collapsed": true
   },
   "outputs": [],
   "source": []
  }
 ],
 "metadata": {
  "anaconda-cloud": {},
  "kernelspec": {
   "display_name": "Python [Root]",
   "language": "python",
   "name": "Python [Root]"
  },
  "language_info": {
   "codemirror_mode": {
    "name": "ipython",
    "version": 3
   },
   "file_extension": ".py",
   "mimetype": "text/x-python",
   "name": "python",
   "nbconvert_exporter": "python",
   "pygments_lexer": "ipython3",
   "version": "3.5.2"
  }
 },
 "nbformat": 4,
 "nbformat_minor": 0
}
