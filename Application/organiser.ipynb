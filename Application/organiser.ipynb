{
 "cells": [
  {
   "cell_type": "markdown",
   "metadata": {},
   "source": [
    "## CS:GO Player Form Prediction"
   ]
  },
  {
   "cell_type": "markdown",
   "metadata": {},
   "source": [
    "To accompany our article/blog, this notebook is designed to show how we can use the simple variables such as the number of kills and deaths a player has in a given game in order to predict how they \"should\" perform on their next game. We first do a bunch of preprocessing and data manipulation. Then we use a recurrent neural network (specifically LSTM) to predict our measure of player form. Our real model of player form incorporates many more variables that we have extracted from the demo files of professional games, which give greater insight into player form than kills/deaths alone.\n",
    "\n",
    "But anyway here is an open and fun way to look at using data to predict the outcome of professional CSGO matches"
   ]
  },
  {
   "cell_type": "code",
   "execution_count": 2,
   "metadata": {
    "collapsed": false
   },
   "outputs": [
    {
     "name": "stderr",
     "output_type": "stream",
     "text": [
      "WARNING (theano.configdefaults): g++ not detected ! Theano will be unable to execute optimized C-implementations (for both CPU and GPU) and will default to Python implementations. Performance will be severely degraded. To remove this warning, set Theano flags cxx to an empty string.\n"
     ]
    }
   ],
   "source": [
    "# Python imports\n",
    "import pandas as pd\n",
    "import numpy as np\n",
    "import csv\n",
    "import theano as th\n",
    "from theano import tensor as T\n"
   ]
  },
  {
   "cell_type": "markdown",
   "metadata": {},
   "source": [
    "*Le data imports* \n",
    "\n",
    "Clearly you need to have the correct \"matchdata\" csv file in the same directory as this notebook..."
   ]
  },
  {
   "cell_type": "code",
   "execution_count": 3,
   "metadata": {
    "collapsed": false
   },
   "outputs": [
    {
     "name": "stderr",
     "output_type": "stream",
     "text": [
      "C:\\Users\\Maximilian\\Anaconda3\\lib\\site-packages\\IPython\\core\\interactiveshell.py:2723: DtypeWarning: Columns (82,83,87) have mixed types. Specify dtype option on import or set low_memory=False.\n",
      "  interactivity=interactivity, compiler=compiler, result=result)\n"
     ]
    }
   ],
   "source": [
    "dat = pd.read_csv('matchdata.csv',encoding = \"ISO-8859-1\")"
   ]
  },
  {
   "cell_type": "markdown",
   "metadata": {},
   "source": [
    "### Variable Names...\n",
    "\n",
    "Here we can see a nice list of all the variables that our data gives us"
   ]
  },
  {
   "cell_type": "code",
   "execution_count": 4,
   "metadata": {
    "collapsed": false
   },
   "outputs": [],
   "source": [
    "#list(dat.columns.values)"
   ]
  },
  {
   "cell_type": "code",
   "execution_count": 5,
   "metadata": {
    "collapsed": false
   },
   "outputs": [],
   "source": [
    "# Need a function that pulls out only a certain teams data:\n",
    "\n",
    "def team_data(team): # probably by index...\n",
    "    df = dat.loc[(dat.ix[:,3] == team) |  (dat.ix[:,4] == team) ]\n",
    "    return(df)\n",
    "\n",
    "# make a player data one...\n",
    "\n",
    "def player_data(player): # can define by indx later as well...\n",
    "    df = dat.loc[(dat.ix[:,11] == player) |  (dat.ix[:,17] == player)|  (dat.ix[:,23] == player)|  (dat.ix[:,29] == player)|  (dat.ix[:,35] == player)|  (dat.ix[:,41] == player) |  (dat.ix[:,47] == player) |  (dat.ix[:,53] == player) |  (dat.ix[:,59] == player) |  (dat.ix[:,65] == player)]\n",
    "    return(df)\n",
    "\n",
    "# make function that says which team a player is on (1 or 2)...\n",
    "def player_side(player, match): # match is the match # as integer\n",
    "\n",
    "    dato = player_data(player).reset_index(drop=True) \n",
    "    N = len(dato)\n",
    "    i = match\n",
    "    \n",
    "    side = []\n",
    "    # loop over each row...\n",
    "    if( (dato.ix[i,11] == player) |  (dato.ix[i,17] == player)|  (dato.ix[i,23] == player)|  (dato.ix[i,29] == player)|  (dato.ix[i,35] == player) ):\n",
    "        side = 1\n",
    "    elif( (dato.ix[i,41] == player) |  (dato.ix[i,47] == player) |  (dato.ix[i,53] == player) |  (dato.ix[i,59] == player) |  (dato.ix[i,65] == player) ):\n",
    "        side = 2\n",
    "    else:\n",
    "        side = 0\n",
    "    return(side)\n",
    "\n",
    "\n",
    "def team_score(player, match):\n",
    "    '''\n",
    "    Returns team scores, enemy scores and team deaths (TD)...\n",
    "    '''\n",
    "    \n",
    "    side = player_side(player, match)\n",
    "    dato = player_data(player).reset_index(drop=True) \n",
    "    i = match\n",
    "    if(side == 1):\n",
    "        teamscore = dato.ix[match,6] +dato.ix[match,8]\n",
    "        enemyscore = dato.ix[match,7] + dato.ix[match,9]\n",
    "        TK = (dato.ix[i,12]) + (dato.ix[i,18])+  (dato.ix[i,24])+(dato.ix[i,30])+ (dato.ix[i,36])\n",
    "        TD = (dato.ix[i,13] == player) + (dato.ix[i,19])+  (dato.ix[i,25])+(dato.ix[i,31])+ (dato.ix[i,37])\n",
    "        \n",
    "    elif(side ==2 ):\n",
    "        teamscore = dato.ix[match,7] +dato.ix[match,9]\n",
    "        enemyscore = dato.ix[match,6] +dato.ix[match,8]\n",
    "        TK = dato.ix[i,42] + (dato.ix[i,48])+  (dato.ix[i,54])+(dato.ix[i,60] )+ (dato.ix[i,66])\n",
    "        TD = dato.ix[i,43]+ (dato.ix[i,19])+  (dato.ix[i,55])+(dato.ix[i,61] )+ (dato.ix[i,67])\n",
    "        \n",
    "    else:\n",
    "        teamscore = \"ERROR\"\n",
    "        enemyscore = \"UNLUGGY UCE\"\n",
    "        \n",
    "        \n",
    "    return( teamscore, enemyscore, TK, TD)\n",
    "\n"
   ]
  },
  {
   "cell_type": "code",
   "execution_count": 6,
   "metadata": {
    "collapsed": false
   },
   "outputs": [
    {
     "name": "stdout",
     "output_type": "stream",
     "text": [
      "team score is: 16\n",
      "enemy score is: 7\n",
      "team kills are: 89.0\n",
      "team deaths are: 76.0\n"
     ]
    }
   ],
   "source": [
    "TS, ES, tk, td = team_score('GeT_RiGhT', 10)\n",
    "\n",
    "print('team score is:', TS )\n",
    "print('enemy score is:', ES )\n",
    "print('team kills are:', tk )\n",
    "print('team deaths are:', td)\n"
   ]
  },
  {
   "cell_type": "code",
   "execution_count": 7,
   "metadata": {
    "collapsed": false
   },
   "outputs": [],
   "source": [
    "'''\n",
    "get_metrics returns the players kills, KDR, teamscore, enemyscore, team kills and enemy kills at specified time...\n",
    "'''\n",
    "def get_metrics(player, match):\n",
    "    TS, ES, tk, td = team_score(player, match)\n",
    "    # get the new player \n",
    "    dato = player_data(player).reset_index(drop=True) \n",
    "    i = match\n",
    "    if( dato.ix[i,11] == player ):\n",
    "        kills = dato.ix[i,12]\n",
    "        deaths = dato.ix[i,13]\n",
    "        kd = dato.ix[i,12]/dato.ix[i,13]    \n",
    "    elif( dato.ix[i,17] == player ):\n",
    "        kills = dato.ix[i,18]\n",
    "        deaths = dato.ix[i,19]\n",
    "        kd = dato.ix[i,18]/dato.ix[i,19]\n",
    "    elif( dato.ix[i,23] == player ):\n",
    "        kills = dato.ix[i,24]    \n",
    "        deaths = dato.ix[i,25]\n",
    "        kd = dato.ix[i,24]/dato.ix[i,25]\n",
    "    elif( dato.ix[i,29] == player ):\n",
    "        kills = dato.ix[i,30]  \n",
    "        deaths = dato.ix[i,31]\n",
    "        kd = dato.ix[i,30]/dato.ix[i,31]\n",
    "    elif( dato.ix[i,35] == player ):\n",
    "        kills = dato.ix[i,36]\n",
    "        deaths = dato.ix[i,37]\n",
    "        kd = dato.ix[i,36]/dato.ix[i,37]\n",
    "    elif( dato.ix[i,41] == player ):\n",
    "        kills = dato.ix[i,42]    \n",
    "        deaths = dato.ix[i,43]\n",
    "        kd = dato.ix[i,42]/dato.ix[i,43]\n",
    "    elif( dato.ix[i,47] == player ):\n",
    "        kills = dato.ix[i,48]       \n",
    "        deaths = dato.ix[i,49]\n",
    "        kd = dato.ix[i,48]/dato.ix[i,49]\n",
    "    elif( dato.ix[i,53] == player ):\n",
    "        kills = dato.ix[i,54]      \n",
    "        deaths = dato.ix[i,55]\n",
    "        kd = dato.ix[i,54]/dato.ix[i,55]\n",
    "    elif( dato.ix[i,59] == player ):\n",
    "        kills = dato.ix[i,60] \n",
    "        deaths = dato.ix[i,61]\n",
    "        kd = dato.ix[i,60]/dato.ix[i,61]\n",
    "    elif( dato.ix[i,65] == player ):\n",
    "        kills = dato.ix[i,66] \n",
    "        deaths = dato.ix[i,67]\n",
    "        kd = dato.ix[i,66]/dato.ix[i,67]        \n",
    "     \n",
    "    k_TK = kills / tk\n",
    "    kDR_A = kd / (np.log(1+TS)*(TS - ES+1))\n",
    "    p_p = np.log(((kills*kills)/(deaths)+1))+np.log(((k_TK)*(kDR_A))/(deaths/td)+1)\n",
    "    \n",
    "    return(kills, deaths, kd, TS, ES, tk ,td, k_TK, kDR_A, p_p)            \n",
    "                \n",
    "'''\n",
    "Now make function that makes CSV/df for the player and their past performance...\n",
    "'''   \n",
    "\n",
    "def make_inputs(player): # uses the player and gets all inputs from this...\n",
    "    datta = player_data(player).reset_index(drop=True) \n",
    "    N = np.shape(datta)[0] # length of the data frame...\n",
    "    \n",
    "    # initialize the vectors...\n",
    "    kill = []\n",
    "    kdr = []\n",
    "    scorediff = []\n",
    "    kill_cont = [] # contribution of kills\n",
    "    death_cont = [] # contriubution of deaths\n",
    "    kdr_adjust = []\n",
    "    player_perf = []\n",
    "    \n",
    "    print(N)\n",
    "    \n",
    "    # loop over each row to get data:\n",
    "    for row in range(N):\n",
    "        k,d,KDR, TS,ES,tk,td,k_TK,kDR_A, p_p = get_metrics('GeT_RiGhT', row)\n",
    "        kill.append(k)\n",
    "        kdr.append(KDR)\n",
    "        scorediff.append(TS-ES)\n",
    "        kill_cont.append(k_TK)\n",
    "        death_cont.append(d/td)\n",
    "        kdr_adjust.append(kDR_A)\n",
    "        player_perf.append(p_p)\n",
    "        \n",
    "    # add all as columns to the dataframe...    \n",
    "    newdat = pd.DataFrame([kill,kdr,scorediff,kill_cont, death_cont, kdr_adjust, player_perf])\n",
    "    \n",
    "    # but data is a tensor - so turn into tensor\n",
    "    \n",
    "    return(newdat)"
   ]
  },
  {
   "cell_type": "code",
   "execution_count": 119,
   "metadata": {
    "collapsed": false
   },
   "outputs": [
    {
     "name": "stdout",
     "output_type": "stream",
     "text": [
      "277\n"
     ]
    },
    {
     "data": {
      "text/html": [
       "<div>\n",
       "<table border=\"1\" class=\"dataframe\">\n",
       "  <thead>\n",
       "    <tr style=\"text-align: right;\">\n",
       "      <th></th>\n",
       "      <th>0</th>\n",
       "      <th>1</th>\n",
       "      <th>2</th>\n",
       "      <th>3</th>\n",
       "      <th>4</th>\n",
       "      <th>5</th>\n",
       "      <th>6</th>\n",
       "      <th>7</th>\n",
       "      <th>8</th>\n",
       "      <th>9</th>\n",
       "      <th>...</th>\n",
       "      <th>267</th>\n",
       "      <th>268</th>\n",
       "      <th>269</th>\n",
       "      <th>270</th>\n",
       "      <th>271</th>\n",
       "      <th>272</th>\n",
       "      <th>273</th>\n",
       "      <th>274</th>\n",
       "      <th>275</th>\n",
       "      <th>276</th>\n",
       "    </tr>\n",
       "  </thead>\n",
       "  <tbody>\n",
       "    <tr>\n",
       "      <th>0</th>\n",
       "      <td>21.000000</td>\n",
       "      <td>15.000000</td>\n",
       "      <td>20.000000</td>\n",
       "      <td>19.000000</td>\n",
       "      <td>23.000000</td>\n",
       "      <td>23.000000</td>\n",
       "      <td>25.000000</td>\n",
       "      <td>30.000000</td>\n",
       "      <td>17.000000</td>\n",
       "      <td>14.000000</td>\n",
       "      <td>...</td>\n",
       "      <td>10.000000</td>\n",
       "      <td>6.000000</td>\n",
       "      <td>19.000000</td>\n",
       "      <td>17.000000</td>\n",
       "      <td>15.000000</td>\n",
       "      <td>17.000000</td>\n",
       "      <td>14.000000</td>\n",
       "      <td>15.000000</td>\n",
       "      <td>15.000000</td>\n",
       "      <td>20.000000</td>\n",
       "    </tr>\n",
       "    <tr>\n",
       "      <th>1</th>\n",
       "      <td>1.166667</td>\n",
       "      <td>0.833333</td>\n",
       "      <td>1.111111</td>\n",
       "      <td>1.187500</td>\n",
       "      <td>1.352941</td>\n",
       "      <td>0.958333</td>\n",
       "      <td>3.571429</td>\n",
       "      <td>3.333333</td>\n",
       "      <td>0.850000</td>\n",
       "      <td>0.823529</td>\n",
       "      <td>...</td>\n",
       "      <td>0.526316</td>\n",
       "      <td>0.272727</td>\n",
       "      <td>0.904762</td>\n",
       "      <td>1.062500</td>\n",
       "      <td>0.750000</td>\n",
       "      <td>0.894737</td>\n",
       "      <td>2.333333</td>\n",
       "      <td>1.666667</td>\n",
       "      <td>0.789474</td>\n",
       "      <td>1.428571</td>\n",
       "    </tr>\n",
       "    <tr>\n",
       "      <th>2</th>\n",
       "      <td>-4.000000</td>\n",
       "      <td>4.000000</td>\n",
       "      <td>-7.000000</td>\n",
       "      <td>5.000000</td>\n",
       "      <td>5.000000</td>\n",
       "      <td>0.000000</td>\n",
       "      <td>11.000000</td>\n",
       "      <td>9.000000</td>\n",
       "      <td>-5.000000</td>\n",
       "      <td>-9.000000</td>\n",
       "      <td>...</td>\n",
       "      <td>-11.000000</td>\n",
       "      <td>-9.000000</td>\n",
       "      <td>-6.000000</td>\n",
       "      <td>-6.000000</td>\n",
       "      <td>-12.000000</td>\n",
       "      <td>3.000000</td>\n",
       "      <td>3.000000</td>\n",
       "      <td>12.000000</td>\n",
       "      <td>12.000000</td>\n",
       "      <td>-7.000000</td>\n",
       "    </tr>\n",
       "    <tr>\n",
       "      <th>3</th>\n",
       "      <td>0.238636</td>\n",
       "      <td>0.159574</td>\n",
       "      <td>0.303030</td>\n",
       "      <td>0.182692</td>\n",
       "      <td>0.232323</td>\n",
       "      <td>0.186992</td>\n",
       "      <td>0.280899</td>\n",
       "      <td>0.312500</td>\n",
       "      <td>0.202381</td>\n",
       "      <td>0.202899</td>\n",
       "      <td>...</td>\n",
       "      <td>0.172414</td>\n",
       "      <td>0.093750</td>\n",
       "      <td>0.253333</td>\n",
       "      <td>0.346939</td>\n",
       "      <td>0.192308</td>\n",
       "      <td>0.158879</td>\n",
       "      <td>0.168675</td>\n",
       "      <td>0.176471</td>\n",
       "      <td>0.211268</td>\n",
       "      <td>0.210526</td>\n",
       "    </tr>\n",
       "    <tr>\n",
       "      <th>4</th>\n",
       "      <td>0.193548</td>\n",
       "      <td>0.246575</td>\n",
       "      <td>0.225000</td>\n",
       "      <td>0.186047</td>\n",
       "      <td>0.195402</td>\n",
       "      <td>0.258065</td>\n",
       "      <td>0.159091</td>\n",
       "      <td>0.121622</td>\n",
       "      <td>0.246914</td>\n",
       "      <td>0.193182</td>\n",
       "      <td>...</td>\n",
       "      <td>0.256757</td>\n",
       "      <td>0.229167</td>\n",
       "      <td>0.265823</td>\n",
       "      <td>0.216216</td>\n",
       "      <td>0.266667</td>\n",
       "      <td>0.220930</td>\n",
       "      <td>0.206897</td>\n",
       "      <td>0.169811</td>\n",
       "      <td>0.215909</td>\n",
       "      <td>0.184211</td>\n",
       "    </tr>\n",
       "    <tr>\n",
       "      <th>5</th>\n",
       "      <td>-0.151617</td>\n",
       "      <td>0.058826</td>\n",
       "      <td>-0.080425</td>\n",
       "      <td>0.069856</td>\n",
       "      <td>0.079588</td>\n",
       "      <td>0.345646</td>\n",
       "      <td>0.105046</td>\n",
       "      <td>0.117652</td>\n",
       "      <td>-0.085516</td>\n",
       "      <td>-0.049504</td>\n",
       "      <td>...</td>\n",
       "      <td>-0.029374</td>\n",
       "      <td>-0.016394</td>\n",
       "      <td>-0.075463</td>\n",
       "      <td>-0.088619</td>\n",
       "      <td>-0.042364</td>\n",
       "      <td>0.078951</td>\n",
       "      <td>0.205891</td>\n",
       "      <td>0.045251</td>\n",
       "      <td>0.021435</td>\n",
       "      <td>-0.103403</td>\n",
       "    </tr>\n",
       "    <tr>\n",
       "      <th>6</th>\n",
       "      <td>3.031733</td>\n",
       "      <td>2.640053</td>\n",
       "      <td>3.030466</td>\n",
       "      <td>3.226003</td>\n",
       "      <td>3.559819</td>\n",
       "      <td>3.360810</td>\n",
       "      <td>4.673123</td>\n",
       "      <td>4.879253</td>\n",
       "      <td>2.664939</td>\n",
       "      <td>2.474684</td>\n",
       "      <td>...</td>\n",
       "      <td>1.814762</td>\n",
       "      <td>0.962671</td>\n",
       "      <td>2.826264</td>\n",
       "      <td>2.794341</td>\n",
       "      <td>2.474499</td>\n",
       "      <td>2.840884</td>\n",
       "      <td>3.671677</td>\n",
       "      <td>3.304050</td>\n",
       "      <td>2.573486</td>\n",
       "      <td>3.261047</td>\n",
       "    </tr>\n",
       "  </tbody>\n",
       "</table>\n",
       "<p>7 rows × 277 columns</p>\n",
       "</div>"
      ],
      "text/plain": [
       "         0          1          2          3          4          5    \\\n",
       "0  21.000000  15.000000  20.000000  19.000000  23.000000  23.000000   \n",
       "1   1.166667   0.833333   1.111111   1.187500   1.352941   0.958333   \n",
       "2  -4.000000   4.000000  -7.000000   5.000000   5.000000   0.000000   \n",
       "3   0.238636   0.159574   0.303030   0.182692   0.232323   0.186992   \n",
       "4   0.193548   0.246575   0.225000   0.186047   0.195402   0.258065   \n",
       "5  -0.151617   0.058826  -0.080425   0.069856   0.079588   0.345646   \n",
       "6   3.031733   2.640053   3.030466   3.226003   3.559819   3.360810   \n",
       "\n",
       "         6          7          8          9      ...            267       268  \\\n",
       "0  25.000000  30.000000  17.000000  14.000000    ...      10.000000  6.000000   \n",
       "1   3.571429   3.333333   0.850000   0.823529    ...       0.526316  0.272727   \n",
       "2  11.000000   9.000000  -5.000000  -9.000000    ...     -11.000000 -9.000000   \n",
       "3   0.280899   0.312500   0.202381   0.202899    ...       0.172414  0.093750   \n",
       "4   0.159091   0.121622   0.246914   0.193182    ...       0.256757  0.229167   \n",
       "5   0.105046   0.117652  -0.085516  -0.049504    ...      -0.029374 -0.016394   \n",
       "6   4.673123   4.879253   2.664939   2.474684    ...       1.814762  0.962671   \n",
       "\n",
       "         269        270        271        272        273        274  \\\n",
       "0  19.000000  17.000000  15.000000  17.000000  14.000000  15.000000   \n",
       "1   0.904762   1.062500   0.750000   0.894737   2.333333   1.666667   \n",
       "2  -6.000000  -6.000000 -12.000000   3.000000   3.000000  12.000000   \n",
       "3   0.253333   0.346939   0.192308   0.158879   0.168675   0.176471   \n",
       "4   0.265823   0.216216   0.266667   0.220930   0.206897   0.169811   \n",
       "5  -0.075463  -0.088619  -0.042364   0.078951   0.205891   0.045251   \n",
       "6   2.826264   2.794341   2.474499   2.840884   3.671677   3.304050   \n",
       "\n",
       "         275        276  \n",
       "0  15.000000  20.000000  \n",
       "1   0.789474   1.428571  \n",
       "2  12.000000  -7.000000  \n",
       "3   0.211268   0.210526  \n",
       "4   0.215909   0.184211  \n",
       "5   0.021435  -0.103403  \n",
       "6   2.573486   3.261047  \n",
       "\n",
       "[7 rows x 277 columns]"
      ]
     },
     "execution_count": 119,
     "metadata": {},
     "output_type": "execute_result"
    }
   ],
   "source": [
    "#frame = make_inputs('fnx') # save as \"frame\" to use in function later - although will really call this from inside the function for \n",
    "# get_tensor\n",
    "#get_metrics('GeT_RiGhT',3)\n",
    "make_inputs('fnx')"
   ]
  },
  {
   "cell_type": "markdown",
   "metadata": {},
   "source": [
    "## TENSORRRRRRRRRRZZZZZZZZZZZZZ\n",
    "\n",
    "*Le Tensor* construction. Imagine a matrix, now imagine a stack of matrices for each input sample - we also make sure to zero-pad the input matrices, this way we have conformable arrays when implementing the recurrent net\n"
   ]
  },
  {
   "cell_type": "code",
   "execution_count": 8,
   "metadata": {
    "collapsed": false
   },
   "outputs": [],
   "source": [
    "def get_tensor(dataframe, K = 7, T = \"default\"):  # standardize the T window size, and K variables...\n",
    "    '''\n",
    "    T is window size\n",
    "    K is number of input variables...\n",
    "    N is number of input samples...\n",
    "    '''\n",
    "    N = np.shape(dataframe)[1]\n",
    "    if(T == \"default\"):\n",
    "        T = N # standardize T window\n",
    "    # otherwise we have already defined T by function...\n",
    "        \n",
    "    tens = np.zeros((N,T,K)) # iniitalizes tensor shape... (From a given 'N', and known 'T' and 'K')\n",
    "\n",
    "    '''\n",
    "    basically need to generate a new dataframe for each 'N'...\n",
    "    N is given by the number of time steps as well - as T\n",
    "    ...\n",
    "    each dataframe is a TxK array of zeros (using np.zeros)   \n",
    "    '''\n",
    "\n",
    "    # loop over each N:\n",
    "\n",
    "    for i in range(N):\n",
    "\n",
    "        # generate dataframe of zeros\n",
    "        df = np.zeros((T,K)) # this is of size T by K...\n",
    "    \n",
    "        # add for the first one...\n",
    "        df[0] = dataframe.ix[:K-1,N-1] # since frame is a pandas dataframe... (from make_inputs command...)\n",
    "    \n",
    "        for j in range(1,N-i):\n",
    "            df[j] = dataframe.ix[:K-1,N-i-j] # since frame is a pandas dataframe... (from make_inputs command...)\n",
    "        \n",
    "        tens[i] = df # adds to the tensor...\n",
    "    '''\n",
    "    The result of this will be fed into get_targs... (Just FYI)\n",
    "    '''\n",
    "    #return(np.shape(tens)) # return the shape of the tensor - change to the actual tensor if working correct..\n",
    "    return(tens)  # add this instead of above line if want actual tensor output...\n",
    "    # it works!! (well the shape says so) so we will return the actual object instead ^^\n",
    "               \n",
    "        \n",
    "def form_calc(kill,kdr,scorediff,kill_cont, death_cont, kdr_adjust):\n",
    "    '''\n",
    "    This calculates the form of a player given the input variables...\n",
    "    '''\n",
    "    # score = np.log((K**2)/D) + np.log( ( (K/TK)*(K/D)/ np.log(1+TS)*(TS-ES) )/(D/TD) ) # - old version...\n",
    "    # Need to extrapolate team score: - since the winner *usually* gets 16 this gives us\n",
    "    if(scorediff < 0):\n",
    "        TS = 16 + scorediff\n",
    "    else:\n",
    "        TS = scorediff\n",
    "        \n",
    "    score = np.log(kill*kdr) + np.log( ((kill_cont*kdr)/(np.log(1+TS)*scorediff))/death_cont)  # new version\n",
    "    # except we are currently \n",
    "    \n",
    "    return(score)\n",
    "    \n",
    "    # Don't need this anymore...\n",
    "    \n",
    "    \n",
    "def get_targs(tensor): \n",
    "    '''\n",
    "    This function takes the tensor, removes the final entry,\n",
    "    uses that to calculate the \"target\" then returns a tensor of\n",
    "    one less \"N\" size than orignally. It also returns a vector of\n",
    "    targets.\n",
    "    '''\n",
    "    # get N, T and K dimensions:\n",
    "    N = np.shape(tensor)[0]\n",
    "    T = np.shape(tensor)[1]\n",
    "    K = np.shape(tensor)[2]-1  # target is given as the final dimension - so remove...\n",
    "    \n",
    "    # remove last record... ()\n",
    "    newtens = np.delete(tensor,N - 1,0)\n",
    "    \n",
    "    # for each record, split tensor into input and target components... - so \"T\" will drop one dimension...\n",
    "    #targz = np.zeros((N-1,1)) ## this is a vector\n",
    "    targz = []\n",
    "    inputs = np.zeros((N-1,T-1,K)) # this is still a 3D tensor, but dimensions have changed slightly\n",
    "    \n",
    "    for n in range(N-1): # looping over each sample...\n",
    "        '''\n",
    "        inputs are: kill,kdr,scorediff,kill_cont, death_cont, kdr_adjust , output is performance\n",
    "        '''\n",
    "        \n",
    "        targz.append(tensor[n,1,6]/np.mean(tensor[n,1:T-n,6]))\n",
    "        \n",
    "        inputs[n-1] = tensor[n-1,1:T,:K]\n",
    "        \n",
    "        # can comment out the below if required\n",
    "        print('inputs at',n,'are:',tensor[n,1,0],tensor[n,1,1],tensor[n,1,2],tensor[n,1,3],tensor[n,1,4],tensor[n,1,5])\n",
    "        # that should do the trick\n",
    "        \n",
    "    return(targz[:len(targz)-1], inputs[:len(targz)-1])"
   ]
  },
  {
   "cell_type": "code",
   "execution_count": 120,
   "metadata": {
    "collapsed": false
   },
   "outputs": [
    {
     "name": "stdout",
     "output_type": "stream",
     "text": [
      "277\n"
     ]
    }
   ],
   "source": [
    "TENZ = get_tensor(make_inputs('fnx')) # using the data for \"fnx\""
   ]
  },
  {
   "cell_type": "code",
   "execution_count": 37,
   "metadata": {
    "collapsed": false
   },
   "outputs": [
    {
     "data": {
      "text/plain": [
       "(277, 277, 7)"
      ]
     },
     "execution_count": 37,
     "metadata": {},
     "output_type": "execute_result"
    }
   ],
   "source": [
    "np.shape(TENZ)"
   ]
  },
  {
   "cell_type": "code",
   "execution_count": 121,
   "metadata": {
    "collapsed": false
   },
   "outputs": [
    {
     "name": "stdout",
     "output_type": "stream",
     "text": [
      "inputs at 0 are: 20.0 1.42857142857 -7.0 0.210526315789 0.184210526316 -0.103403448072\n",
      "inputs at 1 are: 15.0 0.789473684211 12.0 0.211267605634 0.215909090909 0.0214345824209\n",
      "inputs at 2 are: 15.0 1.66666666667 12.0 0.176470588235 0.169811320755 0.0452507851109\n",
      "inputs at 3 are: 14.0 2.33333333333 3.0 0.168674698795 0.206896551724 0.205891072254\n",
      "inputs at 4 are: 17.0 0.894736842105 3.0 0.158878504673 0.220930232558 0.0789507119171\n",
      "inputs at 5 are: 15.0 0.75 -12.0 0.192307692308 0.266666666667 -0.0423637455382\n",
      "inputs at 6 are: 17.0 1.0625 -6.0 0.34693877551 0.216216216216 -0.0886193831777\n",
      "inputs at 7 are: 19.0 0.904761904762 -6.0 0.253333333333 0.26582278481 -0.0754630041625\n",
      "inputs at 8 are: 6.0 0.272727272727 -9.0 0.09375 0.229166666667 -0.0163942618283\n",
      "inputs at 9 are: 10.0 0.526315789474 -11.0 0.172413793103 0.256756756757 -0.0293742435027\n",
      "inputs at 10 are: 23.0 1.64285714286 9.0 0.247311827957 0.215384615385 0.0579856489206\n",
      "inputs at 11 are: 15.0 1.07142857143 8.0 0.145631067961 0.269230769231 0.0420185861744\n",
      "inputs at 12 are: 15.0 2.14285714286 14.0 0.185185185185 0.148936170213 0.0504223034093\n",
      "inputs at 13 are: 11.0 1.22222222222 12.0 0.129411764706 0.225 0.0331839090813\n",
      "inputs at 14 are: 14.0 2.0 14.0 0.162790697674 0.241379310345 0.0470608165153\n",
      "inputs at 15 are: 28.0 2.54545454545 8.0 0.277227722772 0.207547169811 0.0998259744264\n",
      "inputs at 16 are: 21.0 1.23529411765 -6.0 0.230769230769 0.2125 -0.103031531999\n",
      "inputs at 17 are: 19.0 0.95 15.0 0.246753246753 0.246913580247 0.0209567698545\n",
      "inputs at 18 are: 19.0 2.71428571429 15.0 0.240506329114 0.225806451613 0.0598764852985\n",
      "inputs at 19 are: 14.0 0.608695652174 -3.0 0.155555555556 0.270588235294 -0.115324446601\n",
      "inputs at 20 are: 20.0 1.33333333333 10.0 0.204081632653 0.234375 0.0427825604685\n",
      "inputs at 21 are: 26.0 2.0 10.0 0.276595744681 0.245283018868 0.0641738407027\n",
      "inputs at 22 are: 22.0 1.0 -2.0 0.207547169811 0.207547169811 -0.369269373069\n",
      "inputs at 23 are: 20.0 1.11111111111 -2.0 0.212765957447 0.163636363636 -0.41029930341\n",
      "inputs at 24 are: 27.0 1.5 5.0 0.278350515464 0.25 0.0882390309662\n",
      "inputs at 25 are: 21.0 3.5 12.0 0.238636363636 0.166666666667 0.0950266487328\n",
      "inputs at 26 are: 20.0 1.05263157895 -12.0 0.212765957447 0.22619047619 -0.0594578884746\n",
      "inputs at 27 are: 10.0 0.625 -12.0 0.25 0.228571428571 -0.0353031212818\n",
      "inputs at 28 are: 17.0 0.944444444444 3.0 0.158878504673 0.25 0.0833368625792\n",
      "inputs at 29 are: 9.0 0.6 -13.0 0.209302325581 0.238095238095 -0.0360673760222\n",
      "inputs at 30 are: 20.0 3.33333333333 11.0 0.215053763441 0.153846153846 0.0980433677402\n",
      "inputs at 31 are: 15.0 0.882352941176 -2.0 0.258620689655 0.202380952381 -0.325825917414\n",
      "inputs at 32 are: 17.0 0.772727272727 -2.0 0.173469387755 0.224489795918 -0.285344515553\n",
      "inputs at 33 are: 16.0 1.45454545455 5.0 0.175824175824 0.144736842105 0.0855651209369\n",
      "inputs at 34 are: 34.0 1.25925925926 0.0 0.261538461538 0.188811188811 0.454181772132\n",
      "inputs at 35 are: 28.0 1.12 9.0 0.254545454545 0.20325203252 0.0395310858729\n",
      "inputs at 36 are: 21.0 1.3125 9.0 0.225806451613 0.228571428571 0.0463254912572\n",
      "inputs at 37 are: 22.0 1.57142857143 -9.0 0.289473684211 0.164705882353 -0.0944621752963\n",
      "inputs at 38 are: 39.0 1.95 0.0 0.307086614173 0.175438596491 0.703313832433\n",
      "inputs at 39 are: 18.0 1.63636363636 3.0 0.206896551724 0.171875 0.144391141581\n",
      "inputs at 40 are: 20.0 1.33333333333 3.0 0.194174757282 0.161290322581 0.117652041288\n",
      "inputs at 41 are: 19.0 1.05555555556 -8.0 0.223529411765 0.2 -0.0686291480393\n",
      "inputs at 42 are: 12.0 0.666666666667 9.0 0.173913043478 0.206896551724 0.0235304082577\n",
      "inputs at 43 are: 21.0 1.5 9.0 0.230769230769 0.21875 0.0529434185797\n",
      "inputs at 44 are: 19.0 1.26666666667 8.0 0.211111111111 0.223880597015 0.0496753063217\n",
      "inputs at 45 are: 9.0 0.529411764706 7.0 0.0957446808511 0.27868852459 0.0233573905499\n",
      "inputs at 46 are: 24.0 1.14285714286 3.0 0.224299065421 0.28 0.100844606819\n",
      "inputs at 47 are: 22.0 1.1 -6.0 0.236559139785 0.25 -0.0917471261133\n",
      "inputs at 48 are: 20.0 2.0 14.0 0.246913580247 0.25641025641 0.0470608165153\n",
      "inputs at 49 are: 14.0 0.608695652174 -2.0 0.14 0.270588235294 -0.224772661868\n",
      "inputs at 50 are: 11.0 0.55 -11.0 0.189655172414 0.266666666667 -0.0306960844603\n",
      "inputs at 51 are: 12.0 0.6 -15.0 0.1875 0.240963855422 -0.0618297874667\n",
      "inputs at 52 are: 33.0 1.32 0.0 0.248120300752 0.198412698413 0.476089363493\n",
      "inputs at 53 are: 20.0 1.0 -15.0 0.217391304348 0.19801980198 -0.103049645778\n",
      "inputs at 54 are: 12.0 0.705882352941 0.0 0.255319148936 0.22972972973 0.25459324251\n",
      "inputs at 55 are: 29.0 1.26086956522 0.0 0.223076923077 0.190082644628 0.454762567237\n",
      "inputs at 56 are: 15.0 0.833333333333 -3.0 0.141509433962 0.219512195122 -0.157884659037\n",
      "inputs at 57 are: 19.0 0.791666666667 -4.0 0.228915662651 0.272727272727 -0.102882689719\n",
      "inputs at 58 are: 17.0 4.25 14.0 0.2 0.117647058824 0.100004235095\n",
      "inputs at 59 are: 23.0 2.875 12.0 0.234693877551 0.170212765957 0.0780576043162\n",
      "inputs at 60 are: 22.0 3.66666666667 12.0 0.252873563218 0.153846153846 0.0995517272439\n",
      "inputs at 61 are: 22.0 0.916666666667 -5.0 0.252873563218 0.292682926829 -0.0922234510042\n",
      "inputs at 62 are: 23.0 1.21052631579 -2.0 0.219047619048 0.174311926606 -0.447010293715\n",
      "inputs at 63 are: 20.0 1.05263157895 -6.0 0.235294117647 0.240506329114 -0.0877962929314\n",
      "inputs at 64 are: 23.0 1.0 0.0 0.167883211679 0.188524590164 0.360673760222\n",
      "inputs at 65 are: 6.0 0.375 -14.0 0.142857142857 0.219178082192 -0.0262569007681\n",
      "inputs at 66 are: 19.0 0.95 4.0 0.19587628866 0.235294117647 0.0670616635343\n",
      "inputs at 67 are: 14.0 0.777777777778 4.0 0.12962962963 0.260869565217 0.0549042859345\n",
      "inputs at 68 are: 23.0 1.21052631579 3.0 0.23 0.19387755102 0.106815669064\n",
      "inputs at 69 are: 18.0 1.0 -6.0 0.209302325581 0.227848101266 -0.0834064782848\n",
      "inputs at 70 are: 11.0 1.57142857143 3.0 0.123595505618 0.127272727273 0.138661334375\n",
      "inputs at 71 are: 31.0 1.47619047619 3.0 0.264957264957 0.205882352941 0.130257617141\n",
      "inputs at 72 are: 22.0 2.75 4.0 0.241758241758 0.111111111111 0.194125868126\n",
      "inputs at 73 are: 25.0 1.25 -3.0 0.240384615385 0.20618556701 -0.236826988556\n",
      "inputs at 74 are: 22.0 1.1 -3.0 0.226804123711 0.19801980198 -0.208407749929\n",
      "inputs at 75 are: 23.0 1.91666666667 8.0 0.261363636364 0.230769230769 0.0751665819342\n",
      "inputs at 76 are: 12.0 1.2 12.0 0.130434782609 0.25 0.0325805652798\n",
      "inputs at 77 are: 23.0 1.21052631579 -4.0 0.247311827957 0.231707317073 -0.157316467382\n",
      "inputs at 78 are: 16.0 1.0 2.0 0.164948453608 0.16 0.117652041288\n",
      "inputs at 79 are: 24.0 2.18181818182 8.0 0.25 0.224489795918 0.0855651209369\n",
      "inputs at 80 are: 15.0 0.833333333333 6.0 0.15 0.209302325581 0.0420185861744\n",
      "inputs at 81 are: 15.0 0.833333333333 -10.0 0.25 0.253521126761 -0.0475831798491\n",
      "inputs at 82 are: 10.0 0.47619047619 -5.0 0.121951219512 0.216494845361 -0.0479082862359\n",
      "inputs at 83 are: 22.0 0.95652173913 0.0 0.171875 0.244680851064 0.344992292386\n",
      "inputs at 84 are: 17.0 0.809523809524 -3.0 0.184782608696 0.244186046512 -0.153373668779\n",
      "inputs at 85 are: 19.0 1.35714285714 5.0 0.19 0.166666666667 0.0798353137313\n",
      "inputs at 86 are: 9.0 2.25 2.0 0.109756097561 0.153846153846 0.264717092899\n",
      "inputs at 87 are: 19.0 0.904761904762 2.0 0.19 0.25 0.106447084975\n",
      "inputs at 88 are: 28.0 1.75 6.0 0.301075268817 0.213333333333 0.0882390309662\n",
      "inputs at 89 are: 14.0 1.16666666667 6.0 0.147368421053 0.146341463415 0.0588260206441\n",
      "inputs at 90 are: 7.0 0.368421052632 -13.0 0.152173913043 0.24358974359 -0.0221466343996\n",
      "inputs at 91 are: 11.0 0.647058823529 -13.0 0.21568627451 0.239436619718 -0.0388961898279\n",
      "inputs at 92 are: 18.0 2.57142857143 12.0 0.202247191011 0.170731707317 0.0698154970282\n",
      "inputs at 93 are: 14.0 0.933333333333 7.0 0.145833333333 0.230769230769 0.0411782144509\n",
      "inputs at 94 are: 26.0 1.625 -4.0 0.313253012048 0.190476190476 -0.211180257844\n",
      "inputs at 95 are: 11.0 1.0 9.0 0.118279569892 0.289473684211 0.0352956123865\n",
      "inputs at 96 are: 18.0 1.0 -4.0 0.225 0.211764705882 -0.12995708175\n",
      "inputs at 97 are: 17.0 1.0625 -8.0 0.25 0.216216216216 -0.0690806555922\n",
      "inputs at 98 are: 18.0 0.947368421053 2.0 0.209302325581 0.223529411765 0.111459828589\n",
      "inputs at 99 are: 12.0 0.8 9.0 0.127659574468 0.288461538462 0.0282364899092\n",
      "inputs at 100 are: 25.0 1.04166666667 -2.0 0.290697674419 0.292682926829 -0.384655596947\n",
      "inputs at 101 are: 15.0 1.25 10.0 0.170454545455 0.244897959184 0.0401086504392\n",
      "inputs at 102 are: 12.0 0.666666666667 3.0 0.110091743119 0.243243243243 0.0588260206441\n",
      "inputs at 103 are: 9.0 0.75 13.0 0.109756097561 0.260869565217 0.0189083637785\n",
      "inputs at 104 are: 23.0 1.53333333333 8.0 0.242105263158 0.208333333333 0.0601332655473\n",
      "inputs at 105 are: 10.0 0.555555555556 -12.0 0.169491525424 0.257142857143 -0.0313805522505\n",
      "inputs at 106 are: 9.0 0.45 0.0 0.136363636364 0.253164556962 0.1623031921\n",
      "inputs at 107 are: 32.0 1.28 -6.0 0.223776223776 0.227272727273 -0.106760292205\n",
      "inputs at 108 are: 11.0 0.55 -6.0 0.142857142857 0.25641025641 -0.0458735630567\n",
      "inputs at 109 are: 19.0 1.72727272727 14.0 0.22619047619 0.229166666667 0.040643432445\n",
      "inputs at 110 are: 15.0 1.875 14.0 0.185185185185 0.242424242424 0.0441195154831\n",
      "inputs at 111 are: 25.0 1.66666666667 -2.0 0.229357798165 0.214285714286 -0.615448955115\n",
      "inputs at 112 are: 22.0 1.22222222222 10.0 0.22 0.204545454545 0.0392173470961\n",
      "inputs at 113 are: 14.0 1.07692307692 10.0 0.166666666667 0.232142857143 0.0345551449938\n",
      "inputs at 114 are: 20.0 0.909090909091 7.0 0.21978021978 0.278481012658 0.0401086504392\n",
      "inputs at 115 are: 19.0 1.05555555556 -7.0 0.279411764706 0.219512195122 -0.0764036588533\n",
      "inputs at 116 are: 19.0 1.46153846154 -7.0 0.19587628866 0.228070175439 -0.105789681489\n",
      "inputs at 117 are: 32.0 1.18518518519 0.0 0.237037037037 0.259615384615 0.4274651973\n",
      "inputs at 118 are: 44.0 3.66666666667 5.0 0.444444444444 0.166666666667 0.215695409028\n",
      "inputs at 119 are: 39.0 1.18181818182 0.0 0.25 0.259842519685 0.426250807535\n",
      "inputs at 120 are: 31.0 1.19230769231 0.0 0.244094488189 0.25 0.430034098727\n",
      "inputs at 121 are: 24.0 1.41176470588 -4.0 0.24 0.269841269841 -0.183468821295\n",
      "inputs at 122 are: 13.0 0.590909090909 5.0 0.156626506024 0.275 0.0347608303806\n",
      "inputs at 123 are: 24.0 1.6 5.0 0.242424242424 0.220588235294 0.0941216330306\n",
      "inputs at 124 are: 20.0 1.0 -7.0 0.212765957447 0.232558139535 -0.0723824136505\n",
      "inputs at 125 are: 20.0 1.05263157895 -7.0 0.277777777778 0.223529411765 -0.076192014369\n",
      "inputs at 126 are: 22.0 1.46666666667 8.0 0.229166666667 0.185185185185 0.0575187757409\n",
      "inputs at 127 are: 20.0 1.53846153846 8.0 0.192307692308 0.213114754098 0.0603343801478\n",
      "inputs at 128 are: 22.0 1.04761904762 0.0 0.18487394958 0.196261682243 0.377848701185\n",
      "inputs at 129 are: 26.0 1.2380952381 2.0 0.252427184466 0.2625 0.145664432071\n",
      "inputs at 130 are: 30.0 1.5 -3.0 0.272727272727 0.2 -0.284192386267\n",
      "inputs at 131 are: 28.0 1.86666666667 6.0 0.28 0.234375 0.0941216330306\n",
      "inputs at 132 are: 19.0 1.05555555556 -8.0 0.287878787879 0.204545454545 -0.0686291480393\n",
      "inputs at 133 are: 10.0 0.666666666667 11.0 0.112359550562 0.272727272727 0.019608673548\n",
      "inputs at 134 are: 21.0 1.05 -2.0 0.205882352941 0.190476190476 -0.387732841722\n",
      "inputs at 135 are: 25.0 1.38888888889 -3.0 0.252525252525 0.214285714286 -0.263141098396\n",
      "inputs at 136 are: 21.0 1.3125 3.0 0.198113207547 0.164948453608 0.115813728143\n",
      "inputs at 137 are: 14.0 0.933333333333 9.0 0.170731707317 0.283018867925 0.0329425715607\n",
      "inputs at 138 are: 19.0 1.35714285714 7.0 0.19387755102 0.186666666667 0.0598764852985\n",
      "inputs at 139 are: 17.0 1.54545454545 14.0 0.2 0.234042553191 0.0363651763982\n",
      "inputs at 140 are: 24.0 1.5 5.0 0.242424242424 0.225352112676 0.0882390309662\n",
      "inputs at 141 are: 16.0 1.14285714286 10.0 0.190476190476 0.191780821918 0.0366707661158\n",
      "inputs at 142 are: 19.0 0.863636363636 -6.0 0.2375 0.258823529412 -0.0720328676096\n",
      "inputs at 143 are: 19.0 1.35714285714 8.0 0.20652173913 0.189189189189 0.0532235424875\n",
      "inputs at 144 are: 23.0 1.0 0.0 0.185483870968 0.234693877551 0.360673760222\n",
      "inputs at 145 are: 21.0 1.75 8.0 0.244186046512 0.153846153846 0.0686303574181\n",
      "inputs at 146 are: 21.0 1.90909090909 12.0 0.2625 0.25 0.0518327174906\n",
      "inputs at 147 are: 33.0 1.17857142857 0.0 0.268292682927 0.261682242991 0.425079788833\n",
      "inputs at 148 are: 8.0 0.470588235294 -11.0 0.16 0.242857142857 -0.0262640294848\n",
      "inputs at 149 are: 24.0 1.41176470588 -4.0 0.260869565217 0.2125 -0.183468821295\n",
      "inputs at 150 are: 23.0 1.21052631579 11.0 0.258426966292 0.180952380952 0.0356052230214\n",
      "inputs at 151 are: 18.0 1.2 11.0 0.21686746988 0.227272727273 0.0352956123865\n",
      "inputs at 152 are: 14.0 0.636363636364 -7.0 0.186666666667 0.222222222222 -0.0460615359594\n",
      "inputs at 153 are: 15.0 0.789473684211 -7.0 0.194805194805 0.211111111111 -0.0571440107767\n",
      "inputs at 154 are: 38.0 1.35714285714 0.0 0.255033557047 0.25 0.489485817444\n",
      "inputs at 155 are: 11.0 1.1 12.0 0.132530120482 0.185185185185 0.0298655181732\n",
      "inputs at 156 are: 26.0 1.73333333333 8.0 0.265306122449 0.254237288136 0.0679767349665\n",
      "inputs at 157 are: 7.0 0.4375 -14.0 0.12962962963 0.253968253968 -0.0306330508961\n",
      "inputs at 158 are: 23.0 1.76923076923 8.0 0.252747252747 0.1625 0.06938453717\n",
      "inputs at 159 are: 22.0 1.29411764706 -7.0 0.22 0.253731343284 -0.0936713588419\n",
      "inputs at 160 are: 18.0 1.0 11.0 0.236842105263 0.257142857143 0.0294130103221\n",
      "inputs at 161 are: 16.0 1.6 11.0 0.19512195122 0.227272727273 0.0470608165153\n",
      "inputs at 162 are: 21.0 1.23529411765 4.0 0.201923076923 0.246376811594 0.0872009247195\n",
      "inputs at 163 are: 23.0 1.35294117647 4.0 0.221153846154 0.242857142857 0.0955057746928\n",
      "inputs at 164 are: 28.0 1.55555555556 0.0 0.277227722772 0.193548387097 0.561048071457\n",
      "inputs at 165 are: 23.0 1.04545454545 2.0 0.211009174312 0.18487394958 0.122999861347\n",
      "inputs at 166 are: 11.0 0.458333333333 2.0 0.114583333333 0.237623762376 0.0539238522571\n",
      "inputs at 167 are: 23.0 1.04545454545 2.0 0.209090909091 0.229166666667 0.122999861347\n",
      "inputs at 168 are: 22.0 1.15789473684 2.0 0.22 0.211111111111 0.136228679386\n",
      "inputs at 169 are: 28.0 1.86666666667 6.0 0.282828282828 0.189873417722 0.0941216330306\n",
      "inputs at 170 are: 28.0 4.0 13.0 0.325581395349 0.184210526316 0.100844606819\n",
      "inputs at 171 are: 37.0 1.15625 -4.0 0.229813664596 0.188235294118 -0.150262875774\n",
      "inputs at 172 are: 17.0 0.85 -4.0 0.178947368421 0.20202020202 -0.110463519488\n",
      "inputs at 173 are: 28.0 1.4 -3.0 0.297872340426 0.194174757282 -0.265246227183\n",
      "inputs at 174 are: 23.0 1.15 6.0 0.244680851064 0.3125 0.0579856489206\n",
      "inputs at 175 are: 19.0 1.72727272727 5.0 0.220930232558 0.150684931507 0.101608581113\n",
      "inputs at 176 are: 28.0 1.86666666667 5.0 0.277227722772 0.174418604651 0.109808571869\n",
      "inputs at 177 are: 15.0 1.25 8.0 0.168539325843 0.22641509434 0.0490216838701\n",
      "inputs at 178 are: 13.0 1.08333333333 8.0 0.147727272727 0.266666666667 0.0424854593541\n",
      "inputs at 179 are: 15.0 0.789473684211 2.0 0.151515151515 0.231707317073 0.0928831904907\n",
      "inputs at 180 are: 25.0 1.25 2.0 0.255102040816 0.190476190476 0.14706505161\n",
      "inputs at 181 are: 29.0 1.11538461538 0.0 0.211678832117 0.245283018868 0.402289963325\n",
      "inputs at 182 are: 16.0 0.842105263158 7.0 0.163265306122 0.2375 0.0371532761963\n",
      "inputs at 183 are: 21.0 0.954545454545 8.0 0.272727272727 0.25 0.0374347404099\n",
      "inputs at 184 are: 16.0 1.23076923077 -12.0 0.181818181818 0.216666666667 -0.069519992678\n",
      "inputs at 185 are: 13.0 0.8125 -12.0 0.282608695652 0.225352112676 -0.0458940576663\n",
      "inputs at 186 are: 25.0 3.125 7.0 0.287356321839 0.129032258065 0.137873485885\n",
      "inputs at 187 are: 17.0 0.894736842105 7.0 0.17 0.2375 0.0394753559586\n",
      "inputs at 188 are: 26.0 1.18181818182 0.0 0.337662337662 0.285714285714 0.426250807535\n",
      "inputs at 189 are: 47.0 1.23684210526 -2.0 0.225961538462 0.218390804598 -0.456727908796\n",
      "inputs at 190 are: 18.0 0.75 -2.0 0.181818181818 0.279069767442 -0.276952029802\n",
      "inputs at 191 are: 21.0 1.4 8.0 0.233333333333 0.230769230769 0.0549042859345\n",
      "inputs at 192 are: 15.0 0.833333333333 8.0 0.151515151515 0.253521126761 0.0326811225801\n",
      "inputs at 193 are: 19.0 0.95 -3.0 0.20652173913 0.25 -0.179988511303\n",
      "inputs at 194 are: 21.0 1.10526315789 -3.0 0.23595505618 0.22619047619 -0.209404916197\n",
      "inputs at 195 are: 17.0 0.944444444444 -7.0 0.22972972973 0.246575342466 -0.0683611684477\n",
      "inputs at 196 are: 16.0 0.761904761905 -7.0 0.213333333333 0.2625 -0.0551485056385\n",
      "inputs at 197 are: 24.0 1.04347826087 -7.0 0.222222222222 0.267441860465 -0.0755294751136\n",
      "inputs at 198 are: 15.0 0.75 6.0 0.192307692308 0.253164556962 0.0378167275569\n",
      "inputs at 199 are: 24.0 1.26315789474 6.0 0.252631578947 0.283582089552 0.0636913306222\n",
      "inputs at 200 are: 24.0 1.5 8.0 0.272727272727 0.262295081967 0.0588260206441\n",
      "inputs at 201 are: 18.0 1.28571428571 8.0 0.1875 0.28 0.0504223034093\n",
      "inputs at 202 are: 22.0 2.0 12.0 0.275 0.268292682927 0.054300942133\n",
      "inputs at 203 are: 23.0 1.53333333333 6.0 0.219047619048 0.174418604651 0.0773141985609\n",
      "inputs at 204 are: 14.0 0.636363636364 -7.0 0.2 0.275 -0.0460615359594\n",
      "inputs at 205 are: 20.0 0.833333333333 -4.0 0.238095238095 0.235294117647 -0.108297568125\n",
      "inputs at 206 are: 16.0 1.0 7.0 0.175824175824 0.258064516129 0.0441195154831\n",
      "inputs at 207 are: 21.0 1.10526315789 4.0 0.214285714286 0.211111111111 0.0780218800122\n",
      "inputs at 208 are: 28.0 1.47368421053 14.0 0.245614035088 0.22619047619 0.0346763911165\n",
      "inputs at 209 are: 15.0 1.36363636364 -13.0 0.189873417722 0.282051282051 -0.0819713091414\n",
      "inputs at 210 are: 6.0 0.333333333333 -13.0 0.153846153846 0.264705882353 -0.0200374311235\n",
      "inputs at 211 are: 15.0 1.36363636364 7.0 0.182926829268 0.186440677966 0.0601629756588\n",
      "inputs at 212 are: 20.0 1.17647058824 7.0 0.208333333333 0.202380952381 0.0519053123331\n",
      "inputs at 213 are: 23.0 1.35294117647 7.0 0.242105263158 0.320754716981 0.059691109183\n",
      "inputs at 214 are: 20.0 1.0 -8.0 0.31746031746 0.253164556962 -0.0650170876162\n",
      "inputs at 215 are: 24.0 1.09090909091 3.0 0.228571428571 0.275 0.096260761054\n",
      "inputs at 216 are: 25.0 1.38888888889 3.0 0.233644859813 0.230769230769 0.122554209675\n",
      "inputs at 217 are: 18.0 0.72 -6.0 0.165137614679 0.235849056604 -0.0600526643651\n",
      "inputs at 218 are: 14.0 0.666666666667 4.0 0.197183098592 0.207920792079 0.0470608165153\n",
      "inputs at 219 are: 20.0 1.11111111111 4.0 0.2 0.195652173913 0.0784346941922\n",
      "inputs at 220 are: 15.0 0.652173913043 -6.0 0.172413793103 0.214953271028 -0.0543955293162\n",
      "inputs at 221 are: 11.0 0.5 -6.0 0.144736842105 0.226804123711 -0.0417032391424\n",
      "inputs at 222 are: 15.0 0.833333333333 -4.0 0.2 0.1875 -0.108297568125\n",
      "inputs at 223 are: 11.0 0.478260869565 -12.0 0.141025641026 0.2875 -0.0270145623722\n",
      "inputs at 224 are: 6.0 0.4 -12.0 0.133333333333 0.230769230769 -0.0225939976203\n",
      "inputs at 225 are: 19.0 3.16666666667 12.0 0.218390804598 0.166666666667 0.0859764917106\n",
      "inputs at 226 are: 23.0 0.958333333333 -4.0 0.267441860465 0.235294117647 -0.124542203344\n",
      "inputs at 227 are: 15.0 0.75 -14.0 0.178571428571 0.25 -0.0525138015362\n",
      "inputs at 228 are: 6.0 0.375 2.0 0.136363636364 0.238805970149 0.0441195154831\n",
      "inputs at 229 are: 22.0 1.46666666667 2.0 0.211538461538 0.185185185185 0.172556327223\n",
      "inputs at 230 are: 15.0 0.75 -8.0 0.217391304348 0.215053763441 -0.0487628157122\n",
      "inputs at 231 are: 20.0 1.17647058824 -8.0 0.27027027027 0.207317073171 -0.0764906913132\n",
      "inputs at 232 are: 16.0 1.06666666667 8.0 0.173913043478 0.208333333333 0.0418318369025\n",
      "inputs at 233 are: 26.0 0.962962962963 0.0 0.198473282443 0.25 0.347315472807\n",
      "inputs at 234 are: 30.0 1.5 2.0 0.288461538462 0.215053763441 0.176478061932\n",
      "inputs at 235 are: 17.0 1.30769230769 8.0 0.175257731959 0.26 0.0512842231256\n",
      "inputs at 236 are: 21.0 1.4 8.0 0.216494845361 0.277777777778 0.0549042859345\n",
      "inputs at 237 are: 15.0 0.833333333333 -6.0 0.185185185185 0.191489361702 -0.0695053985707\n",
      "inputs at 238 are: 22.0 0.95652173913 0.0 0.191304347826 0.237113402062 0.344992292386\n",
      "inputs at 239 are: 25.0 1.92307692308 10.0 0.277777777778 0.185714285714 0.0617056160603\n",
      "inputs at 240 are: 20.0 2.22222222222 13.0 0.229885057471 0.272727272727 0.0560247815658\n",
      "inputs at 241 are: 27.0 1.42105263158 4.0 0.245454545455 0.215909090909 0.10031384573\n",
      "inputs at 242 are: 24.0 1.6 8.0 0.25 0.283018867925 0.0627477553537\n",
      "inputs at 243 are: 27.0 1.5 3.0 0.27 0.191489361702 0.132358546449\n",
      "inputs at 244 are: 16.0 1.33333333333 11.0 0.179775280899 0.260869565217 0.0392173470961\n",
      "inputs at 245 are: 21.0 1.3125 5.0 0.203883495146 0.242424242424 0.0772091520954\n",
      "inputs at 246 are: 19.0 0.95 6.0 0.215909090909 0.25974025974 0.0479011882388\n",
      "inputs at 247 are: 22.0 1.69230769231 11.0 0.247191011236 0.309523809524 0.049775863622\n",
      "inputs at 248 are: 20.0 1.66666666667 4.0 0.21978021978 0.24 0.117652041288\n",
      "inputs at 249 are: 24.0 1.2 -10.0 0.230769230769 0.285714285714 -0.0685197789826\n",
      "inputs at 250 are: 7.0 0.368421052632 -10.0 0.120689655172 0.256756756757 -0.0210367742491\n",
      "inputs at 251 are: 24.0 1.6 7.0 0.263736263736 0.220588235294 0.070591224773\n",
      "inputs at 252 are: 25.0 2.08333333333 7.0 0.265957446809 0.151898734177 0.0919156572564\n",
      "inputs at 253 are: 31.0 1.06896551724 9.0 0.210884353741 0.27619047619 0.0377297925511\n",
      "inputs at 254 are: 13.0 1.0 9.0 0.14606741573 0.236363636364 0.0352956123865\n",
      "inputs at 255 are: 23.0 1.04545454545 2.0 0.225490196078 0.268292682927 0.122999861347\n",
      "inputs at 256 are: 9.0 0.428571428571 -9.0 0.130434782609 0.230769230769 -0.0257624114444\n",
      "inputs at 257 are: 19.0 2.11111111111 0.0 0.228915662651 0.225 0.761422382691\n",
      "inputs at 258 are: 23.0 0.884615384615 0.0 0.175572519084 0.288888888889 0.31905755712\n",
      "inputs at 259 are: 18.0 0.947368421053 -8.0 0.25 0.263888888889 -0.0615951356364\n",
      "inputs at 260 are: 18.0 1.0 5.0 0.174757281553 0.189473684211 0.0588260206441\n",
      "inputs at 261 are: 15.0 0.75 6.0 0.15306122449 0.215053763441 0.0378167275569\n",
      "inputs at 262 are: 24.0 1.71428571429 11.0 0.279069767442 0.264150943396 0.0504223034093\n",
      "inputs at 263 are: 18.0 0.782608695652 -2.0 0.178217821782 0.283950617284 -0.288993422402\n",
      "inputs at 264 are: 9.0 0.428571428571 -7.0 0.121621621622 0.225806451613 -0.0310210344217\n",
      "inputs at 265 are: 14.0 1.75 15.0 0.170731707317 0.285714285714 0.0386045760477\n",
      "inputs at 266 are: 11.0 0.785714285714 9.0 0.123595505618 0.184210526316 0.0277322668751\n",
      "inputs at 267 are: 14.0 0.823529411765 -9.0 0.202898550725 0.193181818182 -0.0495042415991\n",
      "inputs at 268 are: 17.0 0.85 -5.0 0.202380952381 0.246913580247 -0.0855162909311\n",
      "inputs at 269 are: 30.0 3.33333333333 9.0 0.3125 0.121621621622 0.117652041288\n",
      "inputs at 270 are: 25.0 3.57142857143 11.0 0.280898876404 0.159090909091 0.105046465436\n",
      "inputs at 271 are: 23.0 0.958333333333 0.0 0.186991869919 0.258064516129 0.34564568688\n",
      "inputs at 272 are: 23.0 1.35294117647 5.0 0.232323232323 0.195402298851 0.0795881455773\n",
      "inputs at 273 are: 19.0 1.1875 5.0 0.182692307692 0.186046511628 0.0698558995149\n",
      "inputs at 274 are: 20.0 1.11111111111 -7.0 0.30303030303 0.225 -0.0804249040562\n",
      "inputs at 275 are: 15.0 0.833333333333 4.0 0.159574468085 0.246575342466 0.0588260206441\n"
     ]
    }
   ],
   "source": [
    "tz , iz =  get_targs(TENZ)"
   ]
  },
  {
   "cell_type": "code",
   "execution_count": 123,
   "metadata": {
    "collapsed": false
   },
   "outputs": [
    {
     "name": "stdout",
     "output_type": "stream",
     "text": [
      "[[[ 20.           1.42857143  -7.           0.21052632   0.18421053\n",
      "    -0.10340345]\n",
      "  [ 15.           0.78947368  12.           0.21126761   0.21590909\n",
      "     0.02143458]\n",
      "  [ 15.           1.66666667  12.           0.17647059   0.16981132\n",
      "     0.04525079]\n",
      "  ..., \n",
      "  [ 19.           1.1875       5.           0.18269231   0.18604651\n",
      "     0.0698559 ]\n",
      "  [ 20.           1.11111111  -7.           0.3030303    0.225       -0.0804249 ]\n",
      "  [ 15.           0.83333333   4.           0.15957447   0.24657534\n",
      "     0.05882602]]\n",
      "\n",
      " [[ 15.           0.78947368  12.           0.21126761   0.21590909\n",
      "     0.02143458]\n",
      "  [ 15.           1.66666667  12.           0.17647059   0.16981132\n",
      "     0.04525079]\n",
      "  [ 14.           2.33333333   3.           0.1686747    0.20689655\n",
      "     0.20589107]\n",
      "  ..., \n",
      "  [ 20.           1.11111111  -7.           0.3030303    0.225       -0.0804249 ]\n",
      "  [ 15.           0.83333333   4.           0.15957447   0.24657534\n",
      "     0.05882602]\n",
      "  [  0.           0.           0.           0.           0.           0.        ]]\n",
      "\n",
      " [[ 15.           1.66666667  12.           0.17647059   0.16981132\n",
      "     0.04525079]\n",
      "  [ 14.           2.33333333   3.           0.1686747    0.20689655\n",
      "     0.20589107]\n",
      "  [ 17.           0.89473684   3.           0.1588785    0.22093023\n",
      "     0.07895071]\n",
      "  ..., \n",
      "  [ 15.           0.83333333   4.           0.15957447   0.24657534\n",
      "     0.05882602]\n",
      "  [  0.           0.           0.           0.           0.           0.        ]\n",
      "  [  0.           0.           0.           0.           0.           0.        ]]\n",
      "\n",
      " ..., \n",
      " [[ 19.           1.1875       5.           0.18269231   0.18604651\n",
      "     0.0698559 ]\n",
      "  [ 20.           1.11111111  -7.           0.3030303    0.225       -0.0804249 ]\n",
      "  [ 15.           0.83333333   4.           0.15957447   0.24657534\n",
      "     0.05882602]\n",
      "  ..., \n",
      "  [  0.           0.           0.           0.           0.           0.        ]\n",
      "  [  0.           0.           0.           0.           0.           0.        ]\n",
      "  [  0.           0.           0.           0.           0.           0.        ]]\n",
      "\n",
      " [[ 20.           1.11111111  -7.           0.3030303    0.225       -0.0804249 ]\n",
      "  [ 15.           0.83333333   4.           0.15957447   0.24657534\n",
      "     0.05882602]\n",
      "  [  0.           0.           0.           0.           0.           0.        ]\n",
      "  ..., \n",
      "  [  0.           0.           0.           0.           0.           0.        ]\n",
      "  [  0.           0.           0.           0.           0.           0.        ]\n",
      "  [  0.           0.           0.           0.           0.           0.        ]]\n",
      "\n",
      " [[  0.           0.           0.           0.           0.           0.        ]\n",
      "  [  0.           0.           0.           0.           0.           0.        ]\n",
      "  [  0.           0.           0.           0.           0.           0.        ]\n",
      "  ..., \n",
      "  [  0.           0.           0.           0.           0.           0.        ]\n",
      "  [  0.           0.           0.           0.           0.           0.        ]\n",
      "  [  0.           0.           0.           0.           0.           0.        ]]]\n",
      "...../////////////////////////................\n",
      "[[[ 15.           0.83333333   4.           0.15957447   0.24657534\n",
      "     0.05882602]\n",
      "  [ 20.           1.11111111  -7.           0.3030303    0.225       -0.0804249 ]\n",
      "  [ 19.           1.1875       5.           0.18269231   0.18604651\n",
      "     0.0698559 ]\n",
      "  ..., \n",
      "  [ 15.           1.66666667  12.           0.17647059   0.16981132\n",
      "     0.04525079]\n",
      "  [ 15.           0.78947368  12.           0.21126761   0.21590909\n",
      "     0.02143458]\n",
      "  [ 20.           1.42857143  -7.           0.21052632   0.18421053\n",
      "    -0.10340345]]\n",
      "\n",
      " [[  0.           0.           0.           0.           0.           0.        ]\n",
      "  [ 15.           0.83333333   4.           0.15957447   0.24657534\n",
      "     0.05882602]\n",
      "  [ 20.           1.11111111  -7.           0.3030303    0.225       -0.0804249 ]\n",
      "  ..., \n",
      "  [ 14.           2.33333333   3.           0.1686747    0.20689655\n",
      "     0.20589107]\n",
      "  [ 15.           1.66666667  12.           0.17647059   0.16981132\n",
      "     0.04525079]\n",
      "  [ 15.           0.78947368  12.           0.21126761   0.21590909\n",
      "     0.02143458]]\n",
      "\n",
      " [[  0.           0.           0.           0.           0.           0.        ]\n",
      "  [  0.           0.           0.           0.           0.           0.        ]\n",
      "  [ 15.           0.83333333   4.           0.15957447   0.24657534\n",
      "     0.05882602]\n",
      "  ..., \n",
      "  [ 17.           0.89473684   3.           0.1588785    0.22093023\n",
      "     0.07895071]\n",
      "  [ 14.           2.33333333   3.           0.1686747    0.20689655\n",
      "     0.20589107]\n",
      "  [ 15.           1.66666667  12.           0.17647059   0.16981132\n",
      "     0.04525079]]\n",
      "\n",
      " ..., \n",
      " [[  0.           0.           0.           0.           0.           0.        ]\n",
      "  [  0.           0.           0.           0.           0.           0.        ]\n",
      "  [  0.           0.           0.           0.           0.           0.        ]\n",
      "  ..., \n",
      "  [ 15.           0.83333333   4.           0.15957447   0.24657534\n",
      "     0.05882602]\n",
      "  [ 20.           1.11111111  -7.           0.3030303    0.225       -0.0804249 ]\n",
      "  [ 19.           1.1875       5.           0.18269231   0.18604651\n",
      "     0.0698559 ]]\n",
      "\n",
      " [[  0.           0.           0.           0.           0.           0.        ]\n",
      "  [  0.           0.           0.           0.           0.           0.        ]\n",
      "  [  0.           0.           0.           0.           0.           0.        ]\n",
      "  ..., \n",
      "  [  0.           0.           0.           0.           0.           0.        ]\n",
      "  [ 15.           0.83333333   4.           0.15957447   0.24657534\n",
      "     0.05882602]\n",
      "  [ 20.           1.11111111  -7.           0.3030303    0.225       -0.0804249 ]]\n",
      "\n",
      " [[  0.           0.           0.           0.           0.           0.        ]\n",
      "  [  0.           0.           0.           0.           0.           0.        ]\n",
      "  [  0.           0.           0.           0.           0.           0.        ]\n",
      "  ..., \n",
      "  [  0.           0.           0.           0.           0.           0.        ]\n",
      "  [  0.           0.           0.           0.           0.           0.        ]\n",
      "  [  0.           0.           0.           0.           0.           0.        ]]]\n"
     ]
    }
   ],
   "source": [
    "print(iz)\n",
    "print(\"...../////////////////////////................\")\n",
    "print( iz[:,::-1,:])\n",
    "\n",
    "# SO IT WORKS FOR REAL\n",
    "iz = iz[:,::-1,:]"
   ]
  },
  {
   "cell_type": "markdown",
   "metadata": {},
   "source": [
    "#### Need to normalize the input data as they are being ran through a sigmoid / tanh function "
   ]
  },
  {
   "cell_type": "code",
   "execution_count": 124,
   "metadata": {
    "collapsed": true
   },
   "outputs": [],
   "source": [
    "import math\n",
    "\n",
    "def normalize(x_train):\n",
    "    '''\n",
    "    normalizes each column...\n",
    "    '''\n",
    "    \n",
    "    # need to normalize x_train:\n",
    "    for thr in range(np.shape(x_train)[2]):\n",
    "        for col in range(np.shape(x_train)[1]): # iterate over each column:\n",
    "            for row in range(len(x_train)):\n",
    "                if math.isnan( ( x_train[row,col,thr] - np.min( x_train[:,col,thr])) / (np.max( x_train[:,col,thr]) -  np.min(x_train[:,col])) ) == True:\n",
    "                    x_train[row,col,thr] = 0\n",
    "                else:\n",
    "                    x_train[row,col,thr] = ( x_train[row,col,thr] - np.min( x_train[:,col,thr])) / (np.max( x_train[:,col,thr]) -  np.min(x_train[:,col]))\n",
    "               \n",
    "                    \n",
    "    return(x_train)            \n"
   ]
  },
  {
   "cell_type": "markdown",
   "metadata": {},
   "source": [
    "## LSTM Time!\n",
    "\n",
    "Now that we have our input data and targets we can use these to split into test and training data set, then run them through an LSTM neural network"
   ]
  },
  {
   "cell_type": "code",
   "execution_count": 125,
   "metadata": {
    "collapsed": false
   },
   "outputs": [],
   "source": [
    "def test_train(inputs, targs, perc = 30):\n",
    "    '''\n",
    "    Take input and target data then split them by the given percentage ratio\n",
    "    \"percent\" must be between 1 and 50 - signalling no more training data splitting than testing \n",
    "    '''\n",
    "    N = np.shape(inputs)[0]\n",
    "    N_train = int( ((100 - perc) / 100 ) * N )\n",
    "    # train set...\n",
    "    train_i = inputs[:N_train,:,:]\n",
    "    train_t = targs[:N_train]\n",
    "    # test set...\n",
    "    test_i =  inputs[N_train+1:,:,:]\n",
    "    test_t = targs[N_train+1:]\n",
    "    \n",
    "    return(train_i,train_t,test_i,test_t)\n",
    "    "
   ]
  },
  {
   "cell_type": "code",
   "execution_count": 126,
   "metadata": {
    "collapsed": false
   },
   "outputs": [],
   "source": [
    "train_i,train_t,test_i,test_t = test_train(iz,tz, 30.0)"
   ]
  },
  {
   "cell_type": "code",
   "execution_count": 127,
   "metadata": {
    "collapsed": true
   },
   "outputs": [],
   "source": [
    "'''\n",
    "Data normalization:\n",
    "Please note that this is quite an expensive algorithm...\n",
    "'''\n",
    "trainI = normalize(train_i) \n",
    "testI = normalize(test_i)"
   ]
  },
  {
   "cell_type": "markdown",
   "metadata": {},
   "source": [
    "### Define the LSTM Architecture"
   ]
  },
  {
   "cell_type": "code",
   "execution_count": 128,
   "metadata": {
    "collapsed": false
   },
   "outputs": [],
   "source": [
    "## keras imports \n",
    "from keras.models import Sequential\n",
    "from keras.layers import Dense, Activation, LSTM"
   ]
  },
  {
   "cell_type": "code",
   "execution_count": 129,
   "metadata": {
    "collapsed": false
   },
   "outputs": [],
   "source": [
    "in_neurons = np.shape(train_i)[2]   \n",
    "out_neurons = 1 # since regression output  \n",
    "hidden_neurons = 3 # since 6 variables encoded...\n",
    "\n",
    "model = Sequential()  \n",
    "model.add(LSTM(output_dim=hidden_neurons, input_dim=in_neurons, return_sequences=False)) \n",
    "model.add(Dense(output_dim=out_neurons, input_dim=hidden_neurons))\n",
    "model.add(Activation(\"linear\"))  \n",
    "model.compile(loss=\"mean_squared_error\", optimizer= 'rmsprop' )  \n"
   ]
  },
  {
   "cell_type": "markdown",
   "metadata": {},
   "source": [
    "### Train the Model"
   ]
  },
  {
   "cell_type": "code",
   "execution_count": 57,
   "metadata": {
    "collapsed": false
   },
   "outputs": [
    {
     "data": {
      "text/plain": [
       "(193,)"
      ]
     },
     "execution_count": 57,
     "metadata": {},
     "output_type": "execute_result"
    }
   ],
   "source": [
    "# this is a model trained on fnx's data - will predict his next form...\n",
    "#np.shape(np.array(train_t))"
   ]
  },
  {
   "cell_type": "code",
   "execution_count": 158,
   "metadata": {
    "collapsed": false
   },
   "outputs": [
    {
     "name": "stdout",
     "output_type": "stream",
     "text": [
      "Train on 183 samples, validate on 10 samples\n",
      "Epoch 1/3\n",
      "183/183 [==============================] - 108s - loss: 0.0272 - val_loss: 0.0499\n",
      "Epoch 2/3\n",
      "183/183 [==============================] - 107s - loss: 0.0256 - val_loss: 0.0520\n",
      "Epoch 3/3\n",
      "183/183 [==============================] - 111s - loss: 0.0236 - val_loss: 0.0535\n"
     ]
    },
    {
     "data": {
      "text/plain": [
       "<keras.callbacks.History at 0x1ff57f5b5c0>"
      ]
     },
     "execution_count": 158,
     "metadata": {},
     "output_type": "execute_result"
    }
   ],
   "source": [
    "model.fit(trainI, np.array(train_t) , batch_size=1, nb_epoch = 3, validation_split=0.05)  \n"
   ]
  },
  {
   "cell_type": "code",
   "execution_count": 159,
   "metadata": {
    "collapsed": true
   },
   "outputs": [],
   "source": [
    "'''\n",
    "Time to predict some stuff LOL... :P\n",
    "'''\n",
    "predicted = model.predict(testI)  \n",
    "rmse = np.sqrt(((predicted - test_t) ** 2).mean(axis=0))\n"
   ]
  },
  {
   "cell_type": "markdown",
   "metadata": {},
   "source": [
    "# Plotting predicted Form vs Real\n",
    "\n",
    "Blue is the real, green is predicted"
   ]
  },
  {
   "cell_type": "code",
   "execution_count": 161,
   "metadata": {
    "collapsed": false
   },
   "outputs": [
    {
     "data": {
      "text/plain": [
       "[<matplotlib.lines.Line2D at 0x1ff589166a0>]"
      ]
     },
     "execution_count": 161,
     "metadata": {},
     "output_type": "execute_result"
    },
    {
     "data": {
      "image/png": "[encoded data removed]",
      "text/plain": [
       "<matplotlib.figure.Figure at 0x1ff5b9de9e8>"
      ]
     },
     "metadata": {},
     "output_type": "display_data"
    }
   ],
   "source": [
    "%matplotlib inline\n",
    "import matplotlib.pyplot as plt\n",
    "fig, ax = plt.subplots()\n",
    "\n",
    "ax.plot(pd.DataFrame(test_t[:len(predicted)-2]))\n",
    "ax.plot(pd.DataFrame(predicted[:len(predicted)-2]))\n"
   ]
  },
  {
   "cell_type": "code",
   "execution_count": 162,
   "metadata": {
    "collapsed": true
   },
   "outputs": [],
   "source": [
    "## SAVE THE MODEL:\n",
    "\n",
    "from keras.models import load_model\n",
    "\n",
    "model.save('player_performance_model.h5')  # creates a HDF5 file 'my_model.h5'\n",
    "\n",
    "#del model  # deletes the existing model - uncomment when needed\n",
    "\n",
    "# returns a compiled model\n",
    "# identical to the previous one - uncomment when needed\n",
    "model = load_model('player_performance_model.h5')"
   ]
  },
  {
   "cell_type": "code",
   "execution_count": 154,
   "metadata": {
    "collapsed": true
   },
   "outputs": [],
   "source": [
    "# load back in the model\n",
    "model = load_model('player_performance_model.h5')"
   ]
  },
  {
   "cell_type": "markdown",
   "metadata": {},
   "source": [
    "## API Demonstration\n",
    "\n",
    "Below shows some examples of uses from this API"
   ]
  },
  {
   "cell_type": "code",
   "execution_count": 17,
   "metadata": {
    "collapsed": false
   },
   "outputs": [
    {
     "name": "stdout",
     "output_type": "stream",
     "text": [
      "9.23727443252\n",
      "4.04407206672\n",
      "5.49569404148\n"
     ]
    }
   ],
   "source": [
    "# test form calculation with different scenarios...\n",
    "# this demonstrates the use of form_calc...\n",
    "'''\n",
    "good - easy win\n",
    "'''\n",
    "p1 = form_calc( K=22,D=4,TK = 23+22+13+12+13, TD = 12+10+7+11+4,TS=16,ES = 1 )\n",
    "'''\n",
    "average... (slight win) Coldzera (SK) vs fnatic...\n",
    "'''\n",
    "p2 = form_calc( K=16,D=13,TK = 23+19+20+16+15, TD = 17+13+18+11+13,TS=16,ES = 9 )\n",
    "'''\n",
    "good... (slight) win) fnx (SK) vs fnatic...\n",
    "'''\n",
    "p3 = form_calc( K=23,D=13,TK = 23+19+20+16+15, TD = 17+13+18+11+13,TS=16,ES = 9 )\n",
    "\n",
    "print(p1)\n",
    "print(p2)\n",
    "print(p3)"
   ]
  },
  {
   "cell_type": "markdown",
   "metadata": {},
   "source": [
    "#### Below it might be useful to use a lookup table of players...\n",
    "\n",
    "This can be done by the **show_players()** command...\n",
    "Which returns a frame of each player.\n",
    "\n",
    "I haven't actually made this command yet - but is on its way!"
   ]
  },
  {
   "cell_type": "code",
   "execution_count": null,
   "metadata": {
    "collapsed": true
   },
   "outputs": [],
   "source": [
    "# see the fellas we can use...\n",
    "show_players()"
   ]
  },
  {
   "cell_type": "markdown",
   "metadata": {},
   "source": [
    "### Team_score API call\n",
    "\n",
    "This is used as player name followed by their last nth match. i.e. team_score(\"Get_RiGhT\",0) shows the team information from get_right's last game... "
   ]
  },
  {
   "cell_type": "code",
   "execution_count": 34,
   "metadata": {
    "collapsed": false
   },
   "outputs": [
    {
     "name": "stdout",
     "output_type": "stream",
     "text": [
      "team score is: 16\n",
      "enemy score is: 11\n",
      "team kills are: 104.0\n",
      "team deaths are: 86.0\n"
     ]
    }
   ],
   "source": [
    "TS, ES, tk, td = team_score('GeT_RiGhT', 3)\n",
    "\n",
    "# then we can print these variables out:\n",
    "\n",
    "print('team score is:', TS )\n",
    "print('enemy score is:', ES )\n",
    "print('team kills are:', tk )\n",
    "print('team deaths are:', td)\n"
   ]
  },
  {
   "cell_type": "markdown",
   "metadata": {},
   "source": [
    "**Below needs to be turned into a function - currently just testing that the data goes into the 3 dimensional array correctly...**"
   ]
  },
  {
   "cell_type": "code",
   "execution_count": 59,
   "metadata": {
    "collapsed": false
   },
   "outputs": [],
   "source": [
    "# manually defining N T and K although they will be decided by the data we are using from \"make_inputs\"\n",
    "N = np.shape(frame)[1]\n",
    "T = N # full sized time window...\n",
    "K = 6\n",
    "#\n",
    "tens = np.zeros((N,T,K)) # iniitalizes tensor shape... (From a given 'N', and known 'T' and 'K')\n",
    "#tens[0] = np.random.randn(T,K) # this is the dataframe at first sample...\n",
    "\n",
    "'''\n",
    "basically need to generate a new dataframe for each 'N'...\n",
    "N is given by the number of time steps as well - as T\n",
    "...\n",
    "each dataframe is a TxK array of zeros (using np.zeros)\n",
    "\n",
    "'''\n",
    "\n",
    "# loop over each N:\n",
    "#i =  # for the 5th one...\n",
    "for i in range(N):\n",
    "#if True == True: # comment this out for testing...\n",
    "    # generate dataframe of zeros\n",
    "    df = np.zeros((T,K)) # this is of size T by K...\n",
    "    \n",
    "    # add for the first one...\n",
    "    df[0] = frame.ix[:,N-1] # since frame is a pandas dataframe... (from make_inputs command...)\n",
    "    \n",
    "    for j in range(1,N-i):\n",
    "        df[j] = frame.ix[:,N-i-j] # since frame is a pandas dataframe... (from make_inputs command...)\n",
    "        \n",
    "    tens[i] = df # adds to the tensor...\n"
   ]
  },
  {
   "cell_type": "markdown",
   "metadata": {},
   "source": [
    "The following cells visualise how the new tensor appears and how the the original data frame looks - there are still a few patches that need fixing..."
   ]
  },
  {
   "cell_type": "code",
   "execution_count": 8,
   "metadata": {
    "collapsed": false
   },
   "outputs": [
    {
     "ename": "NameError",
     "evalue": "name 'tens' is not defined",
     "output_type": "error",
     "traceback": [
      "\u001b[1;31m---------------------------------------------------------------------------\u001b[0m",
      "\u001b[1;31mNameError\u001b[0m                                 Traceback (most recent call last)",
      "\u001b[1;32m<ipython-input-8-d4a1f4e10216>\u001b[0m in \u001b[0;36m<module>\u001b[1;34m()\u001b[0m\n\u001b[1;32m----> 1\u001b[1;33m \u001b[0mprint\u001b[0m\u001b[1;33m(\u001b[0m\u001b[0mtens\u001b[0m\u001b[1;33m[\u001b[0m\u001b[1;36m1\u001b[0m\u001b[1;33m]\u001b[0m\u001b[1;33m)\u001b[0m\u001b[1;33m\u001b[0m\u001b[0m\n\u001b[0m",
      "\u001b[1;31mNameError\u001b[0m: name 'tens' is not defined"
     ]
    }
   ],
   "source": [
    "print(tens[1])"
   ]
  },
  {
   "cell_type": "code",
   "execution_count": 57,
   "metadata": {
    "collapsed": false
   },
   "outputs": [
    {
     "name": "stdout",
     "output_type": "stream",
     "text": [
      "         0          1          2          3          4          5    \\\n",
      "0  21.000000  15.000000  20.000000  19.000000  23.000000  23.000000   \n",
      "1   1.166667   0.833333   1.111111   1.187500   1.352941   0.958333   \n",
      "2  -4.000000   4.000000  -7.000000   5.000000   5.000000   0.000000   \n",
      "3   0.238636   0.159574   0.303030   0.182692   0.232323   0.186992   \n",
      "4   0.193548   0.246575   0.225000   0.186047   0.195402   0.258065   \n",
      "5  -0.151617   0.058826  -0.080425   0.069856   0.079588   0.345646   \n",
      "\n",
      "         6          7          8          9      ...            267       268  \\\n",
      "0  25.000000  30.000000  17.000000  14.000000    ...      10.000000  6.000000   \n",
      "1   3.571429   3.333333   0.850000   0.823529    ...       0.526316  0.272727   \n",
      "2  11.000000   9.000000  -5.000000  -9.000000    ...     -11.000000 -9.000000   \n",
      "3   0.280899   0.312500   0.202381   0.202899    ...       0.172414  0.093750   \n",
      "4   0.159091   0.121622   0.246914   0.193182    ...       0.256757  0.229167   \n",
      "5   0.105046   0.117652  -0.085516  -0.049504    ...      -0.029374 -0.016394   \n",
      "\n",
      "         269        270        271        272        273        274  \\\n",
      "0  19.000000  17.000000  15.000000  17.000000  14.000000  15.000000   \n",
      "1   0.904762   1.062500   0.750000   0.894737   2.333333   1.666667   \n",
      "2  -6.000000  -6.000000 -12.000000   3.000000   3.000000  12.000000   \n",
      "3   0.253333   0.346939   0.192308   0.158879   0.168675   0.176471   \n",
      "4   0.265823   0.216216   0.266667   0.220930   0.206897   0.169811   \n",
      "5  -0.075463  -0.088619  -0.042364   0.078951   0.205891   0.045251   \n",
      "\n",
      "         275        276  \n",
      "0  15.000000  20.000000  \n",
      "1   0.789474   1.428571  \n",
      "2  12.000000  -7.000000  \n",
      "3   0.211268   0.210526  \n",
      "4   0.215909   0.184211  \n",
      "5   0.021435  -0.103403  \n",
      "\n",
      "[6 rows x 277 columns]\n"
     ]
    }
   ],
   "source": [
    "print(frame)"
   ]
  },
  {
   "cell_type": "code",
   "execution_count": 203,
   "metadata": {
    "collapsed": false
   },
   "outputs": [
    {
     "name": "stdout",
     "output_type": "stream",
     "text": [
      "(2, 1)\n",
      "[[[1, 2], [1, 2]]]\n"
     ]
    }
   ],
   "source": [
    "#n = 1 # number of samples...\n",
    "#df = np.array(df)\n",
    "#KK = np.reshape(df,(n,np.shape(df)[1],np.shape(df)[0]) )\n",
    "#np.shape(KK)\n",
    "J = [[[[1,2],[1,2]]],[[[1,2]]]]\n",
    "J[0]\n",
    "print(np.shape(J))\n",
    "#get_tensor(df,2)\n",
    "print(J[0])\n",
    "#print(KK[0][0])"
   ]
  },
  {
   "cell_type": "code",
   "execution_count": 138,
   "metadata": {
    "collapsed": false
   },
   "outputs": [
    {
     "name": "stdout",
     "output_type": "stream",
     "text": [
      "537\n"
     ]
    }
   ],
   "source": [
    "#np.shape((player_data('GeT_RiGhT').reset_index(drop=True) ))[0]\n",
    "df = make_inputs('GeT_RiGhT')\n",
    "df.to_csv('getright data.csv') # save this to csv"
   ]
  },
  {
   "cell_type": "code",
   "execution_count": 139,
   "metadata": {
    "collapsed": false
   },
   "outputs": [],
   "source": [
    "\n",
    "\n"
   ]
  },
  {
   "cell_type": "code",
   "execution_count": 74,
   "metadata": {
    "collapsed": false
   },
   "outputs": [],
   "source": [
    "# win ratio metric:\n",
    "\n",
    "def win_ratio(team):\n",
    "    # get team data...\n",
    "    dato = team_data(team).reset_index(drop=True)\n",
    "    #print('The subset data length is:', len(dato))\n",
    "    # then iterate over every row:\n",
    "    WL = []\n",
    "    #print(np.shape(data)[0])\n",
    "    for row in range(len(dato)):\n",
    "        # print(dat.ix[row,5])    # this here jsut for testing...\n",
    "        if (dato.ix[row,5]) == team : # this is if they are the winning team - name is in the winning team col...\n",
    "            WL.append(1)\n",
    "            \n",
    "        else:\n",
    "            WL.append(0)\n",
    "            \n",
    "    #return(WL)\n",
    "    return(np.sum(WL)/len(WL), np.std(WL)) # this is the Win ratio metric... and variance (STD)\n",
    "    "
   ]
  },
  {
   "cell_type": "code",
   "execution_count": 77,
   "metadata": {
    "collapsed": false
   },
   "outputs": [
    {
     "data": {
      "text/plain": [
       "(0.60546875, 0.48874977521574114)"
      ]
     },
     "execution_count": 77,
     "metadata": {},
     "output_type": "execute_result"
    }
   ],
   "source": [
    "win_ratio('EnVyUs') # returns mean and stdev"
   ]
  },
  {
   "cell_type": "code",
   "execution_count": 96,
   "metadata": {
    "collapsed": true
   },
   "outputs": [],
   "source": [
    "# compile a lookup table of each team - unique team ID and team name...\n",
    "\n",
    "def table():\n",
    "    '''\n",
    "    This defines the total unique teams and their idx numbers...\n",
    "    '''\n",
    "    # total teams\n",
    "    teams = pd.concat([dat.ix[:,3],dat.ix[:,4]])\n",
    "    teams= teams.reset_index(drop=True)\n",
    "    teams = pd.DataFrame(pd.unique(teams))\n",
    "    print(teams)"
   ]
  },
  {
   "cell_type": "code",
   "execution_count": 97,
   "metadata": {
    "collapsed": false
   },
   "outputs": [
    {
     "name": "stdout",
     "output_type": "stream",
     "text": [
      "                      0\n",
      "0                sylloM\n",
      "1          Epsilon Hype\n",
      "2             Fragsport\n",
      "3       ALTERNATE aTTaX\n",
      "4                  LDLC\n",
      "5              NiceShot\n",
      "6                  ENCE\n",
      "7               Epsilon\n",
      "8                fnatic\n",
      "9                    SK\n",
      "10          Preparation\n",
      "11                   G2\n",
      "12         dream[S]cape\n",
      "13        Natus Vincere\n",
      "14              B.O.O.T\n",
      "15             dignitas\n",
      "16          AVANT GARDE\n",
      "17                  NiP\n",
      "18            Athletico\n",
      "19                 New4\n",
      "20          HellRaisers\n",
      "21          VG.CyberZen\n",
      "22              onestop\n",
      "23               Exile5\n",
      "24           Virtus.pro\n",
      "25                TyLoo\n",
      "26            iGame.com\n",
      "27             FlipSid3\n",
      "28                 k1ck\n",
      "29            Immortals\n",
      "...                 ...\n",
      "1331     kRoGhs KanonEr\n",
      "1332           MIXERINO\n",
      "1333            madjicK\n",
      "1334   Eternal Conflict\n",
      "1335       The Flying V\n",
      "1336          Deponeret\n",
      "1337            Vikings\n",
      "1338            DEMGUNZ\n",
      "1339   kassad's Legends\n",
      "1340               WiLD\n",
      "1341           ZajebaNi\n",
      "1342       Clutchit.org\n",
      "1343    Hitbox.tv Staff\n",
      "1344  Russian eSF Staff\n",
      "1345       ProGaming.TD\n",
      "1346            Katrina\n",
      "1347            UNNAMED\n",
      "1348              Faith\n",
      "1349       fAlsu's team\n",
      "1350          GL SHAKER\n",
      "1351           GGWP.pro\n",
      "1352     Cyborg Factory\n",
      "1353           Outbreak\n",
      "1354              ZYLEX\n",
      "1355              fusd0\n",
      "1356            EZpeezy\n",
      "1357             Armata\n",
      "1358              Cytik\n",
      "1359          Imaginary\n",
      "1360      Faroe Islands\n",
      "\n",
      "[1361 rows x 1 columns]\n"
     ]
    }
   ],
   "source": [
    "table()"
   ]
  },
  {
   "cell_type": "code",
   "execution_count": null,
   "metadata": {
    "collapsed": true
   },
   "outputs": [],
   "source": []
  }
 ],
 "metadata": {
  "anaconda-cloud": {},
  "kernelspec": {
   "display_name": "Python [Root]",
   "language": "python",
   "name": "Python [Root]"
  },
  "language_info": {
   "codemirror_mode": {
    "name": "ipython",
    "version": 3
   },
   "file_extension": ".py",
   "mimetype": "text/x-python",
   "name": "python",
   "nbconvert_exporter": "python",
   "pygments_lexer": "ipython3",
   "version": "3.5.2"
  }
 },
 "nbformat": 4,
 "nbformat_minor": 0
}
