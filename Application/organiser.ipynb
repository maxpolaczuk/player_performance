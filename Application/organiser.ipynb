{
 "cells": [
  {
   "cell_type": "markdown",
   "metadata": {},
   "source": [
    "## CS:GO Player Form Prediction"
   ]
  },
  {
   "cell_type": "markdown",
   "metadata": {},
   "source": [
    "To accompany our article/blog, this notebook is designed to show how we can use the simple variables such as the number of kills and deaths a player has in a given game in order to predict how they \"should\" perform on their next game. We first do a bunch of preprocessing and data manipulation. Then we use a recurrent neural network (specifically LSTM) to predict our measure of player form. Our real model of player form incorporates many more variables that we have extracted from the demo files of professional games, which give greater insight into player form than kills/deaths alone.\n",
    "\n",
    "But anyway here is an open and fun way to look at using data to predict the outcome of professional CSGO matches"
   ]
  },
  {
   "cell_type": "code",
   "execution_count": 1,
   "metadata": {
    "collapsed": false
   },
   "outputs": [],
   "source": [
    "# Python imports\n",
    "import pandas as pd\n",
    "import numpy as np\n",
    "import csv\n",
    "\n"
   ]
  },
  {
   "cell_type": "markdown",
   "metadata": {},
   "source": [
    "*Le data imports* \n",
    "\n",
    "Clearly you need to have the correct \"matchdata\" csv file in the same directory as this notebook..."
   ]
  },
  {
   "cell_type": "code",
   "execution_count": 2,
   "metadata": {
    "collapsed": false
   },
   "outputs": [
    {
     "name": "stderr",
     "output_type": "stream",
     "text": [
      "/home/max/anaconda3/lib/python3.5/site-packages/IPython/core/interactiveshell.py:2723: DtypeWarning: Columns (82,83,87) have mixed types. Specify dtype option on import or set low_memory=False.\n",
      "  interactivity=interactivity, compiler=compiler, result=result)\n"
     ]
    }
   ],
   "source": [
    "dat = pd.read_csv('matchdata.csv',encoding = \"ISO-8859-1\")"
   ]
  },
  {
   "cell_type": "markdown",
   "metadata": {},
   "source": [
    "### Variable Names...\n",
    "\n",
    "Here we can see a nice list of all the variables that our data gives us"
   ]
  },
  {
   "cell_type": "code",
   "execution_count": 3,
   "metadata": {
    "collapsed": false
   },
   "outputs": [],
   "source": [
    "#list(dat.columns.values)"
   ]
  },
  {
   "cell_type": "code",
   "execution_count": 4,
   "metadata": {
    "collapsed": false
   },
   "outputs": [],
   "source": [
    "# Need a function that pulls out only a certain teams data:\n",
    "\n",
    "def team_data(team): # probably by index...\n",
    "    df = dat.loc[(dat.ix[:,3] == team) |  (dat.ix[:,4] == team) ]\n",
    "    return(df)\n",
    "\n",
    "# make a player data one...\n",
    "\n",
    "def player_data(player): # can define by indx later as well...\n",
    "    df = dat.loc[(dat.ix[:,11] == player) |  (dat.ix[:,17] == player)|  (dat.ix[:,23] == player)|  (dat.ix[:,29] == player)|  (dat.ix[:,35] == player)|  (dat.ix[:,41] == player) |  (dat.ix[:,47] == player) |  (dat.ix[:,53] == player) |  (dat.ix[:,59] == player) |  (dat.ix[:,65] == player)]\n",
    "    return(df)\n",
    "\n",
    "# make function that says which team a player is on (1 or 2)...\n",
    "def player_side(player, match): # match is the match # as integer\n",
    "\n",
    "    dato = player_data(player).reset_index(drop=True) \n",
    "    N = len(dato)\n",
    "    i = match\n",
    "    \n",
    "    side = []\n",
    "    # loop over each row...\n",
    "    if( (dato.ix[i,11] == player) |  (dato.ix[i,17] == player)|  (dato.ix[i,23] == player)|  (dato.ix[i,29] == player)|  (dato.ix[i,35] == player) ):\n",
    "        side = 1\n",
    "    elif( (dato.ix[i,41] == player) |  (dato.ix[i,47] == player) |  (dato.ix[i,53] == player) |  (dato.ix[i,59] == player) |  (dato.ix[i,65] == player) ):\n",
    "        side = 2\n",
    "    else:\n",
    "        side = 0\n",
    "    return(side)\n",
    "\n",
    "\n",
    "def team_score(player, match):\n",
    "    '''\n",
    "    Returns team scores, enemy scores and team deaths (TD)...\n",
    "    '''\n",
    "    \n",
    "    side = player_side(player, match)\n",
    "    dato = player_data(player).reset_index(drop=True) \n",
    "    i = match\n",
    "    if(side == 1):\n",
    "        teamscore = dato.ix[match,6] +dato.ix[match,8]\n",
    "        enemyscore = dato.ix[match,7] + dato.ix[match,9]\n",
    "        TK = (dato.ix[i,12]) + (dato.ix[i,18])+  (dato.ix[i,24])+(dato.ix[i,30])+ (dato.ix[i,36])\n",
    "        TD = (dato.ix[i,13] == player) + (dato.ix[i,19])+  (dato.ix[i,25])+(dato.ix[i,31])+ (dato.ix[i,37])\n",
    "        \n",
    "    elif(side ==2 ):\n",
    "        teamscore = dato.ix[match,7] +dato.ix[match,9]\n",
    "        enemyscore = dato.ix[match,6] +dato.ix[match,8]\n",
    "        TK = dato.ix[i,42] + (dato.ix[i,48])+  (dato.ix[i,54])+(dato.ix[i,60] )+ (dato.ix[i,66])\n",
    "        TD = dato.ix[i,43]+ (dato.ix[i,19])+  (dato.ix[i,55])+(dato.ix[i,61] )+ (dato.ix[i,67])\n",
    "        \n",
    "    else:\n",
    "        teamscore = \"ERROR\"\n",
    "        enemyscore = \"UNLUGGY UCE\"\n",
    "        \n",
    "        \n",
    "    return( teamscore, enemyscore, TK, TD)\n",
    "\n"
   ]
  },
  {
   "cell_type": "code",
   "execution_count": 5,
   "metadata": {
    "collapsed": false
   },
   "outputs": [
    {
     "name": "stdout",
     "output_type": "stream",
     "text": [
      "team score is: 16\n",
      "enemy score is: 7\n",
      "team kills are: 89.0\n",
      "team deaths are: 76.0\n"
     ]
    }
   ],
   "source": [
    "TS, ES, tk, td = team_score('GeT_RiGhT', 10)\n",
    "\n",
    "print('team score is:', TS )\n",
    "print('enemy score is:', ES )\n",
    "print('team kills are:', tk )\n",
    "print('team deaths are:', td)\n"
   ]
  },
  {
   "cell_type": "code",
   "execution_count": 141,
   "metadata": {
    "collapsed": false
   },
   "outputs": [],
   "source": [
    "'''\n",
    "get_metrics returns the players kills, KDR, teamscore, enemyscore, team kills and enemy kills at specified time...\n",
    "'''\n",
    "def get_metrics(player, match):\n",
    "    TS, ES, tk, td = team_score(player, match)\n",
    "    # get the new player \n",
    "    dato = player_data(player).reset_index(drop=True) \n",
    "    i = match\n",
    "    if( dato.ix[i,11] == player ):\n",
    "        kills = dato.ix[i,12]\n",
    "        deaths = dato.ix[i,13]\n",
    "        kd = dato.ix[i,12]/dato.ix[i,13]    \n",
    "    elif( dato.ix[i,17] == player ):\n",
    "        kills = dato.ix[i,18]\n",
    "        deaths = dato.ix[i,19]\n",
    "        kd = dato.ix[i,18]/dato.ix[i,19]\n",
    "    elif( dato.ix[i,23] == player ):\n",
    "        kills = dato.ix[i,24]    \n",
    "        deaths = dato.ix[i,25]\n",
    "        kd = dato.ix[i,24]/dato.ix[i,25]\n",
    "    elif( dato.ix[i,29] == player ):\n",
    "        kills = dato.ix[i,30]  \n",
    "        deaths = dato.ix[i,31]\n",
    "        kd = dato.ix[i,30]/dato.ix[i,31]\n",
    "    elif( dato.ix[i,35] == player ):\n",
    "        kills = dato.ix[i,36]\n",
    "        deaths = dato.ix[i,37]\n",
    "        kd = dato.ix[i,36]/dato.ix[i,37]\n",
    "    elif( dato.ix[i,41] == player ):\n",
    "        kills = dato.ix[i,42]    \n",
    "        deaths = dato.ix[i,43]\n",
    "        kd = dato.ix[i,42]/dato.ix[i,43]\n",
    "    elif( dato.ix[i,47] == player ):\n",
    "        kills = dato.ix[i,48]       \n",
    "        deaths = dato.ix[i,49]\n",
    "        kd = dato.ix[i,48]/dato.ix[i,49]\n",
    "    elif( dato.ix[i,53] == player ):\n",
    "        kills = dato.ix[i,54]      \n",
    "        deaths = dato.ix[i,55]\n",
    "        kd = dato.ix[i,54]/dato.ix[i,55]\n",
    "    elif( dato.ix[i,59] == player ):\n",
    "        kills = dato.ix[i,60] \n",
    "        deaths = dato.ix[i,61]\n",
    "        kd = dato.ix[i,60]/dato.ix[i,61]\n",
    "    elif( dato.ix[i,65] == player ):\n",
    "        kills = dato.ix[i,66] \n",
    "        deaths = dato.ix[i,67]\n",
    "        kd = dato.ix[i,66]/dato.ix[i,67]        \n",
    "     \n",
    "    k_TK = kills / tk\n",
    "    kDR_A = kd / (np.log(1+TS)*(TS - ES+1))\n",
    "    p_p = np.log(((kills*kills)/(deaths)+1))+np.log(((k_TK)*(kDR_A))/(deaths/td)+1)\n",
    "    \n",
    "    return(kills, deaths, kd, TS, ES, tk ,td, k_TK, kDR_A, p_p)            \n",
    "                \n",
    "'''\n",
    "Now make function that makes CSV/df for the player and their past performance...\n",
    "'''   \n",
    "\n",
    "def make_inputs(player): # uses the player and gets all inputs from this...\n",
    "    datta = player_data(player).reset_index(drop=True) \n",
    "    N = np.shape(datta)[0] # length of the data frame...\n",
    "    \n",
    "    # initialize the vectors...\n",
    "    kill = []\n",
    "    kdr = []\n",
    "    scorediff = []\n",
    "    kill_cont = [] # contribution of kills\n",
    "    death_cont = [] # contriubution of deaths\n",
    "    kdr_adjust = []\n",
    "    player_perf = []\n",
    "    \n",
    "    print(N)\n",
    "    \n",
    "    # loop over each row to get data:\n",
    "    for row in range(N):\n",
    "        k,d,KDR, TS,ES,tk,td,k_TK,kDR_A, p_p = get_metrics(player, row)\n",
    "        kill.append(k)\n",
    "        kdr.append(KDR)\n",
    "        scorediff.append(TS-ES)\n",
    "        kill_cont.append(k_TK)\n",
    "        death_cont.append(d/td)\n",
    "        kdr_adjust.append(kDR_A)\n",
    "        player_perf.append(p_p)\n",
    "        \n",
    "    # add all as columns to the dataframe...    \n",
    "    newdat = pd.DataFrame([kill,kdr,scorediff,kill_cont, death_cont, kdr_adjust, player_perf])\n",
    "    \n",
    "    # but data is a tensor - so turn into tensor\n",
    "    \n",
    "    return(newdat)"
   ]
  },
  {
   "cell_type": "code",
   "execution_count": 64,
   "metadata": {
    "collapsed": false
   },
   "outputs": [
    {
     "name": "stdout",
     "output_type": "stream",
     "text": [
      "277\n"
     ]
    },
    {
     "data": {
      "text/html": [
       "<div>\n",
       "<table border=\"1\" class=\"dataframe\">\n",
       "  <thead>\n",
       "    <tr style=\"text-align: right;\">\n",
       "      <th></th>\n",
       "      <th>0</th>\n",
       "      <th>1</th>\n",
       "      <th>2</th>\n",
       "      <th>3</th>\n",
       "      <th>4</th>\n",
       "      <th>5</th>\n",
       "      <th>6</th>\n",
       "    </tr>\n",
       "  </thead>\n",
       "  <tbody>\n",
       "    <tr>\n",
       "      <th>0</th>\n",
       "      <td>21.0</td>\n",
       "      <td>1.166667</td>\n",
       "      <td>-4.0</td>\n",
       "      <td>0.238636</td>\n",
       "      <td>0.193548</td>\n",
       "      <td>-0.151617</td>\n",
       "      <td>3.031733</td>\n",
       "    </tr>\n",
       "    <tr>\n",
       "      <th>1</th>\n",
       "      <td>15.0</td>\n",
       "      <td>0.833333</td>\n",
       "      <td>4.0</td>\n",
       "      <td>0.159574</td>\n",
       "      <td>0.246575</td>\n",
       "      <td>0.058826</td>\n",
       "      <td>2.640053</td>\n",
       "    </tr>\n",
       "    <tr>\n",
       "      <th>2</th>\n",
       "      <td>20.0</td>\n",
       "      <td>1.111111</td>\n",
       "      <td>-7.0</td>\n",
       "      <td>0.303030</td>\n",
       "      <td>0.225000</td>\n",
       "      <td>-0.080425</td>\n",
       "      <td>3.030466</td>\n",
       "    </tr>\n",
       "    <tr>\n",
       "      <th>3</th>\n",
       "      <td>19.0</td>\n",
       "      <td>1.187500</td>\n",
       "      <td>5.0</td>\n",
       "      <td>0.182692</td>\n",
       "      <td>0.186047</td>\n",
       "      <td>0.069856</td>\n",
       "      <td>3.226003</td>\n",
       "    </tr>\n",
       "    <tr>\n",
       "      <th>4</th>\n",
       "      <td>23.0</td>\n",
       "      <td>1.352941</td>\n",
       "      <td>5.0</td>\n",
       "      <td>0.232323</td>\n",
       "      <td>0.195402</td>\n",
       "      <td>0.079588</td>\n",
       "      <td>3.559819</td>\n",
       "    </tr>\n",
       "    <tr>\n",
       "      <th>5</th>\n",
       "      <td>23.0</td>\n",
       "      <td>0.958333</td>\n",
       "      <td>0.0</td>\n",
       "      <td>0.186992</td>\n",
       "      <td>0.258065</td>\n",
       "      <td>0.345646</td>\n",
       "      <td>3.360810</td>\n",
       "    </tr>\n",
       "    <tr>\n",
       "      <th>6</th>\n",
       "      <td>25.0</td>\n",
       "      <td>3.571429</td>\n",
       "      <td>11.0</td>\n",
       "      <td>0.280899</td>\n",
       "      <td>0.159091</td>\n",
       "      <td>0.105046</td>\n",
       "      <td>4.673123</td>\n",
       "    </tr>\n",
       "    <tr>\n",
       "      <th>7</th>\n",
       "      <td>30.0</td>\n",
       "      <td>3.333333</td>\n",
       "      <td>9.0</td>\n",
       "      <td>0.312500</td>\n",
       "      <td>0.121622</td>\n",
       "      <td>0.117652</td>\n",
       "      <td>4.879253</td>\n",
       "    </tr>\n",
       "    <tr>\n",
       "      <th>8</th>\n",
       "      <td>17.0</td>\n",
       "      <td>0.850000</td>\n",
       "      <td>-5.0</td>\n",
       "      <td>0.202381</td>\n",
       "      <td>0.246914</td>\n",
       "      <td>-0.085516</td>\n",
       "      <td>2.664939</td>\n",
       "    </tr>\n",
       "    <tr>\n",
       "      <th>9</th>\n",
       "      <td>14.0</td>\n",
       "      <td>0.823529</td>\n",
       "      <td>-9.0</td>\n",
       "      <td>0.202899</td>\n",
       "      <td>0.193182</td>\n",
       "      <td>-0.049504</td>\n",
       "      <td>2.474684</td>\n",
       "    </tr>\n",
       "    <tr>\n",
       "      <th>10</th>\n",
       "      <td>11.0</td>\n",
       "      <td>0.785714</td>\n",
       "      <td>9.0</td>\n",
       "      <td>0.123596</td>\n",
       "      <td>0.184211</td>\n",
       "      <td>0.027732</td>\n",
       "      <td>2.284653</td>\n",
       "    </tr>\n",
       "    <tr>\n",
       "      <th>11</th>\n",
       "      <td>14.0</td>\n",
       "      <td>1.750000</td>\n",
       "      <td>15.0</td>\n",
       "      <td>0.170732</td>\n",
       "      <td>0.285714</td>\n",
       "      <td>0.038605</td>\n",
       "      <td>3.261485</td>\n",
       "    </tr>\n",
       "    <tr>\n",
       "      <th>12</th>\n",
       "      <td>9.0</td>\n",
       "      <td>0.428571</td>\n",
       "      <td>-7.0</td>\n",
       "      <td>0.121622</td>\n",
       "      <td>0.225806</td>\n",
       "      <td>-0.031021</td>\n",
       "      <td>1.563601</td>\n",
       "    </tr>\n",
       "    <tr>\n",
       "      <th>13</th>\n",
       "      <td>18.0</td>\n",
       "      <td>0.782609</td>\n",
       "      <td>-2.0</td>\n",
       "      <td>0.178218</td>\n",
       "      <td>0.283951</td>\n",
       "      <td>-0.288993</td>\n",
       "      <td>2.513692</td>\n",
       "    </tr>\n",
       "    <tr>\n",
       "      <th>14</th>\n",
       "      <td>24.0</td>\n",
       "      <td>1.714286</td>\n",
       "      <td>11.0</td>\n",
       "      <td>0.279070</td>\n",
       "      <td>0.264151</td>\n",
       "      <td>0.050422</td>\n",
       "      <td>3.792965</td>\n",
       "    </tr>\n",
       "    <tr>\n",
       "      <th>15</th>\n",
       "      <td>15.0</td>\n",
       "      <td>0.750000</td>\n",
       "      <td>6.0</td>\n",
       "      <td>0.153061</td>\n",
       "      <td>0.215054</td>\n",
       "      <td>0.037817</td>\n",
       "      <td>2.532086</td>\n",
       "    </tr>\n",
       "    <tr>\n",
       "      <th>16</th>\n",
       "      <td>18.0</td>\n",
       "      <td>1.000000</td>\n",
       "      <td>5.0</td>\n",
       "      <td>0.174757</td>\n",
       "      <td>0.189474</td>\n",
       "      <td>0.058826</td>\n",
       "      <td>2.997275</td>\n",
       "    </tr>\n",
       "    <tr>\n",
       "      <th>17</th>\n",
       "      <td>18.0</td>\n",
       "      <td>0.947368</td>\n",
       "      <td>-8.0</td>\n",
       "      <td>0.250000</td>\n",
       "      <td>0.263889</td>\n",
       "      <td>-0.061595</td>\n",
       "      <td>2.833166</td>\n",
       "    </tr>\n",
       "    <tr>\n",
       "      <th>18</th>\n",
       "      <td>23.0</td>\n",
       "      <td>0.884615</td>\n",
       "      <td>0.0</td>\n",
       "      <td>0.175573</td>\n",
       "      <td>0.288889</td>\n",
       "      <td>0.319058</td>\n",
       "      <td>3.238103</td>\n",
       "    </tr>\n",
       "    <tr>\n",
       "      <th>19</th>\n",
       "      <td>19.0</td>\n",
       "      <td>2.111111</td>\n",
       "      <td>0.0</td>\n",
       "      <td>0.228916</td>\n",
       "      <td>0.225000</td>\n",
       "      <td>0.761422</td>\n",
       "      <td>4.289895</td>\n",
       "    </tr>\n",
       "    <tr>\n",
       "      <th>20</th>\n",
       "      <td>9.0</td>\n",
       "      <td>0.428571</td>\n",
       "      <td>-9.0</td>\n",
       "      <td>0.130435</td>\n",
       "      <td>0.230769</td>\n",
       "      <td>-0.025762</td>\n",
       "      <td>1.565782</td>\n",
       "    </tr>\n",
       "    <tr>\n",
       "      <th>21</th>\n",
       "      <td>23.0</td>\n",
       "      <td>1.045455</td>\n",
       "      <td>2.0</td>\n",
       "      <td>0.225490</td>\n",
       "      <td>0.268293</td>\n",
       "      <td>0.123000</td>\n",
       "      <td>3.319068</td>\n",
       "    </tr>\n",
       "    <tr>\n",
       "      <th>22</th>\n",
       "      <td>13.0</td>\n",
       "      <td>1.000000</td>\n",
       "      <td>9.0</td>\n",
       "      <td>0.146067</td>\n",
       "      <td>0.236364</td>\n",
       "      <td>0.035296</td>\n",
       "      <td>2.660635</td>\n",
       "    </tr>\n",
       "    <tr>\n",
       "      <th>23</th>\n",
       "      <td>31.0</td>\n",
       "      <td>1.068966</td>\n",
       "      <td>9.0</td>\n",
       "      <td>0.210884</td>\n",
       "      <td>0.276190</td>\n",
       "      <td>0.037730</td>\n",
       "      <td>3.558810</td>\n",
       "    </tr>\n",
       "    <tr>\n",
       "      <th>24</th>\n",
       "      <td>25.0</td>\n",
       "      <td>2.083333</td>\n",
       "      <td>7.0</td>\n",
       "      <td>0.265957</td>\n",
       "      <td>0.151899</td>\n",
       "      <td>0.091916</td>\n",
       "      <td>4.121088</td>\n",
       "    </tr>\n",
       "    <tr>\n",
       "      <th>25</th>\n",
       "      <td>24.0</td>\n",
       "      <td>1.600000</td>\n",
       "      <td>7.0</td>\n",
       "      <td>0.263736</td>\n",
       "      <td>0.220588</td>\n",
       "      <td>0.070591</td>\n",
       "      <td>3.754792</td>\n",
       "    </tr>\n",
       "    <tr>\n",
       "      <th>26</th>\n",
       "      <td>7.0</td>\n",
       "      <td>0.368421</td>\n",
       "      <td>-10.0</td>\n",
       "      <td>0.120690</td>\n",
       "      <td>0.256757</td>\n",
       "      <td>-0.021037</td>\n",
       "      <td>1.265131</td>\n",
       "    </tr>\n",
       "    <tr>\n",
       "      <th>27</th>\n",
       "      <td>24.0</td>\n",
       "      <td>1.200000</td>\n",
       "      <td>-10.0</td>\n",
       "      <td>0.230769</td>\n",
       "      <td>0.285714</td>\n",
       "      <td>-0.068520</td>\n",
       "      <td>3.337575</td>\n",
       "    </tr>\n",
       "    <tr>\n",
       "      <th>28</th>\n",
       "      <td>20.0</td>\n",
       "      <td>1.666667</td>\n",
       "      <td>4.0</td>\n",
       "      <td>0.219780</td>\n",
       "      <td>0.240000</td>\n",
       "      <td>0.117652</td>\n",
       "      <td>3.638439</td>\n",
       "    </tr>\n",
       "    <tr>\n",
       "      <th>29</th>\n",
       "      <td>22.0</td>\n",
       "      <td>1.692308</td>\n",
       "      <td>11.0</td>\n",
       "      <td>0.247191</td>\n",
       "      <td>0.309524</td>\n",
       "      <td>0.049776</td>\n",
       "      <td>3.682623</td>\n",
       "    </tr>\n",
       "    <tr>\n",
       "      <th>...</th>\n",
       "      <td>...</td>\n",
       "      <td>...</td>\n",
       "      <td>...</td>\n",
       "      <td>...</td>\n",
       "      <td>...</td>\n",
       "      <td>...</td>\n",
       "      <td>...</td>\n",
       "    </tr>\n",
       "    <tr>\n",
       "      <th>247</th>\n",
       "      <td>9.0</td>\n",
       "      <td>0.600000</td>\n",
       "      <td>-13.0</td>\n",
       "      <td>0.209302</td>\n",
       "      <td>0.238095</td>\n",
       "      <td>-0.036067</td>\n",
       "      <td>1.824079</td>\n",
       "    </tr>\n",
       "    <tr>\n",
       "      <th>248</th>\n",
       "      <td>17.0</td>\n",
       "      <td>0.944444</td>\n",
       "      <td>3.0</td>\n",
       "      <td>0.158879</td>\n",
       "      <td>0.250000</td>\n",
       "      <td>0.083337</td>\n",
       "      <td>2.888083</td>\n",
       "    </tr>\n",
       "    <tr>\n",
       "      <th>249</th>\n",
       "      <td>10.0</td>\n",
       "      <td>0.625000</td>\n",
       "      <td>-12.0</td>\n",
       "      <td>0.250000</td>\n",
       "      <td>0.228571</td>\n",
       "      <td>-0.035303</td>\n",
       "      <td>1.941623</td>\n",
       "    </tr>\n",
       "    <tr>\n",
       "      <th>250</th>\n",
       "      <td>20.0</td>\n",
       "      <td>1.052632</td>\n",
       "      <td>-12.0</td>\n",
       "      <td>0.212766</td>\n",
       "      <td>0.226190</td>\n",
       "      <td>-0.059458</td>\n",
       "      <td>3.035878</td>\n",
       "    </tr>\n",
       "    <tr>\n",
       "      <th>251</th>\n",
       "      <td>21.0</td>\n",
       "      <td>3.500000</td>\n",
       "      <td>12.0</td>\n",
       "      <td>0.238636</td>\n",
       "      <td>0.166667</td>\n",
       "      <td>0.095027</td>\n",
       "      <td>4.438366</td>\n",
       "    </tr>\n",
       "    <tr>\n",
       "      <th>252</th>\n",
       "      <td>27.0</td>\n",
       "      <td>1.500000</td>\n",
       "      <td>5.0</td>\n",
       "      <td>0.278351</td>\n",
       "      <td>0.250000</td>\n",
       "      <td>0.088239</td>\n",
       "      <td>3.819407</td>\n",
       "    </tr>\n",
       "    <tr>\n",
       "      <th>253</th>\n",
       "      <td>20.0</td>\n",
       "      <td>1.111111</td>\n",
       "      <td>-2.0</td>\n",
       "      <td>0.212766</td>\n",
       "      <td>0.163636</td>\n",
       "      <td>-0.410299</td>\n",
       "      <td>2.382642</td>\n",
       "    </tr>\n",
       "    <tr>\n",
       "      <th>254</th>\n",
       "      <td>22.0</td>\n",
       "      <td>1.000000</td>\n",
       "      <td>-2.0</td>\n",
       "      <td>0.207547</td>\n",
       "      <td>0.207547</td>\n",
       "      <td>-0.369269</td>\n",
       "      <td>2.674618</td>\n",
       "    </tr>\n",
       "    <tr>\n",
       "      <th>255</th>\n",
       "      <td>26.0</td>\n",
       "      <td>2.000000</td>\n",
       "      <td>10.0</td>\n",
       "      <td>0.276596</td>\n",
       "      <td>0.245283</td>\n",
       "      <td>0.064174</td>\n",
       "      <td>4.040160</td>\n",
       "    </tr>\n",
       "    <tr>\n",
       "      <th>256</th>\n",
       "      <td>20.0</td>\n",
       "      <td>1.333333</td>\n",
       "      <td>10.0</td>\n",
       "      <td>0.204082</td>\n",
       "      <td>0.234375</td>\n",
       "      <td>0.042783</td>\n",
       "      <td>3.356804</td>\n",
       "    </tr>\n",
       "    <tr>\n",
       "      <th>257</th>\n",
       "      <td>14.0</td>\n",
       "      <td>0.608696</td>\n",
       "      <td>-3.0</td>\n",
       "      <td>0.155556</td>\n",
       "      <td>0.270588</td>\n",
       "      <td>-0.115324</td>\n",
       "      <td>2.184980</td>\n",
       "    </tr>\n",
       "    <tr>\n",
       "      <th>258</th>\n",
       "      <td>19.0</td>\n",
       "      <td>2.714286</td>\n",
       "      <td>15.0</td>\n",
       "      <td>0.240506</td>\n",
       "      <td>0.225806</td>\n",
       "      <td>0.059876</td>\n",
       "      <td>4.023996</td>\n",
       "    </tr>\n",
       "    <tr>\n",
       "      <th>259</th>\n",
       "      <td>19.0</td>\n",
       "      <td>0.950000</td>\n",
       "      <td>15.0</td>\n",
       "      <td>0.246753</td>\n",
       "      <td>0.246914</td>\n",
       "      <td>0.020957</td>\n",
       "      <td>2.967794</td>\n",
       "    </tr>\n",
       "    <tr>\n",
       "      <th>260</th>\n",
       "      <td>21.0</td>\n",
       "      <td>1.235294</td>\n",
       "      <td>-6.0</td>\n",
       "      <td>0.230769</td>\n",
       "      <td>0.212500</td>\n",
       "      <td>-0.103032</td>\n",
       "      <td>3.174997</td>\n",
       "    </tr>\n",
       "    <tr>\n",
       "      <th>261</th>\n",
       "      <td>28.0</td>\n",
       "      <td>2.545455</td>\n",
       "      <td>8.0</td>\n",
       "      <td>0.277228</td>\n",
       "      <td>0.207547</td>\n",
       "      <td>0.099826</td>\n",
       "      <td>4.405617</td>\n",
       "    </tr>\n",
       "    <tr>\n",
       "      <th>262</th>\n",
       "      <td>14.0</td>\n",
       "      <td>2.000000</td>\n",
       "      <td>14.0</td>\n",
       "      <td>0.162791</td>\n",
       "      <td>0.241379</td>\n",
       "      <td>0.047061</td>\n",
       "      <td>3.398541</td>\n",
       "    </tr>\n",
       "    <tr>\n",
       "      <th>263</th>\n",
       "      <td>11.0</td>\n",
       "      <td>1.222222</td>\n",
       "      <td>12.0</td>\n",
       "      <td>0.129412</td>\n",
       "      <td>0.225000</td>\n",
       "      <td>0.033184</td>\n",
       "      <td>2.689216</td>\n",
       "    </tr>\n",
       "    <tr>\n",
       "      <th>264</th>\n",
       "      <td>15.0</td>\n",
       "      <td>2.142857</td>\n",
       "      <td>14.0</td>\n",
       "      <td>0.185185</td>\n",
       "      <td>0.148936</td>\n",
       "      <td>0.050422</td>\n",
       "      <td>3.561635</td>\n",
       "    </tr>\n",
       "    <tr>\n",
       "      <th>265</th>\n",
       "      <td>15.0</td>\n",
       "      <td>1.071429</td>\n",
       "      <td>8.0</td>\n",
       "      <td>0.145631</td>\n",
       "      <td>0.269231</td>\n",
       "      <td>0.042019</td>\n",
       "      <td>2.859880</td>\n",
       "    </tr>\n",
       "    <tr>\n",
       "      <th>266</th>\n",
       "      <td>23.0</td>\n",
       "      <td>1.642857</td>\n",
       "      <td>9.0</td>\n",
       "      <td>0.247312</td>\n",
       "      <td>0.215385</td>\n",
       "      <td>0.057986</td>\n",
       "      <td>3.722510</td>\n",
       "    </tr>\n",
       "    <tr>\n",
       "      <th>267</th>\n",
       "      <td>10.0</td>\n",
       "      <td>0.526316</td>\n",
       "      <td>-11.0</td>\n",
       "      <td>0.172414</td>\n",
       "      <td>0.256757</td>\n",
       "      <td>-0.029374</td>\n",
       "      <td>1.814762</td>\n",
       "    </tr>\n",
       "    <tr>\n",
       "      <th>268</th>\n",
       "      <td>6.0</td>\n",
       "      <td>0.272727</td>\n",
       "      <td>-9.0</td>\n",
       "      <td>0.093750</td>\n",
       "      <td>0.229167</td>\n",
       "      <td>-0.016394</td>\n",
       "      <td>0.962671</td>\n",
       "    </tr>\n",
       "    <tr>\n",
       "      <th>269</th>\n",
       "      <td>19.0</td>\n",
       "      <td>0.904762</td>\n",
       "      <td>-6.0</td>\n",
       "      <td>0.253333</td>\n",
       "      <td>0.265823</td>\n",
       "      <td>-0.075463</td>\n",
       "      <td>2.826264</td>\n",
       "    </tr>\n",
       "    <tr>\n",
       "      <th>270</th>\n",
       "      <td>17.0</td>\n",
       "      <td>1.062500</td>\n",
       "      <td>-6.0</td>\n",
       "      <td>0.346939</td>\n",
       "      <td>0.216216</td>\n",
       "      <td>-0.088619</td>\n",
       "      <td>2.794341</td>\n",
       "    </tr>\n",
       "    <tr>\n",
       "      <th>271</th>\n",
       "      <td>15.0</td>\n",
       "      <td>0.750000</td>\n",
       "      <td>-12.0</td>\n",
       "      <td>0.192308</td>\n",
       "      <td>0.266667</td>\n",
       "      <td>-0.042364</td>\n",
       "      <td>2.474499</td>\n",
       "    </tr>\n",
       "    <tr>\n",
       "      <th>272</th>\n",
       "      <td>17.0</td>\n",
       "      <td>0.894737</td>\n",
       "      <td>3.0</td>\n",
       "      <td>0.158879</td>\n",
       "      <td>0.220930</td>\n",
       "      <td>0.078951</td>\n",
       "      <td>2.840884</td>\n",
       "    </tr>\n",
       "    <tr>\n",
       "      <th>273</th>\n",
       "      <td>14.0</td>\n",
       "      <td>2.333333</td>\n",
       "      <td>3.0</td>\n",
       "      <td>0.168675</td>\n",
       "      <td>0.206897</td>\n",
       "      <td>0.205891</td>\n",
       "      <td>3.671677</td>\n",
       "    </tr>\n",
       "    <tr>\n",
       "      <th>274</th>\n",
       "      <td>15.0</td>\n",
       "      <td>1.666667</td>\n",
       "      <td>12.0</td>\n",
       "      <td>0.176471</td>\n",
       "      <td>0.169811</td>\n",
       "      <td>0.045251</td>\n",
       "      <td>3.304050</td>\n",
       "    </tr>\n",
       "    <tr>\n",
       "      <th>275</th>\n",
       "      <td>15.0</td>\n",
       "      <td>0.789474</td>\n",
       "      <td>12.0</td>\n",
       "      <td>0.211268</td>\n",
       "      <td>0.215909</td>\n",
       "      <td>0.021435</td>\n",
       "      <td>2.573486</td>\n",
       "    </tr>\n",
       "    <tr>\n",
       "      <th>276</th>\n",
       "      <td>20.0</td>\n",
       "      <td>1.428571</td>\n",
       "      <td>-7.0</td>\n",
       "      <td>0.210526</td>\n",
       "      <td>0.184211</td>\n",
       "      <td>-0.103403</td>\n",
       "      <td>3.261047</td>\n",
       "    </tr>\n",
       "  </tbody>\n",
       "</table>\n",
       "<p>277 rows × 7 columns</p>\n",
       "</div>"
      ],
      "text/plain": [
       "        0         1     2         3         4         5         6\n",
       "0    21.0  1.166667  -4.0  0.238636  0.193548 -0.151617  3.031733\n",
       "1    15.0  0.833333   4.0  0.159574  0.246575  0.058826  2.640053\n",
       "2    20.0  1.111111  -7.0  0.303030  0.225000 -0.080425  3.030466\n",
       "3    19.0  1.187500   5.0  0.182692  0.186047  0.069856  3.226003\n",
       "4    23.0  1.352941   5.0  0.232323  0.195402  0.079588  3.559819\n",
       "5    23.0  0.958333   0.0  0.186992  0.258065  0.345646  3.360810\n",
       "6    25.0  3.571429  11.0  0.280899  0.159091  0.105046  4.673123\n",
       "7    30.0  3.333333   9.0  0.312500  0.121622  0.117652  4.879253\n",
       "8    17.0  0.850000  -5.0  0.202381  0.246914 -0.085516  2.664939\n",
       "9    14.0  0.823529  -9.0  0.202899  0.193182 -0.049504  2.474684\n",
       "10   11.0  0.785714   9.0  0.123596  0.184211  0.027732  2.284653\n",
       "11   14.0  1.750000  15.0  0.170732  0.285714  0.038605  3.261485\n",
       "12    9.0  0.428571  -7.0  0.121622  0.225806 -0.031021  1.563601\n",
       "13   18.0  0.782609  -2.0  0.178218  0.283951 -0.288993  2.513692\n",
       "14   24.0  1.714286  11.0  0.279070  0.264151  0.050422  3.792965\n",
       "15   15.0  0.750000   6.0  0.153061  0.215054  0.037817  2.532086\n",
       "16   18.0  1.000000   5.0  0.174757  0.189474  0.058826  2.997275\n",
       "17   18.0  0.947368  -8.0  0.250000  0.263889 -0.061595  2.833166\n",
       "18   23.0  0.884615   0.0  0.175573  0.288889  0.319058  3.238103\n",
       "19   19.0  2.111111   0.0  0.228916  0.225000  0.761422  4.289895\n",
       "20    9.0  0.428571  -9.0  0.130435  0.230769 -0.025762  1.565782\n",
       "21   23.0  1.045455   2.0  0.225490  0.268293  0.123000  3.319068\n",
       "22   13.0  1.000000   9.0  0.146067  0.236364  0.035296  2.660635\n",
       "23   31.0  1.068966   9.0  0.210884  0.276190  0.037730  3.558810\n",
       "24   25.0  2.083333   7.0  0.265957  0.151899  0.091916  4.121088\n",
       "25   24.0  1.600000   7.0  0.263736  0.220588  0.070591  3.754792\n",
       "26    7.0  0.368421 -10.0  0.120690  0.256757 -0.021037  1.265131\n",
       "27   24.0  1.200000 -10.0  0.230769  0.285714 -0.068520  3.337575\n",
       "28   20.0  1.666667   4.0  0.219780  0.240000  0.117652  3.638439\n",
       "29   22.0  1.692308  11.0  0.247191  0.309524  0.049776  3.682623\n",
       "..    ...       ...   ...       ...       ...       ...       ...\n",
       "247   9.0  0.600000 -13.0  0.209302  0.238095 -0.036067  1.824079\n",
       "248  17.0  0.944444   3.0  0.158879  0.250000  0.083337  2.888083\n",
       "249  10.0  0.625000 -12.0  0.250000  0.228571 -0.035303  1.941623\n",
       "250  20.0  1.052632 -12.0  0.212766  0.226190 -0.059458  3.035878\n",
       "251  21.0  3.500000  12.0  0.238636  0.166667  0.095027  4.438366\n",
       "252  27.0  1.500000   5.0  0.278351  0.250000  0.088239  3.819407\n",
       "253  20.0  1.111111  -2.0  0.212766  0.163636 -0.410299  2.382642\n",
       "254  22.0  1.000000  -2.0  0.207547  0.207547 -0.369269  2.674618\n",
       "255  26.0  2.000000  10.0  0.276596  0.245283  0.064174  4.040160\n",
       "256  20.0  1.333333  10.0  0.204082  0.234375  0.042783  3.356804\n",
       "257  14.0  0.608696  -3.0  0.155556  0.270588 -0.115324  2.184980\n",
       "258  19.0  2.714286  15.0  0.240506  0.225806  0.059876  4.023996\n",
       "259  19.0  0.950000  15.0  0.246753  0.246914  0.020957  2.967794\n",
       "260  21.0  1.235294  -6.0  0.230769  0.212500 -0.103032  3.174997\n",
       "261  28.0  2.545455   8.0  0.277228  0.207547  0.099826  4.405617\n",
       "262  14.0  2.000000  14.0  0.162791  0.241379  0.047061  3.398541\n",
       "263  11.0  1.222222  12.0  0.129412  0.225000  0.033184  2.689216\n",
       "264  15.0  2.142857  14.0  0.185185  0.148936  0.050422  3.561635\n",
       "265  15.0  1.071429   8.0  0.145631  0.269231  0.042019  2.859880\n",
       "266  23.0  1.642857   9.0  0.247312  0.215385  0.057986  3.722510\n",
       "267  10.0  0.526316 -11.0  0.172414  0.256757 -0.029374  1.814762\n",
       "268   6.0  0.272727  -9.0  0.093750  0.229167 -0.016394  0.962671\n",
       "269  19.0  0.904762  -6.0  0.253333  0.265823 -0.075463  2.826264\n",
       "270  17.0  1.062500  -6.0  0.346939  0.216216 -0.088619  2.794341\n",
       "271  15.0  0.750000 -12.0  0.192308  0.266667 -0.042364  2.474499\n",
       "272  17.0  0.894737   3.0  0.158879  0.220930  0.078951  2.840884\n",
       "273  14.0  2.333333   3.0  0.168675  0.206897  0.205891  3.671677\n",
       "274  15.0  1.666667  12.0  0.176471  0.169811  0.045251  3.304050\n",
       "275  15.0  0.789474  12.0  0.211268  0.215909  0.021435  2.573486\n",
       "276  20.0  1.428571  -7.0  0.210526  0.184211 -0.103403  3.261047\n",
       "\n",
       "[277 rows x 7 columns]"
      ]
     },
     "execution_count": 64,
     "metadata": {},
     "output_type": "execute_result"
    }
   ],
   "source": [
    "#frame = make_inputs('fnx') # save as \"frame\" to use in function later - although will really call this from inside the function for \n",
    "# get_tensor\n",
    "#get_metrics('GeT_RiGhT',3)\n",
    "np.transpose(make_inputs('fnx'))"
   ]
  },
  {
   "cell_type": "markdown",
   "metadata": {},
   "source": [
    "## TENSORRRRRRRRRRZZZZZZZZZZZZZ\n",
    "\n",
    "*Le Tensor* construction. Imagine a matrix, now imagine a stack of matrices for each input sample - we also make sure to zero-pad the input matrices, this way we have conformable arrays when implementing the recurrent net\n"
   ]
  },
  {
   "cell_type": "code",
   "execution_count": 142,
   "metadata": {
    "collapsed": false
   },
   "outputs": [],
   "source": [
    "def get_tensor(dataframe, K = 7, T = \"default\"):  # standardize the T window size, and K variables...\n",
    "    '''\n",
    "    T is window size\n",
    "    K is number of input variables...\n",
    "    N is number of input samples...\n",
    "    '''\n",
    "    dataframe = np.transpose(dataframe)\n",
    "    N = np.shape(dataframe)[0] # umber of samples\n",
    "    if(T == \"default\"):\n",
    "        T = N # standardize T window\n",
    "    # otherwise we have already defined T by function...\n",
    "        \n",
    "    tens = np.zeros((N,T,K)) # iniitalizes tensor shape... (From a given 'N', and known 'T' and 'K')\n",
    "\n",
    "    '''\n",
    "    basically need to generate a new dataframe for each 'N'...\n",
    "    N is given by the number of time steps as well - as T\n",
    "    ...\n",
    "    each dataframe is an NxK array of zeros (using np.zeros)   \n",
    "    '''\n",
    "\n",
    "    # loop over each N:\n",
    "\n",
    "    for i in range(N):\n",
    "\n",
    "        # generate dataframe of zeros\n",
    "        df = np.zeros((T,K)) # this is of size  K by T...\n",
    "    \n",
    "        # add for the first one...\n",
    "        df[0] = dataframe.ix[(N-1-i),:K] # since frame is a pandas dataframe... (from make_inputs command...)\n",
    "        # the second one...\n",
    "        for j in range(1,N-i):\n",
    "            df[j] = dataframe.ix[(N-i-j-1),:K] # since frame is a pandas dataframe... (from make_inputs command...)\n",
    "        \n",
    "        tens[i] = df # adds to the tensor...\n",
    "    '''\n",
    "    The result of this will be fed into get_targs... (Just FYI)\n",
    "    '''\n",
    "    #return(np.shape(tens)) # return the shape of the tensor - change to the actual tensor if working correct..\n",
    "    return(tens)  # add this instead of above line if want actual tensor output...\n",
    "    # it works!! (well the shape says so) so we will return the actual object instead ^^\n",
    "               \n",
    "        \n",
    "def form_calc(kill,kdr,scorediff,kill_cont, death_cont, kdr_adjust):\n",
    "    '''\n",
    "    This calculates the form of a player given the input variables...\n",
    "    '''\n",
    "    # score = np.log((K**2)/D) + np.log( ( (K/TK)*(K/D)/ np.log(1+TS)*(TS-ES) )/(D/TD) ) # - old version...\n",
    "    # Need to extrapolate team score: - since the winner *usually* gets 16 this gives us\n",
    "    if(scorediff < 0):\n",
    "        TS = 16 + scorediff\n",
    "    else:\n",
    "        TS = scorediff\n",
    "        \n",
    "    score = np.log(kill*kdr) + np.log( ((kill_cont*kdr)/(np.log(1+TS)*scorediff))/death_cont)  # new version\n",
    "    # except we are currently \n",
    "    \n",
    "    return(score)\n",
    "    \n",
    "    # Don't need this anymore...\n",
    "    \n",
    "    \n",
    "def get_targs(tensor): \n",
    "    '''\n",
    "    This function takes the tensor, removes the final entry,\n",
    "    uses that to calculate the \"target\" then returns a tensor of\n",
    "    one less \"N\" size than orignally. It also returns a vector of\n",
    "    targets.\n",
    "    '''\n",
    "    \n",
    "    # get N, T and K dimensions:\n",
    "    N = np.shape(tensor)[0]\n",
    "    T = np.shape(tensor)[1]\n",
    "    K = np.shape(tensor)[2]-1  # target is given as the final dimension - so remove...\n",
    "    \n",
    "    # remove last record... ()\n",
    "    \n",
    "    tarG = tensor[1:,0,K]  # the targs are kept... and one sample is cut from the start...\n",
    "    \n",
    "    inps = tensor[:N-1,:,:K-1] # inputs are kept and one sample is cut at the end... \n",
    "    \n",
    "    return(tarG,inps)\n",
    "    \n",
    "        \n"
   ]
  },
  {
   "cell_type": "code",
   "execution_count": 263,
   "metadata": {
    "collapsed": false
   },
   "outputs": [
    {
     "name": "stdout",
     "output_type": "stream",
     "text": [
      "269\n"
     ]
    }
   ],
   "source": [
    "playa = 'TACO'\n",
    "\n",
    "TENZ = get_tensor(make_inputs(playa)) # using the data for a player"
   ]
  },
  {
   "cell_type": "code",
   "execution_count": 264,
   "metadata": {
    "collapsed": false
   },
   "outputs": [],
   "source": [
    "tz , iz =  get_targs(TENZ)\n",
    "iz = iz[:,::-1,:]\n"
   ]
  },
  {
   "cell_type": "markdown",
   "metadata": {},
   "source": [
    "#### Need to normalize the input data as they are being ran through a sigmoid / tanh function "
   ]
  },
  {
   "cell_type": "code",
   "execution_count": 265,
   "metadata": {
    "collapsed": true
   },
   "outputs": [],
   "source": [
    "import math\n",
    "\n",
    "def normalize(x_train):\n",
    "    '''\n",
    "    normalizes each column...\n",
    "    '''\n",
    "    \n",
    "    # need to normalize x_train:\n",
    "    for thr in range(np.shape(x_train)[2]):\n",
    "        for col in range(np.shape(x_train)[1]): # iterate over each column:\n",
    "            for row in range(len(x_train)):\n",
    "                if math.isnan( ( x_train[row,col,thr] - np.min( x_train[:,col,thr])) / (np.max( x_train[:,col,thr]) -  np.min(x_train[:,col])) ) == True:\n",
    "                    x_train[row,col,thr] = 0\n",
    "                else:\n",
    "                    x_train[row,col,thr] = ( x_train[row,col,thr] - np.min( x_train[:,col,thr])) / (np.max( x_train[:,col,thr]) -  np.min(x_train[:,col]))\n",
    "               \n",
    "                    \n",
    "    return(x_train)            \n"
   ]
  },
  {
   "cell_type": "markdown",
   "metadata": {},
   "source": [
    "## LSTM Time!\n",
    "\n",
    "Now that we have our input data and targets we can use these to split into test and training data set, then run them through an LSTM neural network"
   ]
  },
  {
   "cell_type": "code",
   "execution_count": 266,
   "metadata": {
    "collapsed": false
   },
   "outputs": [],
   "source": [
    "def test_train(inputs, targs, perc = 30):\n",
    "    '''\n",
    "    Take input and target data then split them by the given percentage ratio\n",
    "    \"percent\" must be between 1 and 50 - signalling no more training data splitting than testing \n",
    "    '''\n",
    "    N = np.shape(inputs)[0]\n",
    "    N_train = int( ((100 - perc) / 100 ) * N )\n",
    "    # train set...\n",
    "    train_i = inputs[:N_train,:,:]\n",
    "    train_t = targs[:N_train]\n",
    "    # test set...\n",
    "    test_i =  inputs[N_train+1:,:,:]\n",
    "    test_t = targs[N_train+1:]\n",
    "    \n",
    "    return(train_i,train_t,test_i,test_t)\n",
    "    "
   ]
  },
  {
   "cell_type": "code",
   "execution_count": 267,
   "metadata": {
    "collapsed": false
   },
   "outputs": [],
   "source": [
    "train_i,train_t,test_i,test_t = test_train(iz,tz, 30.0)"
   ]
  },
  {
   "cell_type": "code",
   "execution_count": 268,
   "metadata": {
    "collapsed": true
   },
   "outputs": [],
   "source": [
    "'''\n",
    "Data normalization:\n",
    "Please note that this is quite an expensive algorithm...\n",
    "'''\n",
    "trainI = np.nan_to_num(normalize(train_i) )\n",
    "testI = np.nan_to_num(normalize(test_i) )\n",
    "\n"
   ]
  },
  {
   "cell_type": "code",
   "execution_count": 269,
   "metadata": {
    "collapsed": false
   },
   "outputs": [],
   "source": [
    "train_t = np.nan_to_num(train_t)\n",
    "test_t = np.nan_to_num(test_t)\n"
   ]
  },
  {
   "cell_type": "markdown",
   "metadata": {},
   "source": [
    "### Define the LSTM Architecture"
   ]
  },
  {
   "cell_type": "code",
   "execution_count": 212,
   "metadata": {
    "collapsed": false
   },
   "outputs": [],
   "source": [
    "## keras imports \n",
    "from keras.models import Sequential\n",
    "from keras.layers import Dense, Activation, LSTM,GRU"
   ]
  },
  {
   "cell_type": "code",
   "execution_count": 270,
   "metadata": {
    "collapsed": false
   },
   "outputs": [],
   "source": [
    "in_neurons = np.shape(train_i)[2]   \n",
    "out_neurons = 1 # since regression output  \n",
    "hidden_neurons = 3 # since 6 variables encoded...\n",
    "\n",
    "model = Sequential()  \n",
    "model.add(GRU(output_dim=hidden_neurons, input_dim= in_neurons, return_sequences=False, consume_less='gpu')) \n",
    "model.add(Dense(output_dim=out_neurons, input_dim=hidden_neurons))\n",
    "model.add(Activation(\"linear\"))  \n",
    "model.compile(loss=\"mean_squared_error\", optimizer= 'rmsprop' )  \n"
   ]
  },
  {
   "cell_type": "markdown",
   "metadata": {},
   "source": [
    "### Train the Model"
   ]
  },
  {
   "cell_type": "code",
   "execution_count": null,
   "metadata": {
    "collapsed": false
   },
   "outputs": [
    {
     "name": "stdout",
     "output_type": "stream",
     "text": [
      "Train on 177 samples, validate on 10 samples\n",
      "Epoch 1/100\n",
      "177/177 [==============================] - 1s - loss: 2.2212 - val_loss: 0.9695\n",
      "Epoch 2/100\n",
      "177/177 [==============================] - 1s - loss: 1.7962 - val_loss: 0.6942\n",
      "Epoch 3/100\n",
      "177/177 [==============================] - 1s - loss: 1.4349 - val_loss: 0.4759\n",
      "Epoch 4/100\n",
      "177/177 [==============================] - 1s - loss: 1.1431 - val_loss: 0.3208\n",
      "Epoch 5/100\n",
      "177/177 [==============================] - 1s - loss: 0.9194 - val_loss: 0.2188\n",
      "Epoch 6/100\n",
      "177/177 [==============================] - 1s - loss: 0.7579 - val_loss: 0.1671\n",
      "Epoch 7/100\n",
      "177/177 [==============================] - 1s - loss: 0.6558 - val_loss: 0.1521\n",
      "Epoch 8/100\n",
      "177/177 [==============================] - 1s - loss: 0.5958 - val_loss: 0.1598\n",
      "Epoch 9/100\n",
      "177/177 [==============================] - 1s - loss: 0.5661 - val_loss: 0.1764\n",
      "Epoch 10/100\n",
      "177/177 [==============================] - 1s - loss: 0.5542 - val_loss: 0.1894\n",
      "Epoch 11/100\n",
      "177/177 [==============================] - 1s - loss: 0.5498 - val_loss: 0.1959\n",
      "Epoch 12/100\n",
      "177/177 [==============================] - 1s - loss: 0.5480 - val_loss: 0.2033\n",
      "Epoch 13/100\n",
      "177/177 [==============================] - 1s - loss: 0.5450 - val_loss: 0.2162\n",
      "Epoch 14/100\n",
      "177/177 [==============================] - 1s - loss: 0.5446 - val_loss: 0.2179\n",
      "Epoch 15/100\n",
      "177/177 [==============================] - 1s - loss: 0.5441 - val_loss: 0.2152\n",
      "Epoch 16/100\n",
      "177/177 [==============================] - 1s - loss: 0.5429 - val_loss: 0.2181\n",
      "Epoch 17/100\n",
      "177/177 [==============================] - 1s - loss: 0.5418 - val_loss: 0.2149\n",
      "Epoch 18/100\n",
      "177/177 [==============================] - 1s - loss: 0.5418 - val_loss: 0.2119\n",
      "Epoch 19/100\n",
      "177/177 [==============================] - 1s - loss: 0.5408 - val_loss: 0.2177\n",
      "Epoch 20/100\n",
      "177/177 [==============================] - 1s - loss: 0.5393 - val_loss: 0.2272\n",
      "Epoch 21/100\n",
      "177/177 [==============================] - 1s - loss: 0.5387 - val_loss: 0.2193\n",
      "Epoch 22/100\n",
      "177/177 [==============================] - 1s - loss: 0.5378 - val_loss: 0.2222\n",
      "Epoch 23/100\n",
      "177/177 [==============================] - 1s - loss: 0.5381 - val_loss: 0.2223\n",
      "Epoch 24/100\n",
      "177/177 [==============================] - 1s - loss: 0.5365 - val_loss: 0.2229\n",
      "Epoch 25/100\n",
      "177/177 [==============================] - 1s - loss: 0.5367 - val_loss: 0.2183\n",
      "Epoch 26/100\n",
      "177/177 [==============================] - 1s - loss: 0.5351 - val_loss: 0.2182\n",
      "Epoch 27/100\n",
      "177/177 [==============================] - 1s - loss: 0.5335 - val_loss: 0.2153\n",
      "Epoch 28/100\n",
      "177/177 [==============================] - 1s - loss: 0.5344 - val_loss: 0.2209\n",
      "Epoch 29/100\n",
      "177/177 [==============================] - 1s - loss: 0.5322 - val_loss: 0.2199\n",
      "Epoch 30/100\n",
      "177/177 [==============================] - 1s - loss: 0.5325 - val_loss: 0.2204\n",
      "Epoch 31/100\n",
      "177/177 [==============================] - 1s - loss: 0.5291 - val_loss: 0.2135\n",
      "Epoch 32/100\n",
      "177/177 [==============================] - 1s - loss: 0.5315 - val_loss: 0.2138\n",
      "Epoch 33/100\n",
      "177/177 [==============================] - 1s - loss: 0.5295 - val_loss: 0.2202\n",
      "Epoch 34/100\n",
      "177/177 [==============================] - 1s - loss: 0.5282 - val_loss: 0.2295\n",
      "Epoch 35/100\n",
      "177/177 [==============================] - 1s - loss: 0.5268 - val_loss: 0.2265\n",
      "Epoch 36/100\n",
      "177/177 [==============================] - 1s - loss: 0.5274 - val_loss: 0.2320\n",
      "Epoch 37/100\n",
      "177/177 [==============================] - 1s - loss: 0.5257 - val_loss: 0.2365\n",
      "Epoch 38/100\n",
      "177/177 [==============================] - 1s - loss: 0.5248 - val_loss: 0.2335\n",
      "Epoch 39/100\n",
      "177/177 [==============================] - 1s - loss: 0.5237 - val_loss: 0.2395\n",
      "Epoch 40/100\n",
      "177/177 [==============================] - 1s - loss: 0.5227 - val_loss: 0.2315\n",
      "Epoch 41/100\n",
      "177/177 [==============================] - 1s - loss: 0.5233 - val_loss: 0.2367\n",
      "Epoch 42/100\n",
      "177/177 [==============================] - 1s - loss: 0.5219 - val_loss: 0.2389\n",
      "Epoch 43/100\n",
      "177/177 [==============================] - 1s - loss: 0.5205 - val_loss: 0.2421\n",
      "Epoch 44/100\n",
      "177/177 [==============================] - 1s - loss: 0.5203 - val_loss: 0.2376\n",
      "Epoch 45/100\n",
      "177/177 [==============================] - 1s - loss: 0.5194 - val_loss: 0.2374\n",
      "Epoch 46/100\n",
      "177/177 [==============================] - 1s - loss: 0.5190 - val_loss: 0.2375\n",
      "Epoch 47/100\n",
      "177/177 [==============================] - 1s - loss: 0.5186 - val_loss: 0.2405\n",
      "Epoch 48/100\n",
      "177/177 [==============================] - 1s - loss: 0.5173 - val_loss: 0.2386\n",
      "Epoch 49/100\n",
      "177/177 [==============================] - 1s - loss: 0.5175 - val_loss: 0.2404\n",
      "Epoch 50/100\n",
      "177/177 [==============================] - 1s - loss: 0.5162 - val_loss: 0.2364\n",
      "Epoch 51/100\n",
      "177/177 [==============================] - 1s - loss: 0.5159 - val_loss: 0.2406\n",
      "Epoch 52/100\n",
      "177/177 [==============================] - 2s - loss: 0.5149 - val_loss: 0.2462\n",
      "Epoch 53/100\n",
      "177/177 [==============================] - 2s - loss: 0.5145 - val_loss: 0.2442\n",
      "Epoch 54/100\n",
      "177/177 [==============================] - 2s - loss: 0.5137 - val_loss: 0.2438\n",
      "Epoch 55/100\n",
      "177/177 [==============================] - 1s - loss: 0.5119 - val_loss: 0.2536\n",
      "Epoch 56/100\n",
      "177/177 [==============================] - 1s - loss: 0.5132 - val_loss: 0.2512\n",
      "Epoch 57/100\n",
      "177/177 [==============================] - 1s - loss: 0.5113 - val_loss: 0.2436\n",
      "Epoch 58/100\n",
      "177/177 [==============================] - 1s - loss: 0.5117 - val_loss: 0.2482\n",
      "Epoch 59/100\n",
      "177/177 [==============================] - 1s - loss: 0.5110 - val_loss: 0.2525\n",
      "Epoch 60/100\n",
      "177/177 [==============================] - 1s - loss: 0.5096 - val_loss: 0.2480\n",
      "Epoch 61/100\n",
      "177/177 [==============================] - 1s - loss: 0.5094 - val_loss: 0.2425\n",
      "Epoch 62/100\n",
      "177/177 [==============================] - 1s - loss: 0.5082 - val_loss: 0.2518\n",
      "Epoch 63/100\n",
      "177/177 [==============================] - 2s - loss: 0.5078 - val_loss: 0.2594\n",
      "Epoch 64/100\n",
      "177/177 [==============================] - 2s - loss: 0.5073 - val_loss: 0.2524\n",
      "Epoch 65/100\n",
      "177/177 [==============================] - 1s - loss: 0.5075 - val_loss: 0.2546\n",
      "Epoch 66/100\n",
      "177/177 [==============================] - 1s - loss: 0.5069 - val_loss: 0.2513\n",
      "Epoch 67/100\n",
      "177/177 [==============================] - 1s - loss: 0.5061 - val_loss: 0.2512\n",
      "Epoch 68/100\n",
      "177/177 [==============================] - 1s - loss: 0.5050 - val_loss: 0.2518\n",
      "Epoch 69/100\n",
      " 90/177 [==============>...............] - ETA: 0s - loss: 0.5196"
     ]
    }
   ],
   "source": [
    "model.fit(trainI, np.array(train_t) , batch_size=10, nb_epoch = 100, validation_split=0.05)  \n"
   ]
  },
  {
   "cell_type": "code",
   "execution_count": 257,
   "metadata": {
    "collapsed": true
   },
   "outputs": [],
   "source": [
    "'''\n",
    "Time to predict some stuff LOL... :P\n",
    "'''\n",
    "\n",
    "predicted = model.predict(testI)  \n",
    "rmse = np.sqrt(((predicted - test_t) ** 2).mean(axis=0))\n"
   ]
  },
  {
   "cell_type": "code",
   "execution_count": 258,
   "metadata": {
    "collapsed": false
   },
   "outputs": [
    {
     "data": {
      "text/plain": [
       "[<matplotlib.lines.Line2D at 0x7fd433ecfc18>]"
      ]
     },
     "execution_count": 258,
     "metadata": {},
     "output_type": "execute_result"
    },
    {
     "data": {
      "image/png": "[encoded data removed]",
      "text/plain": [
       "<matplotlib.figure.Figure at 0x7fd433f08048>"
      ]
     },
     "metadata": {},
     "output_type": "display_data"
    }
   ],
   "source": [
    "''' PREDICTIONS OF TRAINING DATA: '''\n",
    "pred2 = model.predict(trainI)\n",
    "%matplotlib inline\n",
    "import matplotlib.pyplot as plt\n",
    "fig, ax = plt.subplots()\n",
    "\n",
    "ax.plot(pd.DataFrame(train_t[:len(pred2)-2]))\n",
    "ax.plot(pd.DataFrame(pred2[:len(pred2)-2]))\n"
   ]
  },
  {
   "cell_type": "markdown",
   "metadata": {},
   "source": [
    "# Plotting predicted Form vs Real\n",
    "\n",
    "Blue is the real, green is predicted"
   ]
  },
  {
   "cell_type": "code",
   "execution_count": 259,
   "metadata": {
    "collapsed": false
   },
   "outputs": [
    {
     "data": {
      "text/plain": [
       "[<matplotlib.lines.Line2D at 0x7fd433eb0dd8>]"
      ]
     },
     "execution_count": 259,
     "metadata": {},
     "output_type": "execute_result"
    },
    {
     "data": {
      "image/png": "[encoded data removed]",
      "text/plain": [
       "<matplotlib.figure.Figure at 0x7fd433eedf98>"
      ]
     },
     "metadata": {},
     "output_type": "display_data"
    }
   ],
   "source": [
    "''' PREDICTIONS OF TESTING DATA '''\n",
    "\n",
    "fig, ax = plt.subplots()\n",
    "ax.plot(pd.DataFrame(test_t[:len(predicted)-80]))\n",
    "ax.plot(pd.DataFrame(predicted[:len(predicted)-80]))\n"
   ]
  },
  {
   "cell_type": "code",
   "execution_count": 261,
   "metadata": {
    "collapsed": false
   },
   "outputs": [
    {
     "data": {
      "text/plain": [
       "[<matplotlib.lines.Line2D at 0x7fd433dc4630>]"
      ]
     },
     "execution_count": 261,
     "metadata": {},
     "output_type": "execute_result"
    },
    {
     "data": {
      "image/png": "[encoded data removed]",
      "text/plain": [
       "<matplotlib.figure.Figure at 0x7fd433dc4710>"
      ]
     },
     "metadata": {},
     "output_type": "display_data"
    }
   ],
   "source": [
    "''' PREDICTIONS OF TESTING DATA '''\n",
    "''' Another part...'''\n",
    "\n",
    "fig, ax = plt.subplots()\n",
    "ax.plot(pd.DataFrame(test_t[50:len(predicted)-30]))\n",
    "ax.plot(pd.DataFrame(predicted[50:len(predicted)-30])-0.5)"
   ]
  },
  {
   "cell_type": "code",
   "execution_count": 262,
   "metadata": {
    "collapsed": true
   },
   "outputs": [],
   "source": [
    "## SAVE THE MODEL:\n",
    "\n",
    "from keras.models import load_model\n",
    "\n",
    "model.save(playa+'_performance_model.h5')  # creates a HDF5 file 'my_model.h5'\n",
    "\n",
    "#del model  # deletes the existing model - uncomment when needed\n",
    "\n",
    "# returns a compiled model\n",
    "# identical to the previous one - uncomment when needed\n",
    "#model = load_model('player_performance_model.h5')"
   ]
  },
  {
   "cell_type": "code",
   "execution_count": 154,
   "metadata": {
    "collapsed": true
   },
   "outputs": [],
   "source": [
    "# load back in the model\n",
    "model = load_model('player_performance_model.h5')"
   ]
  },
  {
   "cell_type": "markdown",
   "metadata": {},
   "source": [
    "## API Demonstration\n",
    "\n",
    "Below shows some examples of uses from this API"
   ]
  },
  {
   "cell_type": "code",
   "execution_count": 17,
   "metadata": {
    "collapsed": false
   },
   "outputs": [
    {
     "name": "stdout",
     "output_type": "stream",
     "text": [
      "9.23727443252\n",
      "4.04407206672\n",
      "5.49569404148\n"
     ]
    }
   ],
   "source": [
    "# test form calculation with different scenarios...\n",
    "# this demonstrates the use of form_calc...\n",
    "'''\n",
    "good - easy win\n",
    "'''\n",
    "p1 = form_calc( K=22,D=4,TK = 23+22+13+12+13, TD = 12+10+7+11+4,TS=16,ES = 1 )\n",
    "'''\n",
    "average... (slight win) Coldzera (SK) vs fnatic...\n",
    "'''\n",
    "p2 = form_calc( K=16,D=13,TK = 23+19+20+16+15, TD = 17+13+18+11+13,TS=16,ES = 9 )\n",
    "'''\n",
    "good... (slight) win) fnx (SK) vs fnatic...\n",
    "'''\n",
    "p3 = form_calc( K=23,D=13,TK = 23+19+20+16+15, TD = 17+13+18+11+13,TS=16,ES = 9 )\n",
    "\n",
    "print(p1)\n",
    "print(p2)\n",
    "print(p3)"
   ]
  },
  {
   "cell_type": "markdown",
   "metadata": {},
   "source": [
    "#### Below it might be useful to use a lookup table of players...\n",
    "\n",
    "This can be done by the **show_players()** command...\n",
    "Which returns a frame of each player.\n",
    "\n",
    "I haven't actually made this command yet - but is on its way!"
   ]
  },
  {
   "cell_type": "code",
   "execution_count": null,
   "metadata": {
    "collapsed": true
   },
   "outputs": [],
   "source": [
    "# see the fellas we can use...\n",
    "show_players()"
   ]
  },
  {
   "cell_type": "markdown",
   "metadata": {},
   "source": [
    "### Team_score API call\n",
    "\n",
    "This is used as player name followed by their last nth match. i.e. team_score(\"Get_RiGhT\",0) shows the team information from get_right's last game... "
   ]
  },
  {
   "cell_type": "code",
   "execution_count": 34,
   "metadata": {
    "collapsed": false
   },
   "outputs": [
    {
     "name": "stdout",
     "output_type": "stream",
     "text": [
      "team score is: 16\n",
      "enemy score is: 11\n",
      "team kills are: 104.0\n",
      "team deaths are: 86.0\n"
     ]
    }
   ],
   "source": [
    "TS, ES, tk, td = team_score('GeT_RiGhT', 3)\n",
    "\n",
    "# then we can print these variables out:\n",
    "\n",
    "print('team score is:', TS )\n",
    "print('enemy score is:', ES )\n",
    "print('team kills are:', tk )\n",
    "print('team deaths are:', td)\n"
   ]
  },
  {
   "cell_type": "markdown",
   "metadata": {},
   "source": [
    "**Below needs to be turned into a function - currently just testing that the data goes into the 3 dimensional array correctly...**"
   ]
  },
  {
   "cell_type": "code",
   "execution_count": 59,
   "metadata": {
    "collapsed": false
   },
   "outputs": [],
   "source": [
    "# manually defining N T and K although they will be decided by the data we are using from \"make_inputs\"\n",
    "N = np.shape(frame)[1]\n",
    "T = N # full sized time window...\n",
    "K = 6\n",
    "#\n",
    "tens = np.zeros((N,T,K)) # iniitalizes tensor shape... (From a given 'N', and known 'T' and 'K')\n",
    "#tens[0] = np.random.randn(T,K) # this is the dataframe at first sample...\n",
    "\n",
    "'''\n",
    "basically need to generate a new dataframe for each 'N'...\n",
    "N is given by the number of time steps as well - as T\n",
    "...\n",
    "each dataframe is a TxK array of zeros (using np.zeros)\n",
    "\n",
    "'''\n",
    "\n",
    "# loop over each N:\n",
    "#i =  # for the 5th one...\n",
    "for i in range(N):\n",
    "#if True == True: # comment this out for testing...\n",
    "    # generate dataframe of zeros\n",
    "    df = np.zeros((T,K)) # this is of size T by K...\n",
    "    \n",
    "    # add for the first one...\n",
    "    df[0] = frame.ix[:,N-1] # since frame is a pandas dataframe... (from make_inputs command...)\n",
    "    \n",
    "    for j in range(1,N-i):\n",
    "        df[j] = frame.ix[:,N-i-j] # since frame is a pandas dataframe... (from make_inputs command...)\n",
    "        \n",
    "    tens[i] = df # adds to the tensor...\n"
   ]
  },
  {
   "cell_type": "markdown",
   "metadata": {},
   "source": [
    "The following cells visualise how the new tensor appears and how the the original data frame looks - there are still a few patches that need fixing..."
   ]
  },
  {
   "cell_type": "code",
   "execution_count": 8,
   "metadata": {
    "collapsed": false
   },
   "outputs": [
    {
     "ename": "NameError",
     "evalue": "name 'tens' is not defined",
     "output_type": "error",
     "traceback": [
      "\u001b[1;31m---------------------------------------------------------------------------\u001b[0m",
      "\u001b[1;31mNameError\u001b[0m                                 Traceback (most recent call last)",
      "\u001b[1;32m<ipython-input-8-d4a1f4e10216>\u001b[0m in \u001b[0;36m<module>\u001b[1;34m()\u001b[0m\n\u001b[1;32m----> 1\u001b[1;33m \u001b[0mprint\u001b[0m\u001b[1;33m(\u001b[0m\u001b[0mtens\u001b[0m\u001b[1;33m[\u001b[0m\u001b[1;36m1\u001b[0m\u001b[1;33m]\u001b[0m\u001b[1;33m)\u001b[0m\u001b[1;33m\u001b[0m\u001b[0m\n\u001b[0m",
      "\u001b[1;31mNameError\u001b[0m: name 'tens' is not defined"
     ]
    }
   ],
   "source": [
    "print(tens[1])"
   ]
  },
  {
   "cell_type": "code",
   "execution_count": 57,
   "metadata": {
    "collapsed": false
   },
   "outputs": [
    {
     "name": "stdout",
     "output_type": "stream",
     "text": [
      "         0          1          2          3          4          5    \\\n",
      "0  21.000000  15.000000  20.000000  19.000000  23.000000  23.000000   \n",
      "1   1.166667   0.833333   1.111111   1.187500   1.352941   0.958333   \n",
      "2  -4.000000   4.000000  -7.000000   5.000000   5.000000   0.000000   \n",
      "3   0.238636   0.159574   0.303030   0.182692   0.232323   0.186992   \n",
      "4   0.193548   0.246575   0.225000   0.186047   0.195402   0.258065   \n",
      "5  -0.151617   0.058826  -0.080425   0.069856   0.079588   0.345646   \n",
      "\n",
      "         6          7          8          9      ...            267       268  \\\n",
      "0  25.000000  30.000000  17.000000  14.000000    ...      10.000000  6.000000   \n",
      "1   3.571429   3.333333   0.850000   0.823529    ...       0.526316  0.272727   \n",
      "2  11.000000   9.000000  -5.000000  -9.000000    ...     -11.000000 -9.000000   \n",
      "3   0.280899   0.312500   0.202381   0.202899    ...       0.172414  0.093750   \n",
      "4   0.159091   0.121622   0.246914   0.193182    ...       0.256757  0.229167   \n",
      "5   0.105046   0.117652  -0.085516  -0.049504    ...      -0.029374 -0.016394   \n",
      "\n",
      "         269        270        271        272        273        274  \\\n",
      "0  19.000000  17.000000  15.000000  17.000000  14.000000  15.000000   \n",
      "1   0.904762   1.062500   0.750000   0.894737   2.333333   1.666667   \n",
      "2  -6.000000  -6.000000 -12.000000   3.000000   3.000000  12.000000   \n",
      "3   0.253333   0.346939   0.192308   0.158879   0.168675   0.176471   \n",
      "4   0.265823   0.216216   0.266667   0.220930   0.206897   0.169811   \n",
      "5  -0.075463  -0.088619  -0.042364   0.078951   0.205891   0.045251   \n",
      "\n",
      "         275        276  \n",
      "0  15.000000  20.000000  \n",
      "1   0.789474   1.428571  \n",
      "2  12.000000  -7.000000  \n",
      "3   0.211268   0.210526  \n",
      "4   0.215909   0.184211  \n",
      "5   0.021435  -0.103403  \n",
      "\n",
      "[6 rows x 277 columns]\n"
     ]
    }
   ],
   "source": [
    "print(frame)"
   ]
  },
  {
   "cell_type": "code",
   "execution_count": 203,
   "metadata": {
    "collapsed": false
   },
   "outputs": [
    {
     "name": "stdout",
     "output_type": "stream",
     "text": [
      "(2, 1)\n",
      "[[[1, 2], [1, 2]]]\n"
     ]
    }
   ],
   "source": [
    "#n = 1 # number of samples...\n",
    "#df = np.array(df)\n",
    "#KK = np.reshape(df,(n,np.shape(df)[1],np.shape(df)[0]) )\n",
    "#np.shape(KK)\n",
    "J = [[[[1,2],[1,2]]],[[[1,2]]]]\n",
    "J[0]\n",
    "print(np.shape(J))\n",
    "#get_tensor(df,2)\n",
    "print(J[0])\n",
    "#print(KK[0][0])"
   ]
  },
  {
   "cell_type": "code",
   "execution_count": 138,
   "metadata": {
    "collapsed": false
   },
   "outputs": [
    {
     "name": "stdout",
     "output_type": "stream",
     "text": [
      "537\n"
     ]
    }
   ],
   "source": [
    "#np.shape((player_data('GeT_RiGhT').reset_index(drop=True) ))[0]\n",
    "df = make_inputs('GeT_RiGhT')\n",
    "df.to_csv('getright data.csv') # save this to csv"
   ]
  },
  {
   "cell_type": "code",
   "execution_count": 139,
   "metadata": {
    "collapsed": false
   },
   "outputs": [],
   "source": [
    "\n",
    "\n"
   ]
  },
  {
   "cell_type": "code",
   "execution_count": 74,
   "metadata": {
    "collapsed": false
   },
   "outputs": [],
   "source": [
    "# win ratio metric:\n",
    "\n",
    "def win_ratio(team):\n",
    "    # get team data...\n",
    "    dato = team_data(team).reset_index(drop=True)\n",
    "    #print('The subset data length is:', len(dato))\n",
    "    # then iterate over every row:\n",
    "    WL = []\n",
    "    #print(np.shape(data)[0])\n",
    "    for row in range(len(dato)):\n",
    "        # print(dat.ix[row,5])    # this here jsut for testing...\n",
    "        if (dato.ix[row,5]) == team : # this is if they are the winning team - name is in the winning team col...\n",
    "            WL.append(1)\n",
    "            \n",
    "        else:\n",
    "            WL.append(0)\n",
    "            \n",
    "    #return(WL)\n",
    "    return(np.sum(WL)/len(WL), np.std(WL)) # this is the Win ratio metric... and variance (STD)\n",
    "    "
   ]
  },
  {
   "cell_type": "code",
   "execution_count": 77,
   "metadata": {
    "collapsed": false
   },
   "outputs": [
    {
     "data": {
      "text/plain": [
       "(0.60546875, 0.48874977521574114)"
      ]
     },
     "execution_count": 77,
     "metadata": {},
     "output_type": "execute_result"
    }
   ],
   "source": [
    "win_ratio('EnVyUs') # returns mean and stdev"
   ]
  },
  {
   "cell_type": "code",
   "execution_count": 96,
   "metadata": {
    "collapsed": true
   },
   "outputs": [],
   "source": [
    "# compile a lookup table of each team - unique team ID and team name...\n",
    "\n",
    "def table():\n",
    "    '''\n",
    "    This defines the total unique teams and their idx numbers...\n",
    "    '''\n",
    "    # total teams\n",
    "    teams = pd.concat([dat.ix[:,3],dat.ix[:,4]])\n",
    "    teams= teams.reset_index(drop=True)\n",
    "    teams = pd.DataFrame(pd.unique(teams))\n",
    "    print(teams)"
   ]
  },
  {
   "cell_type": "code",
   "execution_count": 97,
   "metadata": {
    "collapsed": false
   },
   "outputs": [
    {
     "name": "stdout",
     "output_type": "stream",
     "text": [
      "                      0\n",
      "0                sylloM\n",
      "1          Epsilon Hype\n",
      "2             Fragsport\n",
      "3       ALTERNATE aTTaX\n",
      "4                  LDLC\n",
      "5              NiceShot\n",
      "6                  ENCE\n",
      "7               Epsilon\n",
      "8                fnatic\n",
      "9                    SK\n",
      "10          Preparation\n",
      "11                   G2\n",
      "12         dream[S]cape\n",
      "13        Natus Vincere\n",
      "14              B.O.O.T\n",
      "15             dignitas\n",
      "16          AVANT GARDE\n",
      "17                  NiP\n",
      "18            Athletico\n",
      "19                 New4\n",
      "20          HellRaisers\n",
      "21          VG.CyberZen\n",
      "22              onestop\n",
      "23               Exile5\n",
      "24           Virtus.pro\n",
      "25                TyLoo\n",
      "26            iGame.com\n",
      "27             FlipSid3\n",
      "28                 k1ck\n",
      "29            Immortals\n",
      "...                 ...\n",
      "1331     kRoGhs KanonEr\n",
      "1332           MIXERINO\n",
      "1333            madjicK\n",
      "1334   Eternal Conflict\n",
      "1335       The Flying V\n",
      "1336          Deponeret\n",
      "1337            Vikings\n",
      "1338            DEMGUNZ\n",
      "1339   kassad's Legends\n",
      "1340               WiLD\n",
      "1341           ZajebaNi\n",
      "1342       Clutchit.org\n",
      "1343    Hitbox.tv Staff\n",
      "1344  Russian eSF Staff\n",
      "1345       ProGaming.TD\n",
      "1346            Katrina\n",
      "1347            UNNAMED\n",
      "1348              Faith\n",
      "1349       fAlsu's team\n",
      "1350          GL SHAKER\n",
      "1351           GGWP.pro\n",
      "1352     Cyborg Factory\n",
      "1353           Outbreak\n",
      "1354              ZYLEX\n",
      "1355              fusd0\n",
      "1356            EZpeezy\n",
      "1357             Armata\n",
      "1358              Cytik\n",
      "1359          Imaginary\n",
      "1360      Faroe Islands\n",
      "\n",
      "[1361 rows x 1 columns]\n"
     ]
    }
   ],
   "source": [
    "table()"
   ]
  },
  {
   "cell_type": "code",
   "execution_count": null,
   "metadata": {
    "collapsed": true
   },
   "outputs": [],
   "source": []
  }
 ],
 "metadata": {
  "anaconda-cloud": {},
  "kernelspec": {
   "display_name": "Python [Root]",
   "language": "python",
   "name": "Python [Root]"
  },
  "language_info": {
   "codemirror_mode": {
    "name": "ipython",
    "version": 3
   },
   "file_extension": ".py",
   "mimetype": "text/x-python",
   "name": "python",
   "nbconvert_exporter": "python",
   "pygments_lexer": "ipython3",
   "version": "3.5.2"
  }
 },
 "nbformat": 4,
 "nbformat_minor": 0
}
